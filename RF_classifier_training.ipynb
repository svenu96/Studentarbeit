{
  "cells": [
    {
      "cell_type": "code",
      "execution_count": 95,
      "metadata": {
        "id": "bJb5wuuOfUYQ"
      },
      "outputs": [],
      "source": [
        "#importing libraries required for the project\n",
        "import os\n",
        "import pandas as pd\n",
        "import numpy as np\n",
        "from scipy.stats import mode\n",
        "from sklearn.model_selection import train_test_split\n",
        "from sklearn.ensemble import RandomForestClassifier\n",
        "from sklearn.metrics import accuracy_score, f1_score\n",
        "import matplotlib.pyplot as plt\n",
        "from imblearn.over_sampling import SMOTE\n",
        "from imblearn.under_sampling import RandomUnderSampler\n",
        "import seaborn as sns\n",
        "from sklearn.metrics import confusion_matrix\n",
        "from sklearn.metrics import classification_report\n"
      ]
    },
    {
      "cell_type": "markdown",
      "metadata": {},
      "source": [
        "Reading and processing data"
      ]
    },
    {
      "cell_type": "code",
      "execution_count": 150,
      "metadata": {
        "colab": {
          "base_uri": "https://localhost:8080/"
        },
        "id": "_Wlh_oVnfg28",
        "outputId": "5b2844ed-6f73-40b0-aad2-2d2a4b31f5d6"
      },
      "outputs": [],
      "source": [
        "#from google.colab import drive\n",
        "#drive.mount('/content/drive')"
      ]
    },
    {
      "cell_type": "code",
      "execution_count": 151,
      "metadata": {
        "id": "iMgHsXOBfYRU"
      },
      "outputs": [],
      "source": [
        "# Define folders containing the CSV files\n",
        "folder = 'D:/Project_hand_washing/task_plot_creation/new_dataset.csv'"
      ]
    },
    {
      "cell_type": "code",
      "execution_count": 152,
      "metadata": {
        "id": "7jzerkB5gq5f"
      },
      "outputs": [],
      "source": [
        "df = pd.read_csv(folder)"
      ]
    },
    {
      "cell_type": "code",
      "execution_count": 153,
      "metadata": {
        "colab": {
          "base_uri": "https://localhost:8080/"
        },
        "id": "NyqlbtKKtbyK",
        "outputId": "66033099-0106-4085-cbf9-4b7da2dc8578"
      },
      "outputs": [
        {
          "name": "stdout",
          "output_type": "stream",
          "text": [
            "            acc x     acc y     acc z    gyro x    gyro y    gyro z  relabeled\n",
            "0       -6.782696  1.578318  7.173084  0.458149 -0.781907  0.763581          0\n",
            "1       -6.387518  1.374741  7.199429  0.293215 -0.707382  0.879646          0\n",
            "2       -6.526429  1.161585  6.852151  0.466701 -0.687834  1.080009          0\n",
            "3       -6.924002  1.223855  6.193520  0.597426 -1.149648  1.464854          0\n",
            "4       -7.522757  1.537603  6.940767  0.481362 -1.860695  1.671327          0\n",
            "...           ...       ...       ...       ...       ...       ...        ...\n",
            "1048570  2.864444 -9.477093  0.704136  2.812422 -0.388510  0.452040          0\n",
            "1048571  3.149451 -8.945398  0.361648  4.065918 -0.375071  0.755029          0\n",
            "1048572  3.376978 -9.326206  0.263452  3.673742 -0.149051  0.905302          0\n",
            "1048573  3.113526 -9.558523  0.399968  2.524094  0.403171  1.241278          0\n",
            "1048574  2.725532 -9.659114  0.524509  1.321912  1.042136  1.183856          0\n",
            "\n",
            "[1048575 rows x 7 columns]\n"
          ]
        }
      ],
      "source": [
        "mf = pd.DataFrame(df)\n",
        "columns_to_remove = ['timestamp', 'datetime', 'compulsive', 'user yes/no', 'urge', 'tense', 'ignore']\n",
        "filtered_data = mf.drop(columns=columns_to_remove)\n",
        "print(filtered_data)"
      ]
    },
    {
      "cell_type": "code",
      "execution_count": 62,
      "metadata": {
        "colab": {
          "base_uri": "https://localhost:8080/"
        },
        "id": "ZqB3Hiu3zJWS",
        "outputId": "15800fc9-83fa-4a54-a15b-4a96b3045646"
      },
      "outputs": [
        {
          "name": "stdout",
          "output_type": "stream",
          "text": [
            "acc x        1048575\n",
            "acc y        1048575\n",
            "acc z        1048575\n",
            "gyro x       1048575\n",
            "gyro y       1048575\n",
            "gyro z       1048575\n",
            "relabeled    1048575\n",
            "dtype: int64\n"
          ]
        }
      ],
      "source": [
        "values = filtered_data.count()\n",
        "print(values)"
      ]
    },
    {
      "cell_type": "code",
      "execution_count": 154,
      "metadata": {
        "colab": {
          "base_uri": "https://localhost:8080/"
        },
        "id": "EWAETKivoB4E",
        "outputId": "0b1d8fda-1d4a-43f6-bfb4-0335fd811eed"
      },
      "outputs": [
        {
          "name": "stdout",
          "output_type": "stream",
          "text": [
            "            acc x     acc y     acc z    gyro x    gyro y    gyro z  relabeled\n",
            "0       -6.782696  1.578318  7.173084  0.458149 -0.781907  0.763581          0\n",
            "1       -6.387518  1.374741  7.199429  0.293215 -0.707382  0.879646          0\n",
            "2       -6.526429  1.161585  6.852151  0.466701 -0.687834  1.080009          0\n",
            "3       -6.924002  1.223855  6.193520  0.597426 -1.149648  1.464854          0\n",
            "4       -7.522757  1.537603  6.940767  0.481362 -1.860695  1.671327          0\n",
            "...           ...       ...       ...       ...       ...       ...        ...\n",
            "1048570  2.864444 -9.477093  0.704136  2.812422 -0.388510  0.452040          0\n",
            "1048571  3.149451 -8.945398  0.361648  4.065918 -0.375071  0.755029          0\n",
            "1048572  3.376978 -9.326206  0.263452  3.673742 -0.149051  0.905302          0\n",
            "1048573  3.113526 -9.558523  0.399968  2.524094  0.403171  1.241278          0\n",
            "1048574  2.725532 -9.659114  0.524509  1.321912  1.042136  1.183856          0\n",
            "\n",
            "[1048575 rows x 7 columns]\n"
          ]
        }
      ],
      "source": [
        "print(filtered_data)"
      ]
    },
    {
      "cell_type": "code",
      "execution_count": null,
      "metadata": {
        "colab": {
          "base_uri": "https://localhost:8080/",
          "height": 913
        },
        "id": "E-5R7_eszOTC",
        "outputId": "5449ca6b-6250-404b-8fc5-5ff97540b0b4"
      },
      "outputs": [],
      "source": [
        "# Create a figure and axis\n",
        "fig, ax = plt.subplots(figsize=(10, 6))\n",
        "\n",
        "# Plot accelerometer data\n",
        "ax.plot(mf['timestamp'], mf['acc x'], label='Acc X')\n",
        "ax.plot(mf['timestamp'], mf['acc y'], label='Acc Y')\n",
        "ax.plot(mf['timestamp'], mf['acc z'], label='Acc Z')\n",
        "\n",
        "# Markers for routine/compulsive behavior\n",
        "for index, row in mf.iterrows():\n",
        "    color = 'b' #if row['compulsive'] == 0 else 'r'\n",
        "    marker = 'o' #if row['compulsive'] == 0 else 'x'\n",
        "    ax.scatter(row['timestamp'], row['acc x'], color=color, marker=marker)\n",
        "\n",
        "# Set labels and title\n",
        "ax.set_xlabel('Timestamp')\n",
        "ax.set_ylabel('Accelerometer Data')\n",
        "ax.set_title('Handwash Event')\n",
        "\n",
        "# Add a legend\n",
        "ax.legend()\n",
        "\n",
        "# Display the plot\n",
        "plt.show()"
      ]
    },
    {
      "cell_type": "code",
      "execution_count": 155,
      "metadata": {
        "id": "AhgANLf62YGZ"
      },
      "outputs": [],
      "source": [
        "# choosing relabeled as label value\n",
        "filtered_data['label'] = filtered_data['relabeled']  # Create a 'label' column for majority voting"
      ]
    },
    {
      "cell_type": "code",
      "execution_count": 156,
      "metadata": {
        "colab": {
          "base_uri": "https://localhost:8080/"
        },
        "id": "tk1Pk_x1PVPH",
        "outputId": "57964bc4-015e-4fbf-d76a-c35f9ca22a0a"
      },
      "outputs": [
        {
          "name": "stdout",
          "output_type": "stream",
          "text": [
            "1035268\n",
            "7604\n",
            "5703\n"
          ]
        }
      ],
      "source": [
        "label_counts = filtered_data['label'].value_counts()\n",
        "count_label_0 = label_counts.get(0, 0)  # Count of label 0, default to 0 if not found\n",
        "count_label_1 = label_counts.get(1, 0)  # Count of label 1, default to 0 if not found\n",
        "count_label_2 = label_counts.get(2, 0)  # Count of label 2, default to 0 if not found\n",
        "\n",
        "print(count_label_0)\n",
        "print(count_label_1)\n",
        "print(count_label_2)"
      ]
    },
    {
      "cell_type": "code",
      "execution_count": 1,
      "metadata": {},
      "outputs": [
        {
          "ename": "NameError",
          "evalue": "name 'train_test_split' is not defined",
          "output_type": "error",
          "traceback": [
            "\u001b[1;31m---------------------------------------------------------------------------\u001b[0m",
            "\u001b[1;31mNameError\u001b[0m                                 Traceback (most recent call last)",
            "Cell \u001b[1;32mIn[1], line 2\u001b[0m\n\u001b[0;32m      1\u001b[0m \u001b[39m# Split data into train and test sets\u001b[39;00m\n\u001b[1;32m----> 2\u001b[0m train_data, test_data \u001b[39m=\u001b[39m train_test_split(filtered_data, test_size\u001b[39m=\u001b[39m\u001b[39m0.4\u001b[39m, random_state\u001b[39m=\u001b[39m\u001b[39m42\u001b[39m)\n\u001b[0;32m      3\u001b[0m \u001b[39mprint\u001b[39m(\u001b[39mf\u001b[39m\u001b[39m\"\u001b[39m\u001b[39mNumber of train DataFrames: \u001b[39m\u001b[39m{\u001b[39;00m\u001b[39mlen\u001b[39m(train_data)\u001b[39m}\u001b[39;00m\u001b[39m\"\u001b[39m)\n\u001b[0;32m      4\u001b[0m \u001b[39mprint\u001b[39m(\u001b[39mf\u001b[39m\u001b[39m\"\u001b[39m\u001b[39mNumber of test DataFrames: \u001b[39m\u001b[39m{\u001b[39;00m\u001b[39mlen\u001b[39m(test_data)\u001b[39m}\u001b[39;00m\u001b[39m\"\u001b[39m)\n",
            "\u001b[1;31mNameError\u001b[0m: name 'train_test_split' is not defined"
          ]
        }
      ],
      "source": [
        "# Split data into train and test sets\n",
        "train_data, test_data = train_test_split(filtered_data, test_size=0.4, random_state=42)\n",
        "print(f\"Number of train DataFrames: {len(train_data)}\")\n",
        "print(f\"Number of test DataFrames: {len(test_data)}\")"
      ]
    },
    {
      "cell_type": "markdown",
      "metadata": {},
      "source": [
        "Data Preprocessing using undersampler"
      ]
    },
    {
      "cell_type": "code",
      "execution_count": 172,
      "metadata": {
        "id": "1i1CB9P7PySX"
      },
      "outputs": [
        {
          "name": "stdout",
          "output_type": "stream",
          "text": [
            "acc x        10326\n",
            "acc y        10326\n",
            "acc z        10326\n",
            "gyro x       10326\n",
            "gyro y       10326\n",
            "gyro z       10326\n",
            "relabeled    10326\n",
            "label        10326\n",
            "dtype: int64\n",
            "0    3442\n",
            "1    3442\n",
            "2    3442\n",
            "Name: label, dtype: int64\n"
          ]
        }
      ],
      "source": [
        "undersampler = RandomUnderSampler(sampling_strategy='not minority', random_state=44)\n",
        "X_label_0_undersampled, y_label_0_undersampled = undersampler.fit_resample(train_data.iloc[:, :-1], train_data['label'])\n",
        "# Create a new dataFrame with the undersampled data\n",
        "undersampled_data = pd.DataFrame(X_label_0_undersampled, columns=filtered_data.columns[:-1])\n",
        "undersampled_data['label'] = y_label_0_undersampled\n",
        "values = undersampled_data.count()\n",
        "print(values)\n",
        "# Verify the class distribution\n",
        "undersampled_label_counts = undersampled_data['label'].value_counts()\n",
        "print(undersampled_label_counts)"
      ]
    },
    {
      "cell_type": "code",
      "execution_count": 173,
      "metadata": {
        "colab": {
          "base_uri": "https://localhost:8080/",
          "height": 507
        },
        "id": "VfafaNMCQIQx",
        "outputId": "2fbfa4ef-4add-4307-c536-29a2fbc1c34d"
      },
      "outputs": [
        {
          "data": {
            "image/png": "[encoded data removed]",
            "text/plain": [
              "<Figure size 1200x500 with 2 Axes>"
            ]
          },
          "metadata": {},
          "output_type": "display_data"
        }
      ],
      "source": [
        "# Plot the data distribution before and after undersampling\n",
        "plt.figure(figsize=(12, 5))\n",
        "\n",
        "# Plot before undersampling\n",
        "plt.subplot(1, 2, 1)\n",
        "sns.countplot(data=filtered_data, x='label')\n",
        "plt.title('Data Distribution Before Undersampling')\n",
        "\n",
        "# Plot after undersampling\n",
        "plt.subplot(1, 2, 2)\n",
        "sns.countplot(data=undersampled_data, x='label')\n",
        "plt.title('Data Distribution After Undersampling')\n",
        "\n",
        "plt.tight_layout()\n",
        "plt.show()"
      ]
    },
    {
      "cell_type": "markdown",
      "metadata": {},
      "source": [
        "Splitting Preprocessed data into train and test set"
      ]
    },
    {
      "cell_type": "code",
      "execution_count": 174,
      "metadata": {
        "id": "hD-xyaYU2xQa"
      },
      "outputs": [],
      "source": [
        "# Define window size\n",
        "window_size = 150\n",
        "step_size = 50\n",
        "# Initialize lists to store windowed data and labels\n",
        "train_windows = []\n",
        "train_labels = []\n",
        "test_windows = []\n",
        "test_labels = []\n",
        "i=0"
      ]
    },
    {
      "cell_type": "code",
      "execution_count": 175,
      "metadata": {
        "id": "D_yBTlXNyFel"
      },
      "outputs": [],
      "source": [
        "# Generate windows and labels using a sliding window approach\n",
        "for i in range(0,len(train_data)-window_size+1,step_size):\n",
        "    window = train_data.iloc[i:i+window_size, :-1]  # Select only sensor axes columns\n",
        "    train_windows.append(window)\n",
        "    label_window = train_data.iloc[i:i+window_size, -1]  # Select the label column for majority voting\n",
        "    majority_label = np.bincount(label_window).argmax()  # Majority voting\n",
        "    train_labels.append(majority_label)"
      ]
    },
    {
      "cell_type": "code",
      "execution_count": 176,
      "metadata": {
        "id": "FkecJMwV-KqF"
      },
      "outputs": [],
      "source": [
        "# Convert lists to numpy arrays\n",
        "train_windows = np.array(train_windows)\n",
        "train_labels = np.array(train_labels)\n",
        "# Flatten the sensor axes data in each window\n",
        "train_windows = train_windows.reshape(train_windows.shape[0], -1)"
      ]
    },
    {
      "cell_type": "code",
      "execution_count": 177,
      "metadata": {
        "colab": {
          "base_uri": "https://localhost:8080/",
          "height": 74
        },
        "id": "KQKsaF9P-Tue",
        "outputId": "15c656e7-7a41-4f94-91ec-14b50c281460"
      },
      "outputs": [
        {
          "data": {
            "text/html": [
              "<style>#sk-container-id-10 {color: black;}#sk-container-id-10 pre{padding: 0;}#sk-container-id-10 div.sk-toggleable {background-color: white;}#sk-container-id-10 label.sk-toggleable__label {cursor: pointer;display: block;width: 100%;margin-bottom: 0;padding: 0.3em;box-sizing: border-box;text-align: center;}#sk-container-id-10 label.sk-toggleable__label-arrow:before {content: \"▸\";float: left;margin-right: 0.25em;color: #696969;}#sk-container-id-10 label.sk-toggleable__label-arrow:hover:before {color: black;}#sk-container-id-10 div.sk-estimator:hover label.sk-toggleable__label-arrow:before {color: black;}#sk-container-id-10 div.sk-toggleable__content {max-height: 0;max-width: 0;overflow: hidden;text-align: left;background-color: #f0f8ff;}#sk-container-id-10 div.sk-toggleable__content pre {margin: 0.2em;color: black;border-radius: 0.25em;background-color: #f0f8ff;}#sk-container-id-10 input.sk-toggleable__control:checked~div.sk-toggleable__content {max-height: 200px;max-width: 100%;overflow: auto;}#sk-container-id-10 input.sk-toggleable__control:checked~label.sk-toggleable__label-arrow:before {content: \"▾\";}#sk-container-id-10 div.sk-estimator input.sk-toggleable__control:checked~label.sk-toggleable__label {background-color: #d4ebff;}#sk-container-id-10 div.sk-label input.sk-toggleable__control:checked~label.sk-toggleable__label {background-color: #d4ebff;}#sk-container-id-10 input.sk-hidden--visually {border: 0;clip: rect(1px 1px 1px 1px);clip: rect(1px, 1px, 1px, 1px);height: 1px;margin: -1px;overflow: hidden;padding: 0;position: absolute;width: 1px;}#sk-container-id-10 div.sk-estimator {font-family: monospace;background-color: #f0f8ff;border: 1px dotted black;border-radius: 0.25em;box-sizing: border-box;margin-bottom: 0.5em;}#sk-container-id-10 div.sk-estimator:hover {background-color: #d4ebff;}#sk-container-id-10 div.sk-parallel-item::after {content: \"\";width: 100%;border-bottom: 1px solid gray;flex-grow: 1;}#sk-container-id-10 div.sk-label:hover label.sk-toggleable__label {background-color: #d4ebff;}#sk-container-id-10 div.sk-serial::before {content: \"\";position: absolute;border-left: 1px solid gray;box-sizing: border-box;top: 0;bottom: 0;left: 50%;z-index: 0;}#sk-container-id-10 div.sk-serial {display: flex;flex-direction: column;align-items: center;background-color: white;padding-right: 0.2em;padding-left: 0.2em;position: relative;}#sk-container-id-10 div.sk-item {position: relative;z-index: 1;}#sk-container-id-10 div.sk-parallel {display: flex;align-items: stretch;justify-content: center;background-color: white;position: relative;}#sk-container-id-10 div.sk-item::before, #sk-container-id-10 div.sk-parallel-item::before {content: \"\";position: absolute;border-left: 1px solid gray;box-sizing: border-box;top: 0;bottom: 0;left: 50%;z-index: -1;}#sk-container-id-10 div.sk-parallel-item {display: flex;flex-direction: column;z-index: 1;position: relative;background-color: white;}#sk-container-id-10 div.sk-parallel-item:first-child::after {align-self: flex-end;width: 50%;}#sk-container-id-10 div.sk-parallel-item:last-child::after {align-self: flex-start;width: 50%;}#sk-container-id-10 div.sk-parallel-item:only-child::after {width: 0;}#sk-container-id-10 div.sk-dashed-wrapped {border: 1px dashed gray;margin: 0 0.4em 0.5em 0.4em;box-sizing: border-box;padding-bottom: 0.4em;background-color: white;}#sk-container-id-10 div.sk-label label {font-family: monospace;font-weight: bold;display: inline-block;line-height: 1.2em;}#sk-container-id-10 div.sk-label-container {text-align: center;}#sk-container-id-10 div.sk-container {/* jupyter's `normalize.less` sets `[hidden] { display: none; }` but bootstrap.min.css set `[hidden] { display: none !important; }` so we also need the `!important` here to be able to override the default hidden behavior on the sphinx rendered scikit-learn.org. See: https://github.com/scikit-learn/scikit-learn/issues/21755 */display: inline-block !important;position: relative;}#sk-container-id-10 div.sk-text-repr-fallback {display: none;}</style><div id=\"sk-container-id-10\" class=\"sk-top-container\"><div class=\"sk-text-repr-fallback\"><pre>RandomForestClassifier(max_depth=5, random_state=1)</pre><b>In a Jupyter environment, please rerun this cell to show the HTML representation or trust the notebook. <br />On GitHub, the HTML representation is unable to render, please try loading this page with nbviewer.org.</b></div><div class=\"sk-container\" hidden><div class=\"sk-item\"><div class=\"sk-estimator sk-toggleable\"><input class=\"sk-toggleable__control sk-hidden--visually\" id=\"sk-estimator-id-10\" type=\"checkbox\" checked><label for=\"sk-estimator-id-10\" class=\"sk-toggleable__label sk-toggleable__label-arrow\">RandomForestClassifier</label><div class=\"sk-toggleable__content\"><pre>RandomForestClassifier(max_depth=5, random_state=1)</pre></div></div></div></div></div>"
            ],
            "text/plain": [
              "RandomForestClassifier(max_depth=5, random_state=1)"
            ]
          },
          "execution_count": 177,
          "metadata": {},
          "output_type": "execute_result"
        }
      ],
      "source": [
        "clf = RandomForestClassifier(n_estimators=100,max_depth=5, random_state=1)\n",
        "clf.fit(train_windows, train_labels)"
      ]
    },
    {
      "cell_type": "code",
      "execution_count": 178,
      "metadata": {
        "id": "f3BuVBlM1cOC"
      },
      "outputs": [],
      "source": [
        "# Generate windows and labels using a sliding window approach\n",
        "#for i in range(0, len(train_data) - window_size + 1):\n",
        "for i in range(0,len(test_data)-window_size+1, step_size):\n",
        "    window = test_data.iloc[i:i+window_size, :-1]  # Select only sensor axes columns\n",
        "    test_windows.append(window)\n",
        "    label_window = test_data.iloc[i:i+window_size, -1]  # Select the label column for majority voting\n",
        "    majority_label = np.bincount(label_window).argmax()  # Majority voting\n",
        "    test_labels.append(majority_label)"
      ]
    },
    {
      "cell_type": "code",
      "execution_count": 180,
      "metadata": {
        "id": "xin_raLmTzfd"
      },
      "outputs": [],
      "source": [
        "test_windows = np.array(test_windows)\n",
        "test_windows_flattened = test_windows.reshape(test_windows.shape[0], -1)\n",
        "\n",
        "# Make predictions using the trained classifier\n",
        "predictions = clf.predict(test_windows_flattened)\n",
        "\n",
        "# Calculate accuracy and F1 score\n",
        "accuracy = accuracy_score(test_labels, predictions)\n",
        "f1 = f1_score(test_labels, predictions, average='weighted')"
      ]
    },
    {
      "cell_type": "code",
      "execution_count": 181,
      "metadata": {
        "colab": {
          "base_uri": "https://localhost:8080/"
        },
        "id": "9t9vfHbuNmNL",
        "outputId": "fad8c89a-d5fd-4643-94a2-f3328a16d98c"
      },
      "outputs": [
        {
          "name": "stdout",
          "output_type": "stream",
          "text": [
            "0.0\n"
          ]
        }
      ],
      "source": [
        "print(np.mean(test_labels))"
      ]
    },
    {
      "cell_type": "code",
      "execution_count": 182,
      "metadata": {
        "colab": {
          "base_uri": "https://localhost:8080/"
        },
        "id": "7xPEtZ2KzflP",
        "outputId": "449c4e07-adad-4034-dd10-c219ec6dfa34"
      },
      "outputs": [
        {
          "name": "stdout",
          "output_type": "stream",
          "text": [
            "1.0\n",
            "1.0\n"
          ]
        }
      ],
      "source": [
        "print(accuracy)\n",
        "print(f1)"
      ]
    },
    {
      "cell_type": "code",
      "execution_count": 183,
      "metadata": {
        "colab": {
          "base_uri": "https://localhost:8080/",
          "height": 564
        },
        "id": "kVL8Xke73chk",
        "outputId": "4517a9fc-977f-4676-9d90-a23da26d5154"
      },
      "outputs": [
        {
          "data": {
            "image/png": "[encoded data removed]",
            "text/plain": [
              "<Figure size 1000x600 with 1 Axes>"
            ]
          },
          "metadata": {},
          "output_type": "display_data"
        }
      ],
      "source": [
        "# Plot actual vs. predicted labels\n",
        "plt.figure(figsize=(10, 6))\n",
        "plt.plot(test_labels, label='Actual Labels', marker='o')\n",
        "plt.plot(predictions, label='Predicted Labels', marker='x')\n",
        "plt.xlabel('Sample Index')\n",
        "plt.ylabel('Label')\n",
        "plt.title('Actual vs. Predicted Labels')\n",
        "plt.legend()\n",
        "plt.show()"
      ]
    },
    {
      "cell_type": "code",
      "execution_count": 184,
      "metadata": {},
      "outputs": [
        {
          "name": "stdout",
          "output_type": "stream",
          "text": [
            "Confusion Matrix:\n",
            "[[8386]]\n"
          ]
        }
      ],
      "source": [
        "cm = confusion_matrix(test_labels, predictions)\n",
        "print(\"Confusion Matrix:\")\n",
        "print(cm)"
      ]
    },
    {
      "cell_type": "code",
      "execution_count": 185,
      "metadata": {},
      "outputs": [
        {
          "name": "stdout",
          "output_type": "stream",
          "text": [
            "              precision    recall  f1-score   support\n",
            "\n",
            "           0       1.00      1.00      1.00      8386\n",
            "\n",
            "    accuracy                           1.00      8386\n",
            "   macro avg       1.00      1.00      1.00      8386\n",
            "weighted avg       1.00      1.00      1.00      8386\n",
            "\n"
          ]
        }
      ],
      "source": [
        "report = classification_report(test_labels, predictions)\n",
        "# Print the report\n",
        "print(report)"
      ]
    },
    {
      "cell_type": "code",
      "execution_count": null,
      "metadata": {},
      "outputs": [],
      "source": []
    }
  ],
  "metadata": {
    "colab": {
      "provenance": []
    },
    "kernelspec": {
      "display_name": "Python 3",
      "name": "python3"
    },
    "language_info": {
      "codemirror_mode": {
        "name": "ipython",
        "version": 3
      },
      "file_extension": ".py",
      "mimetype": "text/x-python",
      "name": "python",
      "nbconvert_exporter": "python",
      "pygments_lexer": "ipython3",
      "version": "3.9.17"
    }
  },
  "nbformat": 4,
  "nbformat_minor": 0
}
