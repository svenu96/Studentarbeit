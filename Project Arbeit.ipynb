{
 "cells": [
  {
   "cell_type": "code",
   "execution_count": 80,
   "id": "4fca5ba2",
   "metadata": {},
   "outputs": [],
   "source": [
    "#Train on more data \n",
    "\n",
    "#Two class approach  : Take only values with sliding windows = 1 and =2"
   ]
  },
  {
   "cell_type": "code",
   "execution_count": 81,
   "id": "9bfabc1e",
   "metadata": {},
   "outputs": [],
   "source": [
    "import numpy as np\n",
    "import pandas as pd\n",
    "import matplotlib.pyplot as plt\n",
    "from sklearn.utils.class_weight import compute_class_weight\n",
    "from tensorflow.keras.losses import CategoricalCrossentropy\n",
    "#import keras"
   ]
  },
  {
   "cell_type": "code",
   "execution_count": 82,
   "id": "9c28596d",
   "metadata": {},
   "outputs": [],
   "source": [
    "data1=pd.read_csv(r\"/home/divit/project/OCDetect_03_recording_06_c076109d-651c-46c4-a745-5df8b383bec3.csv\")"
   ]
  },
  {
   "cell_type": "code",
   "execution_count": 83,
   "id": "595754ef",
   "metadata": {},
   "outputs": [],
   "source": [
    "data=data1"
   ]
  },
  {
   "cell_type": "code",
   "execution_count": 84,
   "id": "f062f322",
   "metadata": {},
   "outputs": [
    {
     "data": {
      "text/plain": [
       "2661186"
      ]
     },
     "execution_count": 84,
     "metadata": {},
     "output_type": "execute_result"
    }
   ],
   "source": [
    "len(data1)"
   ]
  },
  {
   "cell_type": "code",
   "execution_count": 85,
   "id": "4e62aab0",
   "metadata": {},
   "outputs": [
    {
     "data": {
      "text/plain": [
       "2626968"
      ]
     },
     "execution_count": 85,
     "metadata": {},
     "output_type": "execute_result"
    }
   ],
   "source": [
    "len(data1[data1[\"relabeled\"]==0])"
   ]
  },
  {
   "cell_type": "code",
   "execution_count": 86,
   "id": "2574d3fa",
   "metadata": {},
   "outputs": [
    {
     "data": {
      "text/plain": [
       "22812"
      ]
     },
     "execution_count": 86,
     "metadata": {},
     "output_type": "execute_result"
    }
   ],
   "source": [
    "len(data1[data1[\"relabeled\"]==1])"
   ]
  },
  {
   "cell_type": "code",
   "execution_count": 87,
   "id": "1ba1f864",
   "metadata": {},
   "outputs": [
    {
     "data": {
      "text/plain": [
       "11406"
      ]
     },
     "execution_count": 87,
     "metadata": {},
     "output_type": "execute_result"
    }
   ],
   "source": [
    "len(data1[data1[\"relabeled\"]==2])"
   ]
  },
  {
   "cell_type": "code",
   "execution_count": 88,
   "id": "7e565524",
   "metadata": {},
   "outputs": [
    {
     "data": {
      "text/plain": [
       "array([0, 1, 2])"
      ]
     },
     "execution_count": 88,
     "metadata": {},
     "output_type": "execute_result"
    }
   ],
   "source": [
    "data[\"relabeled\"].unique()"
   ]
  },
  {
   "cell_type": "code",
   "execution_count": 89,
   "id": "8af87140",
   "metadata": {},
   "outputs": [
    {
     "data": {
      "text/plain": [
       "array([0, 1, 2])"
      ]
     },
     "execution_count": 89,
     "metadata": {},
     "output_type": "execute_result"
    }
   ],
   "source": [
    "np.unique(data1[\"relabeled\"])"
   ]
  },
  {
   "cell_type": "code",
   "execution_count": 90,
   "id": "71cbf8e6",
   "metadata": {},
   "outputs": [],
   "source": [
    "data_a=data[data[\"relabeled\"]==0][:70000]\n",
    "data_b=data[data[\"relabeled\"]==1][:11000]\n",
    "data_c=data[data[\"relabeled\"]==2][:11000]\n",
    "data=pd.concat([data_a,data_b,data_c],axis=0)"
   ]
  },
  {
   "cell_type": "code",
   "execution_count": 91,
   "id": "2d7b627b",
   "metadata": {},
   "outputs": [],
   "source": [
    "#data_a[\"relabeled\"].value_counts()"
   ]
  },
  {
   "cell_type": "code",
   "execution_count": 92,
   "id": "b761404b",
   "metadata": {},
   "outputs": [],
   "source": [
    "#data_b[\"relabeled\"].value_counts()"
   ]
  },
  {
   "cell_type": "code",
   "execution_count": 93,
   "id": "ca6ac13a",
   "metadata": {},
   "outputs": [],
   "source": [
    "#data_c[\"relabeled\"].value_counts()"
   ]
  },
  {
   "cell_type": "code",
   "execution_count": null,
   "id": "c2bc6c10",
   "metadata": {},
   "outputs": [],
   "source": []
  },
  {
   "cell_type": "code",
   "execution_count": 94,
   "id": "b8b28251",
   "metadata": {},
   "outputs": [],
   "source": [
    "from sklearn.preprocessing import MinMaxScaler\n",
    "\n",
    "scaler=MinMaxScaler()\n",
    "data[[\"acc x\",\"acc y\",\"acc z\",\"gyro x\",\"gyro y\",\"gyro z\"]]=scaler.fit_transform(data[[\"acc x\",\"acc y\",\"acc z\",\"gyro x\",\"gyro y\",\"gyro z\"]])\n"
   ]
  },
  {
   "cell_type": "code",
   "execution_count": 95,
   "id": "8424837c",
   "metadata": {},
   "outputs": [
    {
     "data": {
      "text/html": [
       "<div>\n",
       "<style scoped>\n",
       "    .dataframe tbody tr th:only-of-type {\n",
       "        vertical-align: middle;\n",
       "    }\n",
       "\n",
       "    .dataframe tbody tr th {\n",
       "        vertical-align: top;\n",
       "    }\n",
       "\n",
       "    .dataframe thead th {\n",
       "        text-align: right;\n",
       "    }\n",
       "</style>\n",
       "<table border=\"1\" class=\"dataframe\">\n",
       "  <thead>\n",
       "    <tr style=\"text-align: right;\">\n",
       "      <th></th>\n",
       "      <th>acc x</th>\n",
       "      <th>acc y</th>\n",
       "      <th>acc z</th>\n",
       "      <th>gyro x</th>\n",
       "      <th>gyro y</th>\n",
       "      <th>gyro z</th>\n",
       "    </tr>\n",
       "  </thead>\n",
       "  <tbody>\n",
       "    <tr>\n",
       "      <th>0</th>\n",
       "      <td>0.486068</td>\n",
       "      <td>0.550971</td>\n",
       "      <td>0.733757</td>\n",
       "      <td>0.435644</td>\n",
       "      <td>0.488997</td>\n",
       "      <td>0.348265</td>\n",
       "    </tr>\n",
       "    <tr>\n",
       "      <th>1</th>\n",
       "      <td>0.492940</td>\n",
       "      <td>0.549565</td>\n",
       "      <td>0.734011</td>\n",
       "      <td>0.433246</td>\n",
       "      <td>0.492422</td>\n",
       "      <td>0.353128</td>\n",
       "    </tr>\n",
       "    <tr>\n",
       "      <th>2</th>\n",
       "      <td>0.490524</td>\n",
       "      <td>0.548093</td>\n",
       "      <td>0.730652</td>\n",
       "      <td>0.435768</td>\n",
       "      <td>0.493320</td>\n",
       "      <td>0.361523</td>\n",
       "    </tr>\n",
       "    <tr>\n",
       "      <th>3</th>\n",
       "      <td>0.483610</td>\n",
       "      <td>0.548523</td>\n",
       "      <td>0.724279</td>\n",
       "      <td>0.437669</td>\n",
       "      <td>0.472101</td>\n",
       "      <td>0.377649</td>\n",
       "    </tr>\n",
       "    <tr>\n",
       "      <th>4</th>\n",
       "      <td>0.473198</td>\n",
       "      <td>0.550690</td>\n",
       "      <td>0.731509</td>\n",
       "      <td>0.435981</td>\n",
       "      <td>0.439430</td>\n",
       "      <td>0.386301</td>\n",
       "    </tr>\n",
       "    <tr>\n",
       "      <th>...</th>\n",
       "      <td>...</td>\n",
       "      <td>...</td>\n",
       "      <td>...</td>\n",
       "      <td>...</td>\n",
       "      <td>...</td>\n",
       "      <td>...</td>\n",
       "    </tr>\n",
       "    <tr>\n",
       "      <th>2421971</th>\n",
       "      <td>0.526136</td>\n",
       "      <td>0.487762</td>\n",
       "      <td>0.646075</td>\n",
       "      <td>0.423209</td>\n",
       "      <td>0.522174</td>\n",
       "      <td>0.301270</td>\n",
       "    </tr>\n",
       "    <tr>\n",
       "      <th>2421972</th>\n",
       "      <td>0.521138</td>\n",
       "      <td>0.496213</td>\n",
       "      <td>0.641417</td>\n",
       "      <td>0.415056</td>\n",
       "      <td>0.523072</td>\n",
       "      <td>0.296662</td>\n",
       "    </tr>\n",
       "    <tr>\n",
       "      <th>2421973</th>\n",
       "      <td>0.521429</td>\n",
       "      <td>0.490276</td>\n",
       "      <td>0.627143</td>\n",
       "      <td>0.407276</td>\n",
       "      <td>0.524363</td>\n",
       "      <td>0.295434</td>\n",
       "    </tr>\n",
       "    <tr>\n",
       "      <th>2421974</th>\n",
       "      <td>0.522971</td>\n",
       "      <td>0.473605</td>\n",
       "      <td>0.631013</td>\n",
       "      <td>0.397524</td>\n",
       "      <td>0.524644</td>\n",
       "      <td>0.293642</td>\n",
       "    </tr>\n",
       "    <tr>\n",
       "      <th>2421975</th>\n",
       "      <td>0.526594</td>\n",
       "      <td>0.457877</td>\n",
       "      <td>0.644592</td>\n",
       "      <td>0.396209</td>\n",
       "      <td>0.519535</td>\n",
       "      <td>0.300502</td>\n",
       "    </tr>\n",
       "  </tbody>\n",
       "</table>\n",
       "<p>72000 rows × 6 columns</p>\n",
       "</div>"
      ],
      "text/plain": [
       "            acc x     acc y     acc z    gyro x    gyro y    gyro z\n",
       "0        0.486068  0.550971  0.733757  0.435644  0.488997  0.348265\n",
       "1        0.492940  0.549565  0.734011  0.433246  0.492422  0.353128\n",
       "2        0.490524  0.548093  0.730652  0.435768  0.493320  0.361523\n",
       "3        0.483610  0.548523  0.724279  0.437669  0.472101  0.377649\n",
       "4        0.473198  0.550690  0.731509  0.435981  0.439430  0.386301\n",
       "...           ...       ...       ...       ...       ...       ...\n",
       "2421971  0.526136  0.487762  0.646075  0.423209  0.522174  0.301270\n",
       "2421972  0.521138  0.496213  0.641417  0.415056  0.523072  0.296662\n",
       "2421973  0.521429  0.490276  0.627143  0.407276  0.524363  0.295434\n",
       "2421974  0.522971  0.473605  0.631013  0.397524  0.524644  0.293642\n",
       "2421975  0.526594  0.457877  0.644592  0.396209  0.519535  0.300502\n",
       "\n",
       "[72000 rows x 6 columns]"
      ]
     },
     "execution_count": 95,
     "metadata": {},
     "output_type": "execute_result"
    }
   ],
   "source": [
    "data[[\"acc x\",\"acc y\",\"acc z\",\"gyro x\",\"gyro y\",\"gyro z\"]]"
   ]
  },
  {
   "cell_type": "code",
   "execution_count": 96,
   "id": "fad13134",
   "metadata": {},
   "outputs": [
    {
     "data": {
      "text/plain": [
       "0          0\n",
       "1          0\n",
       "2          0\n",
       "3          0\n",
       "4          0\n",
       "          ..\n",
       "2421971    2\n",
       "2421972    2\n",
       "2421973    2\n",
       "2421974    2\n",
       "2421975    2\n",
       "Name: relabeled, Length: 72000, dtype: int64"
      ]
     },
     "execution_count": 96,
     "metadata": {},
     "output_type": "execute_result"
    }
   ],
   "source": [
    "data[\"relabeled\"]"
   ]
  },
  {
   "cell_type": "code",
   "execution_count": 97,
   "id": "8e034f22",
   "metadata": {},
   "outputs": [
    {
     "data": {
      "text/html": [
       "<div>\n",
       "<style scoped>\n",
       "    .dataframe tbody tr th:only-of-type {\n",
       "        vertical-align: middle;\n",
       "    }\n",
       "\n",
       "    .dataframe tbody tr th {\n",
       "        vertical-align: top;\n",
       "    }\n",
       "\n",
       "    .dataframe thead th {\n",
       "        text-align: right;\n",
       "    }\n",
       "</style>\n",
       "<table border=\"1\" class=\"dataframe\">\n",
       "  <thead>\n",
       "    <tr style=\"text-align: right;\">\n",
       "      <th></th>\n",
       "      <th>timestamp</th>\n",
       "      <th>datetime</th>\n",
       "      <th>acc x</th>\n",
       "      <th>acc y</th>\n",
       "      <th>acc z</th>\n",
       "      <th>gyro x</th>\n",
       "      <th>gyro y</th>\n",
       "      <th>gyro z</th>\n",
       "      <th>user yes/no</th>\n",
       "      <th>compulsive</th>\n",
       "      <th>urge</th>\n",
       "      <th>tense</th>\n",
       "      <th>ignore</th>\n",
       "      <th>relabeled</th>\n",
       "    </tr>\n",
       "  </thead>\n",
       "  <tbody>\n",
       "    <tr>\n",
       "      <th>0</th>\n",
       "      <td>0.000000e+00</td>\n",
       "      <td>2022-04-06 07:39:30.000</td>\n",
       "      <td>0.486068</td>\n",
       "      <td>0.550971</td>\n",
       "      <td>0.733757</td>\n",
       "      <td>0.435644</td>\n",
       "      <td>0.488997</td>\n",
       "      <td>0.348265</td>\n",
       "      <td>-1.0</td>\n",
       "      <td>0.0</td>\n",
       "      <td>0.0</td>\n",
       "      <td>0.0</td>\n",
       "      <td>0</td>\n",
       "      <td>0</td>\n",
       "    </tr>\n",
       "    <tr>\n",
       "      <th>1</th>\n",
       "      <td>2.000000e+07</td>\n",
       "      <td>2022-04-06 07:39:30.020</td>\n",
       "      <td>0.492940</td>\n",
       "      <td>0.549565</td>\n",
       "      <td>0.734011</td>\n",
       "      <td>0.433246</td>\n",
       "      <td>0.492422</td>\n",
       "      <td>0.353128</td>\n",
       "      <td>NaN</td>\n",
       "      <td>NaN</td>\n",
       "      <td>NaN</td>\n",
       "      <td>NaN</td>\n",
       "      <td>0</td>\n",
       "      <td>0</td>\n",
       "    </tr>\n",
       "    <tr>\n",
       "      <th>2</th>\n",
       "      <td>4.000000e+07</td>\n",
       "      <td>2022-04-06 07:39:30.040</td>\n",
       "      <td>0.490524</td>\n",
       "      <td>0.548093</td>\n",
       "      <td>0.730652</td>\n",
       "      <td>0.435768</td>\n",
       "      <td>0.493320</td>\n",
       "      <td>0.361523</td>\n",
       "      <td>NaN</td>\n",
       "      <td>NaN</td>\n",
       "      <td>NaN</td>\n",
       "      <td>NaN</td>\n",
       "      <td>0</td>\n",
       "      <td>0</td>\n",
       "    </tr>\n",
       "    <tr>\n",
       "      <th>3</th>\n",
       "      <td>6.000000e+07</td>\n",
       "      <td>2022-04-06 07:39:30.060</td>\n",
       "      <td>0.483610</td>\n",
       "      <td>0.548523</td>\n",
       "      <td>0.724279</td>\n",
       "      <td>0.437669</td>\n",
       "      <td>0.472101</td>\n",
       "      <td>0.377649</td>\n",
       "      <td>NaN</td>\n",
       "      <td>NaN</td>\n",
       "      <td>NaN</td>\n",
       "      <td>NaN</td>\n",
       "      <td>0</td>\n",
       "      <td>0</td>\n",
       "    </tr>\n",
       "    <tr>\n",
       "      <th>4</th>\n",
       "      <td>8.000000e+07</td>\n",
       "      <td>2022-04-06 07:39:30.080</td>\n",
       "      <td>0.473198</td>\n",
       "      <td>0.550690</td>\n",
       "      <td>0.731509</td>\n",
       "      <td>0.435981</td>\n",
       "      <td>0.439430</td>\n",
       "      <td>0.386301</td>\n",
       "      <td>NaN</td>\n",
       "      <td>NaN</td>\n",
       "      <td>NaN</td>\n",
       "      <td>NaN</td>\n",
       "      <td>0</td>\n",
       "      <td>0</td>\n",
       "    </tr>\n",
       "    <tr>\n",
       "      <th>...</th>\n",
       "      <td>...</td>\n",
       "      <td>...</td>\n",
       "      <td>...</td>\n",
       "      <td>...</td>\n",
       "      <td>...</td>\n",
       "      <td>...</td>\n",
       "      <td>...</td>\n",
       "      <td>...</td>\n",
       "      <td>...</td>\n",
       "      <td>...</td>\n",
       "      <td>...</td>\n",
       "      <td>...</td>\n",
       "      <td>...</td>\n",
       "      <td>...</td>\n",
       "    </tr>\n",
       "    <tr>\n",
       "      <th>2421971</th>\n",
       "      <td>4.843942e+13</td>\n",
       "      <td>2022-04-06 21:06:49.420</td>\n",
       "      <td>0.526136</td>\n",
       "      <td>0.487762</td>\n",
       "      <td>0.646075</td>\n",
       "      <td>0.423209</td>\n",
       "      <td>0.522174</td>\n",
       "      <td>0.301270</td>\n",
       "      <td>NaN</td>\n",
       "      <td>NaN</td>\n",
       "      <td>NaN</td>\n",
       "      <td>NaN</td>\n",
       "      <td>0</td>\n",
       "      <td>2</td>\n",
       "    </tr>\n",
       "    <tr>\n",
       "      <th>2421972</th>\n",
       "      <td>4.843944e+13</td>\n",
       "      <td>2022-04-06 21:06:49.440</td>\n",
       "      <td>0.521138</td>\n",
       "      <td>0.496213</td>\n",
       "      <td>0.641417</td>\n",
       "      <td>0.415056</td>\n",
       "      <td>0.523072</td>\n",
       "      <td>0.296662</td>\n",
       "      <td>NaN</td>\n",
       "      <td>NaN</td>\n",
       "      <td>NaN</td>\n",
       "      <td>NaN</td>\n",
       "      <td>0</td>\n",
       "      <td>2</td>\n",
       "    </tr>\n",
       "    <tr>\n",
       "      <th>2421973</th>\n",
       "      <td>4.843946e+13</td>\n",
       "      <td>2022-04-06 21:06:49.460</td>\n",
       "      <td>0.521429</td>\n",
       "      <td>0.490276</td>\n",
       "      <td>0.627143</td>\n",
       "      <td>0.407276</td>\n",
       "      <td>0.524363</td>\n",
       "      <td>0.295434</td>\n",
       "      <td>NaN</td>\n",
       "      <td>NaN</td>\n",
       "      <td>NaN</td>\n",
       "      <td>NaN</td>\n",
       "      <td>0</td>\n",
       "      <td>2</td>\n",
       "    </tr>\n",
       "    <tr>\n",
       "      <th>2421974</th>\n",
       "      <td>4.843948e+13</td>\n",
       "      <td>2022-04-06 21:06:49.480</td>\n",
       "      <td>0.522971</td>\n",
       "      <td>0.473605</td>\n",
       "      <td>0.631013</td>\n",
       "      <td>0.397524</td>\n",
       "      <td>0.524644</td>\n",
       "      <td>0.293642</td>\n",
       "      <td>NaN</td>\n",
       "      <td>NaN</td>\n",
       "      <td>NaN</td>\n",
       "      <td>NaN</td>\n",
       "      <td>0</td>\n",
       "      <td>2</td>\n",
       "    </tr>\n",
       "    <tr>\n",
       "      <th>2421975</th>\n",
       "      <td>4.843950e+13</td>\n",
       "      <td>2022-04-06 21:06:49.500</td>\n",
       "      <td>0.526594</td>\n",
       "      <td>0.457877</td>\n",
       "      <td>0.644592</td>\n",
       "      <td>0.396209</td>\n",
       "      <td>0.519535</td>\n",
       "      <td>0.300502</td>\n",
       "      <td>NaN</td>\n",
       "      <td>NaN</td>\n",
       "      <td>NaN</td>\n",
       "      <td>NaN</td>\n",
       "      <td>0</td>\n",
       "      <td>2</td>\n",
       "    </tr>\n",
       "  </tbody>\n",
       "</table>\n",
       "<p>72000 rows × 14 columns</p>\n",
       "</div>"
      ],
      "text/plain": [
       "            timestamp                 datetime     acc x     acc y     acc z  \\\n",
       "0        0.000000e+00  2022-04-06 07:39:30.000  0.486068  0.550971  0.733757   \n",
       "1        2.000000e+07  2022-04-06 07:39:30.020  0.492940  0.549565  0.734011   \n",
       "2        4.000000e+07  2022-04-06 07:39:30.040  0.490524  0.548093  0.730652   \n",
       "3        6.000000e+07  2022-04-06 07:39:30.060  0.483610  0.548523  0.724279   \n",
       "4        8.000000e+07  2022-04-06 07:39:30.080  0.473198  0.550690  0.731509   \n",
       "...               ...                      ...       ...       ...       ...   \n",
       "2421971  4.843942e+13  2022-04-06 21:06:49.420  0.526136  0.487762  0.646075   \n",
       "2421972  4.843944e+13  2022-04-06 21:06:49.440  0.521138  0.496213  0.641417   \n",
       "2421973  4.843946e+13  2022-04-06 21:06:49.460  0.521429  0.490276  0.627143   \n",
       "2421974  4.843948e+13  2022-04-06 21:06:49.480  0.522971  0.473605  0.631013   \n",
       "2421975  4.843950e+13  2022-04-06 21:06:49.500  0.526594  0.457877  0.644592   \n",
       "\n",
       "           gyro x    gyro y    gyro z  user yes/no  compulsive  urge  tense  \\\n",
       "0        0.435644  0.488997  0.348265         -1.0         0.0   0.0    0.0   \n",
       "1        0.433246  0.492422  0.353128          NaN         NaN   NaN    NaN   \n",
       "2        0.435768  0.493320  0.361523          NaN         NaN   NaN    NaN   \n",
       "3        0.437669  0.472101  0.377649          NaN         NaN   NaN    NaN   \n",
       "4        0.435981  0.439430  0.386301          NaN         NaN   NaN    NaN   \n",
       "...           ...       ...       ...          ...         ...   ...    ...   \n",
       "2421971  0.423209  0.522174  0.301270          NaN         NaN   NaN    NaN   \n",
       "2421972  0.415056  0.523072  0.296662          NaN         NaN   NaN    NaN   \n",
       "2421973  0.407276  0.524363  0.295434          NaN         NaN   NaN    NaN   \n",
       "2421974  0.397524  0.524644  0.293642          NaN         NaN   NaN    NaN   \n",
       "2421975  0.396209  0.519535  0.300502          NaN         NaN   NaN    NaN   \n",
       "\n",
       "         ignore  relabeled  \n",
       "0             0          0  \n",
       "1             0          0  \n",
       "2             0          0  \n",
       "3             0          0  \n",
       "4             0          0  \n",
       "...         ...        ...  \n",
       "2421971       0          2  \n",
       "2421972       0          2  \n",
       "2421973       0          2  \n",
       "2421974       0          2  \n",
       "2421975       0          2  \n",
       "\n",
       "[72000 rows x 14 columns]"
      ]
     },
     "execution_count": 97,
     "metadata": {},
     "output_type": "execute_result"
    }
   ],
   "source": [
    "data"
   ]
  },
  {
   "cell_type": "code",
   "execution_count": 98,
   "id": "195c8846",
   "metadata": {},
   "outputs": [
    {
     "data": {
      "text/plain": [
       "array([0, 1, 2])"
      ]
     },
     "execution_count": 98,
     "metadata": {},
     "output_type": "execute_result"
    }
   ],
   "source": [
    "data['relabeled'].unique()"
   ]
  },
  {
   "cell_type": "code",
   "execution_count": 99,
   "id": "fe278e7f",
   "metadata": {},
   "outputs": [
    {
     "data": {
      "text/plain": [
       "relabeled\n",
       "0    50000\n",
       "1    11000\n",
       "2    11000\n",
       "Name: count, dtype: int64"
      ]
     },
     "execution_count": 99,
     "metadata": {},
     "output_type": "execute_result"
    }
   ],
   "source": [
    "data['relabeled'].value_counts()"
   ]
  },
  {
   "cell_type": "code",
   "execution_count": 100,
   "id": "e0550a68",
   "metadata": {},
   "outputs": [
    {
     "data": {
      "text/plain": [
       "timestamp      72000\n",
       "datetime       72000\n",
       "acc x          72000\n",
       "acc y          72000\n",
       "acc z          72000\n",
       "gyro x         72000\n",
       "gyro y         72000\n",
       "gyro z         72000\n",
       "user yes/no        3\n",
       "compulsive         3\n",
       "urge               3\n",
       "tense              3\n",
       "ignore         72000\n",
       "relabeled      72000\n",
       "dtype: int64"
      ]
     },
     "execution_count": 100,
     "metadata": {},
     "output_type": "execute_result"
    }
   ],
   "source": [
    "data.count()"
   ]
  },
  {
   "cell_type": "code",
   "execution_count": 101,
   "id": "887a407e",
   "metadata": {},
   "outputs": [],
   "source": [
    "#new_data=data[data['compulsive'].notnull()]"
   ]
  },
  {
   "cell_type": "code",
   "execution_count": 102,
   "id": "d61e090f",
   "metadata": {},
   "outputs": [],
   "source": [
    "new_data=data"
   ]
  },
  {
   "cell_type": "code",
   "execution_count": 103,
   "id": "84c83149",
   "metadata": {},
   "outputs": [
    {
     "data": {
      "text/plain": [
       "Index(['timestamp', 'datetime', 'acc x', 'acc y', 'acc z', 'gyro x', 'gyro y',\n",
       "       'gyro z', 'user yes/no', 'compulsive', 'urge', 'tense', 'ignore',\n",
       "       'relabeled'],\n",
       "      dtype='object')"
      ]
     },
     "execution_count": 103,
     "metadata": {},
     "output_type": "execute_result"
    }
   ],
   "source": [
    "new_data.columns"
   ]
  },
  {
   "cell_type": "code",
   "execution_count": 104,
   "id": "cc9b2fa6",
   "metadata": {},
   "outputs": [],
   "source": [
    "new_data=new_data.drop(['timestamp','datetime','user yes/no','compulsive', 'urge', 'tense', 'ignore'],axis=1)"
   ]
  },
  {
   "cell_type": "code",
   "execution_count": 105,
   "id": "1819d4f3",
   "metadata": {},
   "outputs": [
    {
     "data": {
      "text/plain": [
       "Index(['acc x', 'acc y', 'acc z', 'gyro x', 'gyro y', 'gyro z', 'relabeled'], dtype='object')"
      ]
     },
     "execution_count": 105,
     "metadata": {},
     "output_type": "execute_result"
    }
   ],
   "source": [
    "new_data.columns"
   ]
  },
  {
   "cell_type": "code",
   "execution_count": 106,
   "id": "b3bc8b8c",
   "metadata": {},
   "outputs": [
    {
     "data": {
      "text/plain": [
       "acc x        72000\n",
       "acc y        72000\n",
       "acc z        72000\n",
       "gyro x       72000\n",
       "gyro y       72000\n",
       "gyro z       72000\n",
       "relabeled    72000\n",
       "dtype: int64"
      ]
     },
     "execution_count": 106,
     "metadata": {},
     "output_type": "execute_result"
    }
   ],
   "source": [
    "new_data.count()"
   ]
  },
  {
   "cell_type": "code",
   "execution_count": 107,
   "id": "e558acc1",
   "metadata": {},
   "outputs": [
    {
     "data": {
      "text/html": [
       "<div>\n",
       "<style scoped>\n",
       "    .dataframe tbody tr th:only-of-type {\n",
       "        vertical-align: middle;\n",
       "    }\n",
       "\n",
       "    .dataframe tbody tr th {\n",
       "        vertical-align: top;\n",
       "    }\n",
       "\n",
       "    .dataframe thead th {\n",
       "        text-align: right;\n",
       "    }\n",
       "</style>\n",
       "<table border=\"1\" class=\"dataframe\">\n",
       "  <thead>\n",
       "    <tr style=\"text-align: right;\">\n",
       "      <th></th>\n",
       "      <th>acc x</th>\n",
       "      <th>acc y</th>\n",
       "      <th>acc z</th>\n",
       "      <th>gyro x</th>\n",
       "      <th>gyro y</th>\n",
       "      <th>gyro z</th>\n",
       "      <th>relabeled</th>\n",
       "    </tr>\n",
       "  </thead>\n",
       "  <tbody>\n",
       "    <tr>\n",
       "      <th>0</th>\n",
       "      <td>0.486068</td>\n",
       "      <td>0.550971</td>\n",
       "      <td>0.733757</td>\n",
       "      <td>0.435644</td>\n",
       "      <td>0.488997</td>\n",
       "      <td>0.348265</td>\n",
       "      <td>0</td>\n",
       "    </tr>\n",
       "    <tr>\n",
       "      <th>1</th>\n",
       "      <td>0.492940</td>\n",
       "      <td>0.549565</td>\n",
       "      <td>0.734011</td>\n",
       "      <td>0.433246</td>\n",
       "      <td>0.492422</td>\n",
       "      <td>0.353128</td>\n",
       "      <td>0</td>\n",
       "    </tr>\n",
       "    <tr>\n",
       "      <th>2</th>\n",
       "      <td>0.490524</td>\n",
       "      <td>0.548093</td>\n",
       "      <td>0.730652</td>\n",
       "      <td>0.435768</td>\n",
       "      <td>0.493320</td>\n",
       "      <td>0.361523</td>\n",
       "      <td>0</td>\n",
       "    </tr>\n",
       "    <tr>\n",
       "      <th>3</th>\n",
       "      <td>0.483610</td>\n",
       "      <td>0.548523</td>\n",
       "      <td>0.724279</td>\n",
       "      <td>0.437669</td>\n",
       "      <td>0.472101</td>\n",
       "      <td>0.377649</td>\n",
       "      <td>0</td>\n",
       "    </tr>\n",
       "    <tr>\n",
       "      <th>4</th>\n",
       "      <td>0.473198</td>\n",
       "      <td>0.550690</td>\n",
       "      <td>0.731509</td>\n",
       "      <td>0.435981</td>\n",
       "      <td>0.439430</td>\n",
       "      <td>0.386301</td>\n",
       "      <td>0</td>\n",
       "    </tr>\n",
       "    <tr>\n",
       "      <th>...</th>\n",
       "      <td>...</td>\n",
       "      <td>...</td>\n",
       "      <td>...</td>\n",
       "      <td>...</td>\n",
       "      <td>...</td>\n",
       "      <td>...</td>\n",
       "      <td>...</td>\n",
       "    </tr>\n",
       "    <tr>\n",
       "      <th>2421971</th>\n",
       "      <td>0.526136</td>\n",
       "      <td>0.487762</td>\n",
       "      <td>0.646075</td>\n",
       "      <td>0.423209</td>\n",
       "      <td>0.522174</td>\n",
       "      <td>0.301270</td>\n",
       "      <td>2</td>\n",
       "    </tr>\n",
       "    <tr>\n",
       "      <th>2421972</th>\n",
       "      <td>0.521138</td>\n",
       "      <td>0.496213</td>\n",
       "      <td>0.641417</td>\n",
       "      <td>0.415056</td>\n",
       "      <td>0.523072</td>\n",
       "      <td>0.296662</td>\n",
       "      <td>2</td>\n",
       "    </tr>\n",
       "    <tr>\n",
       "      <th>2421973</th>\n",
       "      <td>0.521429</td>\n",
       "      <td>0.490276</td>\n",
       "      <td>0.627143</td>\n",
       "      <td>0.407276</td>\n",
       "      <td>0.524363</td>\n",
       "      <td>0.295434</td>\n",
       "      <td>2</td>\n",
       "    </tr>\n",
       "    <tr>\n",
       "      <th>2421974</th>\n",
       "      <td>0.522971</td>\n",
       "      <td>0.473605</td>\n",
       "      <td>0.631013</td>\n",
       "      <td>0.397524</td>\n",
       "      <td>0.524644</td>\n",
       "      <td>0.293642</td>\n",
       "      <td>2</td>\n",
       "    </tr>\n",
       "    <tr>\n",
       "      <th>2421975</th>\n",
       "      <td>0.526594</td>\n",
       "      <td>0.457877</td>\n",
       "      <td>0.644592</td>\n",
       "      <td>0.396209</td>\n",
       "      <td>0.519535</td>\n",
       "      <td>0.300502</td>\n",
       "      <td>2</td>\n",
       "    </tr>\n",
       "  </tbody>\n",
       "</table>\n",
       "<p>72000 rows × 7 columns</p>\n",
       "</div>"
      ],
      "text/plain": [
       "            acc x     acc y     acc z    gyro x    gyro y    gyro z  relabeled\n",
       "0        0.486068  0.550971  0.733757  0.435644  0.488997  0.348265          0\n",
       "1        0.492940  0.549565  0.734011  0.433246  0.492422  0.353128          0\n",
       "2        0.490524  0.548093  0.730652  0.435768  0.493320  0.361523          0\n",
       "3        0.483610  0.548523  0.724279  0.437669  0.472101  0.377649          0\n",
       "4        0.473198  0.550690  0.731509  0.435981  0.439430  0.386301          0\n",
       "...           ...       ...       ...       ...       ...       ...        ...\n",
       "2421971  0.526136  0.487762  0.646075  0.423209  0.522174  0.301270          2\n",
       "2421972  0.521138  0.496213  0.641417  0.415056  0.523072  0.296662          2\n",
       "2421973  0.521429  0.490276  0.627143  0.407276  0.524363  0.295434          2\n",
       "2421974  0.522971  0.473605  0.631013  0.397524  0.524644  0.293642          2\n",
       "2421975  0.526594  0.457877  0.644592  0.396209  0.519535  0.300502          2\n",
       "\n",
       "[72000 rows x 7 columns]"
      ]
     },
     "execution_count": 107,
     "metadata": {},
     "output_type": "execute_result"
    }
   ],
   "source": [
    "new_data"
   ]
  },
  {
   "cell_type": "code",
   "execution_count": 108,
   "id": "a21719e5",
   "metadata": {},
   "outputs": [],
   "source": [
    "#labels=new_data['relabeled'].values\n",
    "#print(labels)\n",
    "#print(len(labels))"
   ]
  },
  {
   "cell_type": "code",
   "execution_count": 109,
   "id": "abf633cb",
   "metadata": {},
   "outputs": [],
   "source": [
    "#features=new_data[['acc x', 'acc y', 'acc z', 'gyro x', 'gyro y', 'gyro z']].values\n",
    "#print(features)\n",
    "\n",
    "#print(len(features))"
   ]
  },
  {
   "cell_type": "code",
   "execution_count": 110,
   "id": "e3ce38f2",
   "metadata": {},
   "outputs": [],
   "source": [
    "#import sklearn\n",
    "#from sklearn.preprocessing import MinMaxScaler\n",
    "#scaler=MinMaxScaler()"
   ]
  },
  {
   "cell_type": "code",
   "execution_count": 111,
   "id": "1829e1ec",
   "metadata": {},
   "outputs": [],
   "source": [
    "#s_features=scaler.fit_transform(features)"
   ]
  },
  {
   "cell_type": "code",
   "execution_count": 112,
   "id": "ce7c8bc0",
   "metadata": {},
   "outputs": [],
   "source": [
    "#type(features)"
   ]
  },
  {
   "cell_type": "code",
   "execution_count": 113,
   "id": "4d8e94b5",
   "metadata": {},
   "outputs": [],
   "source": [
    "\n",
    "\n",
    "from sklearn.model_selection import train_test_split\n",
    "train_data,test_data=train_test_split(new_data,test_size=0.2)"
   ]
  },
  {
   "cell_type": "code",
   "execution_count": 114,
   "id": "93a58ce0",
   "metadata": {},
   "outputs": [
    {
     "data": {
      "text/plain": [
       "57600"
      ]
     },
     "execution_count": 114,
     "metadata": {},
     "output_type": "execute_result"
    }
   ],
   "source": [
    "len(train_data)"
   ]
  },
  {
   "cell_type": "code",
   "execution_count": 115,
   "id": "f9f94ac4",
   "metadata": {},
   "outputs": [],
   "source": [
    "#type(labels)"
   ]
  },
  {
   "cell_type": "code",
   "execution_count": 116,
   "id": "ad2e3892",
   "metadata": {},
   "outputs": [],
   "source": [
    "\n",
    "\n",
    "from tensorflow.keras.models import Sequential\n",
    "from tensorflow.keras.layers import Dropout,Dense,Conv1D,Flatten,BatchNormalization,MaxPooling1D\n",
    "from tensorflow.keras.utils import to_categorical\n",
    "\n"
   ]
  },
  {
   "cell_type": "code",
   "execution_count": 117,
   "id": "fd7d465a",
   "metadata": {},
   "outputs": [],
   "source": [
    "#x_trai=x_train.reshape()"
   ]
  },
  {
   "cell_type": "code",
   "execution_count": 118,
   "id": "7c1e1cf0",
   "metadata": {},
   "outputs": [],
   "source": [
    "#y_train.shape"
   ]
  },
  {
   "cell_type": "code",
   "execution_count": 119,
   "id": "9a3a4182",
   "metadata": {},
   "outputs": [],
   "source": [
    "# Define window size\n",
    "window_size = 150\n",
    "step_size = 50\n",
    "# Initialize lists to store windowed data and labels\n",
    "train_windows = []\n",
    "train_labels = []\n",
    "test_windows = []\n",
    "test_labels = []\n",
    "i=0\n",
    "\n",
    "\n",
    "\n",
    "for i in range(0,len(train_data)-window_size+1,window_size):\n",
    "    \n",
    "    window = train_data.iloc[i:i+window_size, :-1]  # Select only sensor axes columns\n",
    "    train_windows.append(window)\n",
    "    label_window = train_data.iloc[i:i+window_size, -1]  # Select the label column for majority voting\n",
    "    majority_label = np.bincount(label_window).argmax()  # Majority voting\n",
    "    train_labels.append(majority_label)\n",
    "    \n",
    "for i in range(0,len(test_data)-window_size+1,window_size):\n",
    "    \n",
    "    window = test_data.iloc[i:i+window_size, :-1]  # Select only sensor axes columns\n",
    "    test_windows.append(window)\n",
    "    label_window = test_data.iloc[i:i+window_size, -1]  # Select the label column for majority voting\n",
    "    majority_label = np.bincount(label_window).argmax()  # Majority voting\n",
    "    test_labels.append(majority_label)\n",
    "\n"
   ]
  },
  {
   "cell_type": "code",
   "execution_count": 120,
   "id": "7fb5ebb2",
   "metadata": {},
   "outputs": [],
   "source": [
    "#np.unique(train_data.iloc[i:i+window_size, -1])"
   ]
  },
  {
   "cell_type": "code",
   "execution_count": null,
   "id": "ceab8a24",
   "metadata": {},
   "outputs": [],
   "source": []
  },
  {
   "cell_type": "code",
   "execution_count": 121,
   "id": "9a30bc4c",
   "metadata": {},
   "outputs": [],
   "source": [
    "train_windows=np.array(train_windows)\n",
    "train_labels=np.array(train_labels)"
   ]
  },
  {
   "cell_type": "code",
   "execution_count": 122,
   "id": "f02f34e8",
   "metadata": {},
   "outputs": [],
   "source": [
    "test_windows=np.array(test_windows)\n",
    "test_labels=np.array(test_labels)"
   ]
  },
  {
   "cell_type": "code",
   "execution_count": 123,
   "id": "d223302b",
   "metadata": {},
   "outputs": [
    {
     "name": "stdout",
     "output_type": "stream",
     "text": [
      "384\n"
     ]
    }
   ],
   "source": [
    "len(train_windows)==len(train_labels)\n",
    "print(len(train_windows))"
   ]
  },
  {
   "cell_type": "code",
   "execution_count": 124,
   "id": "24890633",
   "metadata": {},
   "outputs": [
    {
     "data": {
      "text/plain": [
       "1"
      ]
     },
     "execution_count": 124,
     "metadata": {},
     "output_type": "execute_result"
    }
   ],
   "source": [
    "len(np.unique(train_labels))"
   ]
  },
  {
   "cell_type": "code",
   "execution_count": 125,
   "id": "2f2b8870",
   "metadata": {},
   "outputs": [
    {
     "data": {
      "text/plain": [
       "43947"
      ]
     },
     "execution_count": 125,
     "metadata": {},
     "output_type": "execute_result"
    }
   ],
   "source": [
    "len(np.unique(train_windows))"
   ]
  },
  {
   "cell_type": "code",
   "execution_count": 126,
   "id": "b8d4c900",
   "metadata": {},
   "outputs": [
    {
     "data": {
      "text/plain": [
       "(384, 150, 6)"
      ]
     },
     "execution_count": 126,
     "metadata": {},
     "output_type": "execute_result"
    }
   ],
   "source": [
    "train_windows.shape"
   ]
  },
  {
   "cell_type": "code",
   "execution_count": 127,
   "id": "3454cd18",
   "metadata": {},
   "outputs": [],
   "source": [
    "#train_windows = train_windows.reshape(train_windows.shape[0], -1)"
   ]
  },
  {
   "cell_type": "code",
   "execution_count": 128,
   "id": "a805a877",
   "metadata": {},
   "outputs": [
    {
     "data": {
      "text/plain": [
       "(384, 150, 6)"
      ]
     },
     "execution_count": 128,
     "metadata": {},
     "output_type": "execute_result"
    }
   ],
   "source": [
    "train_windows.shape"
   ]
  },
  {
   "cell_type": "code",
   "execution_count": 129,
   "id": "06bdc4ef",
   "metadata": {},
   "outputs": [
    {
     "data": {
      "text/plain": [
       "(384,)"
      ]
     },
     "execution_count": 129,
     "metadata": {},
     "output_type": "execute_result"
    }
   ],
   "source": [
    "train_labels.shape"
   ]
  },
  {
   "cell_type": "code",
   "execution_count": 130,
   "id": "840e62b7",
   "metadata": {},
   "outputs": [],
   "source": [
    "#train_windows=train_windows.reshape(990,180,1)\n",
    "#train_labels=train_labels.reshape(990,1)"
   ]
  },
  {
   "cell_type": "code",
   "execution_count": 131,
   "id": "b5a62d75",
   "metadata": {},
   "outputs": [
    {
     "data": {
      "text/plain": [
       "(384, 150, 6)"
      ]
     },
     "execution_count": 131,
     "metadata": {},
     "output_type": "execute_result"
    }
   ],
   "source": [
    "train_windows.shape"
   ]
  },
  {
   "cell_type": "code",
   "execution_count": 132,
   "id": "25839327",
   "metadata": {},
   "outputs": [
    {
     "data": {
      "text/plain": [
       "(384,)"
      ]
     },
     "execution_count": 132,
     "metadata": {},
     "output_type": "execute_result"
    }
   ],
   "source": [
    "train_labels.shape"
   ]
  },
  {
   "cell_type": "code",
   "execution_count": 133,
   "id": "4dec02fe",
   "metadata": {},
   "outputs": [
    {
     "data": {
      "text/plain": [
       "0"
      ]
     },
     "execution_count": 133,
     "metadata": {},
     "output_type": "execute_result"
    }
   ],
   "source": [
    "train_labels[100]"
   ]
  },
  {
   "cell_type": "code",
   "execution_count": 134,
   "id": "ec52ae80",
   "metadata": {},
   "outputs": [
    {
     "data": {
      "text/plain": [
       "(384, 3)"
      ]
     },
     "execution_count": 134,
     "metadata": {},
     "output_type": "execute_result"
    }
   ],
   "source": [
    "from keras.utils import to_categorical\n",
    "train_labels = to_categorical(train_labels, 3)\n",
    "train_labels.shape"
   ]
  },
  {
   "cell_type": "code",
   "execution_count": 135,
   "id": "7f06fe2f",
   "metadata": {},
   "outputs": [
    {
     "data": {
      "text/plain": [
       "(96, 3)"
      ]
     },
     "execution_count": 135,
     "metadata": {},
     "output_type": "execute_result"
    }
   ],
   "source": [
    "test_labels = to_categorical(test_labels, 3)\n",
    "test_labels.shape"
   ]
  },
  {
   "cell_type": "code",
   "execution_count": 136,
   "id": "a3f0365d",
   "metadata": {},
   "outputs": [],
   "source": [
    "model=Sequential()\n",
    "\n",
    "\n",
    "model.add(Conv1D(512,1,input_shape=(150,6),activation=\"relu\"))\n",
    "\n",
    "#model.add(MaxPooling1D(2))\n",
    "model.add(Conv1D(256,1))\n",
    "\n",
    "#model.add(MaxPooling1D(2))\n",
    "model.add(Dropout(0.25))\n",
    "model.add(BatchNormalization())\n",
    "model.add((Flatten()))\n",
    "\n",
    "model.add(Dense(1024, activation=\"relu\"))\n",
    "model.add(Dense(512,activation=\"relu\"))\n",
    "\n",
    "model.add(Dense(3, activation=\"softmax\"))\n",
    "\n"
   ]
  },
  {
   "cell_type": "code",
   "execution_count": 137,
   "id": "e9d94fa3",
   "metadata": {},
   "outputs": [
    {
     "name": "stdout",
     "output_type": "stream",
     "text": [
      "Epoch 1/10\n",
      "12/12 [==============================] - 9s 620ms/step - loss: 0.0326 - accuracy: 0.9401 - val_loss: 0.0000e+00 - val_accuracy: 1.0000\n",
      "Epoch 2/10\n",
      "12/12 [==============================] - 7s 607ms/step - loss: 0.0000e+00 - accuracy: 1.0000 - val_loss: 0.0000e+00 - val_accuracy: 1.0000\n",
      "Epoch 3/10\n",
      "12/12 [==============================] - 7s 610ms/step - loss: 0.0000e+00 - accuracy: 1.0000 - val_loss: 0.0000e+00 - val_accuracy: 1.0000\n",
      "Epoch 4/10\n",
      "12/12 [==============================] - 7s 594ms/step - loss: 0.0000e+00 - accuracy: 1.0000 - val_loss: 0.0000e+00 - val_accuracy: 1.0000\n",
      "Epoch 5/10\n",
      "12/12 [==============================] - 7s 606ms/step - loss: 0.0000e+00 - accuracy: 1.0000 - val_loss: 0.0000e+00 - val_accuracy: 1.0000\n",
      "Epoch 6/10\n",
      "12/12 [==============================] - 7s 620ms/step - loss: 0.0000e+00 - accuracy: 1.0000 - val_loss: 0.0000e+00 - val_accuracy: 1.0000\n",
      "Epoch 7/10\n",
      "12/12 [==============================] - 8s 645ms/step - loss: 0.0000e+00 - accuracy: 1.0000 - val_loss: 0.0000e+00 - val_accuracy: 1.0000\n",
      "Epoch 8/10\n",
      "12/12 [==============================] - 8s 638ms/step - loss: 0.0000e+00 - accuracy: 1.0000 - val_loss: 0.0000e+00 - val_accuracy: 1.0000\n",
      "Epoch 9/10\n",
      "12/12 [==============================] - 8s 624ms/step - loss: 0.0000e+00 - accuracy: 1.0000 - val_loss: 0.0000e+00 - val_accuracy: 1.0000\n",
      "Epoch 10/10\n",
      "12/12 [==============================] - 8s 649ms/step - loss: 0.0000e+00 - accuracy: 1.0000 - val_loss: 0.0000e+00 - val_accuracy: 1.0000\n"
     ]
    },
    {
     "data": {
      "text/plain": [
       "<keras.callbacks.History at 0x7f5c490ff210>"
      ]
     },
     "execution_count": 137,
     "metadata": {},
     "output_type": "execute_result"
    }
   ],
   "source": [
    "class_labels = np.unique(data1[\"relabeled\"])\n",
    "class_weights = compute_class_weight('balanced', classes=class_labels, y=data1[\"relabeled\"])\n",
    "class_weights_dict = {class_label: weight for class_label, weight in zip(class_labels, class_weights)}\n",
    "loss = CategoricalCrossentropy()\n",
    "model.compile(optimizer='adam', loss=loss,metrics=['accuracy'])\n",
    "\n",
    "model.fit(train_windows,train_labels, epochs=10, class_weight=class_weights_dict,validation_data=(test_windows,test_labels))"
   ]
  },
  {
   "cell_type": "code",
   "execution_count": 138,
   "id": "f87bd7cc",
   "metadata": {},
   "outputs": [],
   "source": [
    "#np.unique(labels)"
   ]
  },
  {
   "cell_type": "code",
   "execution_count": 139,
   "id": "fac84696",
   "metadata": {},
   "outputs": [],
   "source": [
    "#X_windows.shape"
   ]
  },
  {
   "cell_type": "code",
   "execution_count": 140,
   "id": "10f41f92",
   "metadata": {},
   "outputs": [],
   "source": [
    "#y_train.shape"
   ]
  },
  {
   "cell_type": "code",
   "execution_count": 141,
   "id": "156740e5",
   "metadata": {},
   "outputs": [],
   "source": [
    "#train_windows[0]"
   ]
  },
  {
   "cell_type": "code",
   "execution_count": 142,
   "id": "5764336f",
   "metadata": {},
   "outputs": [],
   "source": [
    "#train_windows[100]\n"
   ]
  },
  {
   "cell_type": "code",
   "execution_count": 143,
   "id": "ceab0916",
   "metadata": {},
   "outputs": [
    {
     "data": {
      "text/plain": [
       "array([[0.46415927, 0.50988984, 0.64577348, 0.41336861, 0.54339283,\n",
       "        0.30505784],\n",
       "       [0.61631055, 0.47577149, 0.63200946, 0.42800553, 0.52958347,\n",
       "        0.32225861],\n",
       "       [0.58440585, 0.47798761, 0.62605432, 0.42846738, 0.52425058,\n",
       "        0.31570594],\n",
       "       [0.54816944, 0.50735949, 0.58084623, 0.49207758, 0.50179633,\n",
       "        0.36408312],\n",
       "       [0.56770378, 0.50416761, 0.62535917, 0.43830822, 0.50449084,\n",
       "        0.31821438],\n",
       "       [0.62639011, 0.44188468, 0.6288581 , 0.43342332, 0.54221398,\n",
       "        0.3173441 ],\n",
       "       [0.59090341, 0.47532496, 0.63441932, 0.4288404 , 0.52447513,\n",
       "        0.31626906],\n",
       "       [0.4950227 , 0.48096449, 0.65958384, 0.43983586, 0.5245874 ,\n",
       "        0.30853894],\n",
       "       [0.59311092, 0.45490025, 0.63627306, 0.41907062, 0.50359267,\n",
       "        0.31765126],\n",
       "       [0.60718897, 0.48043527, 0.62494207, 0.42781014, 0.53379364,\n",
       "        0.31022831],\n",
       "       [0.54183848, 0.50640027, 0.6577301 , 0.43800624, 0.52890984,\n",
       "        0.4147128 ],\n",
       "       [0.57720022, 0.47635033, 0.63268144, 0.42891146, 0.52469967,\n",
       "        0.31611548],\n",
       "       [0.58619684, 0.47788838, 0.62610066, 0.42882264, 0.52469967,\n",
       "        0.31601309],\n",
       "       [0.5704111 , 0.47808684, 0.62874224, 0.42853843, 0.52531716,\n",
       "        0.31585951],\n",
       "       [0.68499313, 0.50735949, 0.60241914, 0.44976551, 0.40092062,\n",
       "        0.30285654],\n",
       "       [0.5783248 , 0.48041873, 0.61993697, 0.42889369, 0.52503648,\n",
       "        0.31606429],\n",
       "       [0.58744638, 0.47682994, 0.68898879, 0.44317535, 0.50959919,\n",
       "        0.36311046],\n",
       "       [0.61397809, 0.556908  , 0.75597832, 0.42812987, 0.52116312,\n",
       "        0.31816319],\n",
       "       [0.61747678, 0.48762939, 0.61256836, 0.44079507, 0.48461883,\n",
       "        0.28499026],\n",
       "       [0.62888917, 0.47251346, 0.65603856, 0.42837856, 0.5247558 ,\n",
       "        0.31647383],\n",
       "       [0.58607189, 0.47780569, 0.62651775, 0.42901804, 0.52436286,\n",
       "        0.31626906],\n",
       "       [0.58540547, 0.47808684, 0.62600797, 0.4288404 , 0.5245874 ,\n",
       "        0.31632025],\n",
       "       [0.62368279, 0.54652199, 0.56590046, 0.48436833, 0.55287975,\n",
       "        0.36177945],\n",
       "       [0.62647341, 0.5338041 , 0.62114191, 0.4186443 , 0.46648703,\n",
       "        0.30695197],\n",
       "       [0.50943395, 0.56823668, 0.59616276, 0.42947988, 0.5261592 ,\n",
       "        0.31488685],\n",
       "       [0.59294431, 0.47357191, 0.64315507, 0.42901804, 0.52453126,\n",
       "        0.31621786],\n",
       "       [0.50235328, 0.56861706, 0.59993976, 0.42887593, 0.52419445,\n",
       "        0.3159619 ],\n",
       "       [0.61722688, 0.55892566, 0.75488924, 0.4292312 , 0.52408218,\n",
       "        0.30910207],\n",
       "       [0.58711317, 0.477293  , 0.62758365, 0.42894698, 0.52469967,\n",
       "        0.31637144],\n",
       "       [0.59181974, 0.47525881, 0.63469738, 0.42871606, 0.5245874 ,\n",
       "        0.31621786],\n",
       "       [0.57999084, 0.47601956, 0.63277413, 0.42473709, 0.52217357,\n",
       "        0.31401657],\n",
       "       [0.49485609, 0.47937682, 0.65219205, 0.44139902, 0.45554058,\n",
       "        0.274035  ],\n",
       "       [0.52717731, 0.46379782, 0.66505237, 0.43180687, 0.53738632,\n",
       "        0.32062044],\n",
       "       [0.56866175, 0.46940428, 0.71172027, 0.41972786, 0.53222184,\n",
       "        0.30203746],\n",
       "       [0.69507268, 0.48308138, 0.59426268, 0.40461133, 0.43768945,\n",
       "        0.34688235],\n",
       "       [0.62060061, 0.47467997, 0.63787191, 0.42896475, 0.52453126,\n",
       "        0.3159619 ],\n",
       "       [0.65746179, 0.48000528, 0.70266012, 0.42093576, 0.5573706 ,\n",
       "        0.33945939],\n",
       "       [0.62805615, 0.47324115, 0.63981834, 0.43264174, 0.53502862,\n",
       "        0.32527899],\n",
       "       [0.59269441, 0.47353883, 0.64296969, 0.42896475, 0.52492421,\n",
       "        0.31637144],\n",
       "       [0.61464451, 0.55991795, 0.75463435, 0.42820093, 0.52610306,\n",
       "        0.31370942],\n",
       "       [0.61581074, 0.47385305, 0.64178794, 0.42860948, 0.5245874 ,\n",
       "        0.31713933],\n",
       "       [0.69228206, 0.50859985, 0.69744647, 0.46470441, 0.59548669,\n",
       "        0.35399814],\n",
       "       [0.50414428, 0.56568979, 0.59623228, 0.42754369, 0.52363309,\n",
       "        0.31565474],\n",
       "       [0.32762712, 0.51392516, 0.55966726, 0.39791458, 0.57668125,\n",
       "        0.29318111],\n",
       "       [0.58069891, 0.49680811, 0.70912503, 0.29922196, 0.46396092,\n",
       "        0.3010648 ],\n",
       "       [0.61460286, 0.49472429, 0.60737789, 0.43082989, 0.50853261,\n",
       "        0.31289033],\n",
       "       [0.57474281, 0.47656532, 0.63288998, 0.42896475, 0.52469967,\n",
       "        0.31616667],\n",
       "       [0.51147487, 0.48203948, 0.65161276, 0.41571336, 0.5230156 ,\n",
       "        0.31033069],\n",
       "       [0.53438294, 0.47821914, 0.62862638, 0.4364786 , 0.38537104,\n",
       "        0.3060305 ],\n",
       "       [0.60727228, 0.47899644, 0.6185235 , 0.4326595 , 0.52806781,\n",
       "        0.32481825],\n",
       "       [0.53109251, 0.46569972, 0.63984151, 0.38578228, 0.54810822,\n",
       "        0.27470051],\n",
       "       [0.50031239, 0.46707238, 0.67800538, 0.42965751, 0.42730436,\n",
       "        0.32364082],\n",
       "       [0.58603024, 0.47788838, 0.62628604, 0.42878711, 0.52453126,\n",
       "        0.31657621],\n",
       "       [0.5862385 , 0.47802069, 0.62552137, 0.42894698, 0.52481194,\n",
       "        0.31606429],\n",
       "       [0.5465867 , 0.48996128, 0.75171471, 0.4539754 , 0.47344784,\n",
       "        0.27874474],\n",
       "       [0.6061477 , 0.54063439, 0.57088238, 0.42880488, 0.52481194,\n",
       "        0.31340226],\n",
       "       [0.6180599 , 0.47428304, 0.63991102, 0.42864501, 0.52419445,\n",
       "        0.31498924],\n",
       "       [0.6163522 , 0.56309329, 0.75519047, 0.42880488, 0.52441899,\n",
       "        0.3166786 ],\n",
       "       [0.57232705, 0.47724339, 0.62862638, 0.42754369, 0.52531716,\n",
       "        0.31637144],\n",
       "       [0.5864051 , 0.47749146, 0.62716656, 0.42905356, 0.52481194,\n",
       "        0.31606429],\n",
       "       [0.5864051 , 0.47780569, 0.62621652, 0.42891146, 0.5247558 ,\n",
       "        0.31637144],\n",
       "       [0.58986214, 0.4754738 , 0.6340254 , 0.42896475, 0.52419445,\n",
       "        0.31678098],\n",
       "       [0.63142988, 0.47239769, 0.65251646, 0.42798777, 0.52352082,\n",
       "        0.31780484],\n",
       "       [0.55883211, 0.47413421, 0.67205024, 0.42853843, 0.52413831,\n",
       "        0.31591071],\n",
       "       [0.58490566, 0.47810338, 0.6256604 , 0.42875159, 0.52464353,\n",
       "        0.31637144],\n",
       "       [0.62455746, 0.4874144 , 0.60749375, 0.43109634, 0.53222184,\n",
       "        0.31621786],\n",
       "       [0.62051731, 0.47385305, 0.63726944, 0.42866277, 0.52542943,\n",
       "        0.31621786],\n",
       "       [0.6043567 , 0.5415936 , 0.5704653 , 0.42891146, 0.5245874 ,\n",
       "        0.31626906],\n",
       "       [0.46424257, 0.48456982, 0.59083326, 0.43576807, 0.54704165,\n",
       "        0.30951161],\n",
       "       [0.60048315, 0.48119603, 0.61472333, 0.43088318, 0.53407432,\n",
       "        0.32840175],\n",
       "       [0.57549253, 0.47795453, 0.62681899, 0.42932001, 0.52526103,\n",
       "        0.31585951],\n",
       "       [0.61268691, 0.54710083, 0.75820279, 0.43290819, 0.53076232,\n",
       "        0.31294152],\n",
       "       [0.58544712, 0.47802069, 0.62591529, 0.42896475, 0.52469967,\n",
       "        0.31611548],\n",
       "       [0.64167604, 0.47152116, 0.66136806, 0.42852067, 0.52627147,\n",
       "        0.31253198],\n",
       "       [0.62264151, 0.51835741, 0.75386968, 0.43400951, 0.57157291,\n",
       "        0.31539878],\n",
       "       [0.57761673, 0.47170309, 0.66542312, 0.43081212, 0.52958347,\n",
       "        0.31278795],\n",
       "       [0.66724979, 0.3930804 , 0.62220781, 0.30854766, 0.47743347,\n",
       "        0.25412101],\n",
       "       [0.57815819, 0.48055103, 0.61977477, 0.42891146, 0.52453126,\n",
       "        0.31637144],\n",
       "       [0.64771544, 0.52708959, 0.56008435, 0.4254121 , 0.52385763,\n",
       "        0.2662537 ],\n",
       "       [0.58378108, 0.47835145, 0.62538234, 0.42924896, 0.5253733 ,\n",
       "        0.31555236],\n",
       "       [0.59194469, 0.47522573, 0.63462787, 0.42880488, 0.52453126,\n",
       "        0.31606429],\n",
       "       [0.64117623, 0.51033637, 0.67638336, 0.40475343, 0.63966543,\n",
       "        0.43723762],\n",
       "       [0.57807489, 0.47661494, 0.63136065, 0.4288404 , 0.52481194,\n",
       "        0.31580832],\n",
       "       [0.58069891, 0.47836799, 0.62589212, 0.42892922, 0.5247558 ,\n",
       "        0.31616667],\n",
       "       [0.60602274, 0.56329175, 0.75586245, 0.42889369, 0.52161221,\n",
       "        0.31478447],\n",
       "       [0.61614395, 0.48304831, 0.71067755, 0.4271529 , 0.53867744,\n",
       "        0.31130336],\n",
       "       [0.6299721 , 0.47347268, 0.64955047, 0.42924896, 0.5245874 ,\n",
       "        0.31585951],\n",
       "       [0.53775667, 0.47282769, 0.67179535, 0.42942659, 0.51846861,\n",
       "        0.31621786],\n",
       "       [0.61143738, 0.47128963, 0.64074521, 0.44012007, 0.46665543,\n",
       "        0.27275519],\n",
       "       [0.5046441 , 0.56906359, 0.59901289, 0.42848514, 0.52610306,\n",
       "        0.31570594],\n",
       "       [0.58653005, 0.47744185, 0.62753731, 0.42901804, 0.52436286,\n",
       "        0.31611548],\n",
       "       [0.61060436, 0.48177487, 0.64343313, 0.42557197, 0.54440327,\n",
       "        0.33009111],\n",
       "       [0.57116082, 0.4782853 , 0.62756048, 0.42908909, 0.52469967,\n",
       "        0.31606429],\n",
       "       [0.4400433 , 0.50830217, 0.68597646, 0.47058404, 0.58128438,\n",
       "        0.35599466],\n",
       "       [0.61393644, 0.46796545, 0.64897118, 0.4475984 , 0.56708207,\n",
       "        0.31934062],\n",
       "       [0.6182265 , 0.47411767, 0.64123181, 0.42882264, 0.52498035,\n",
       "        0.31678098],\n",
       "       [0.62805615, 0.47296   , 0.65128835, 0.42896475, 0.5247558 ,\n",
       "        0.31616667],\n",
       "       [0.57403474, 0.47601956, 0.63520716, 0.42848514, 0.52531716,\n",
       "        0.31601309],\n",
       "       [0.61997585, 0.47418382, 0.64037446, 0.42885817, 0.52453126,\n",
       "        0.31606429],\n",
       "       [0.61343663, 0.48488405, 0.61011216, 0.42658447, 0.53615134,\n",
       "        0.33777003],\n",
       "       [0.65167229, 0.57376044, 0.74149597, 0.4645623 , 0.53143594,\n",
       "        0.34032967],\n",
       "       [0.63571994, 0.47305923, 0.6493651 , 0.42963975, 0.52447513,\n",
       "        0.31391419],\n",
       "       [0.4872756 , 0.47542419, 0.69366948, 0.29211666, 0.49113056,\n",
       "        0.24572539],\n",
       "       [0.58611354, 0.47757416, 0.62737511, 0.42892922, 0.52469967,\n",
       "        0.31637144],\n",
       "       [0.73330835, 0.49512121, 0.66292057, 0.43487991, 0.54125968,\n",
       "        0.298198  ],\n",
       "       [0.57720022, 0.47630071, 0.63286681, 0.42892922, 0.52469967,\n",
       "        0.31616667],\n",
       "       [0.61739348, 0.47360498, 0.64162573, 0.42889369, 0.52464353,\n",
       "        0.31652502],\n",
       "       [0.62918073, 0.47479574, 0.67436741, 0.42958646, 0.51554956,\n",
       "        0.31606429],\n",
       "       [0.63101337, 0.47686301, 0.69404023, 0.42926672, 0.52604692,\n",
       "        0.29133817],\n",
       "       [0.61780999, 0.46788276, 0.6496895 , 0.41452322, 0.54945548,\n",
       "        0.3045971 ],\n",
       "       [0.6202674 , 0.47463035, 0.63916953, 0.42932001, 0.52520489,\n",
       "        0.31826558],\n",
       "       [0.50231163, 0.56714515, 0.59857262, 0.42983515, 0.5230156 ,\n",
       "        0.31852154],\n",
       "       [0.65821151, 0.48227101, 0.57996571, 0.4663031 , 0.52885371,\n",
       "        0.31944301],\n",
       "       [0.48798367, 0.50932754, 0.62338957, 0.43443583, 0.56326484,\n",
       "        0.30946041],\n",
       "       [0.7116498 , 0.49553466, 0.69957827, 0.41351072, 0.51111485,\n",
       "        0.33643902],\n",
       "       [0.61089592, 0.5124698 , 0.57876079, 0.43868125, 0.57724261,\n",
       "        0.31678098],\n",
       "       [0.56166438, 0.50582143, 0.59454074, 0.42647789, 0.51762658,\n",
       "        0.32435752],\n",
       "       [0.63172144, 0.4740019 , 0.59736769, 0.38295793, 0.52273492,\n",
       "        0.3351592 ],\n",
       "       [0.71006706, 0.48802631, 0.65942164, 0.43249963, 0.52924665,\n",
       "        0.30362444],\n",
       "       [0.58702987, 0.47959182, 0.61678562, 0.44784708, 0.52890984,\n",
       "        0.3130951 ],\n",
       "       [0.60477321, 0.47848376, 0.70778108, 0.42747263, 0.50572583,\n",
       "        0.32143953],\n",
       "       [0.63509517, 0.48637249, 0.71844008, 0.42601605, 0.52986415,\n",
       "        0.32476706],\n",
       "       [0.58619684, 0.47783877, 0.62593846, 0.4290358 , 0.52464353,\n",
       "        0.31611548],\n",
       "       [0.55112666, 0.4944266 , 0.80035221, 0.3917685 , 0.63983384,\n",
       "        0.32916964],\n",
       "       [0.5722854 , 0.47858299, 0.62899713, 0.43424043, 0.52453126,\n",
       "        0.32005732],\n",
       "       [0.6161023 , 0.55737107, 0.75627955, 0.42901804, 0.5245874 ,\n",
       "        0.31657621],\n",
       "       [0.5843642 , 0.47816953, 0.62577626, 0.42891146, 0.5247558 ,\n",
       "        0.31606429],\n",
       "       [0.57374318, 0.4760361 , 0.63504496, 0.42880488, 0.52469967,\n",
       "        0.31683218],\n",
       "       [0.61714357, 0.46870967, 0.68878024, 0.42772132, 0.59481307,\n",
       "        0.29210606],\n",
       "       [0.58182349, 0.47901298, 0.62387618, 0.42885817, 0.52441899,\n",
       "        0.31754888],\n",
       "       [0.58523887, 0.47773954, 0.6265641 , 0.4290358 , 0.5247558 ,\n",
       "        0.31585951],\n",
       "       [0.52297055, 0.58260839, 0.59507369, 0.43621215, 0.49747389,\n",
       "        0.33853792],\n",
       "       [0.47415552, 0.57425659, 0.60923163, 0.42667329, 0.52408218,\n",
       "        0.28345448],\n",
       "       [0.54108876, 0.51683589, 0.59016128, 0.42242787, 0.53109913,\n",
       "        0.32102999],\n",
       "       [0.58590529, 0.47777261, 0.62661044, 0.42891146, 0.52453126,\n",
       "        0.31657621],\n",
       "       [0.61202049, 0.56104255, 0.75579294, 0.42917791, 0.52453126,\n",
       "        0.31790723],\n",
       "       [0.62414095, 0.53315911, 0.58327927, 0.41145018, 0.44953407,\n",
       "        0.32952799],\n",
       "       [0.53538256, 0.47522573, 0.67784318, 0.4186443 , 0.3867183 ,\n",
       "        0.32819698],\n",
       "       [0.65329668, 0.54354511, 0.76788859, 0.40011723, 0.44605366,\n",
       "        0.3557387 ],\n",
       "       [0.61585239, 0.47496111, 0.6928353 , 0.41804035, 0.5981812 ,\n",
       "        0.28647485],\n",
       "       [0.61964264, 0.47420036, 0.6402586 , 0.42892922, 0.52492421,\n",
       "        0.31626906],\n",
       "       [0.62963889, 0.47304268, 0.65177496, 0.42887593, 0.52419445,\n",
       "        0.31662741],\n",
       "       [0.42434086, 0.52014353, 0.68018352, 0.42692197, 0.51240597,\n",
       "        0.32143953],\n",
       "       [0.60406514, 0.47094233, 0.64368802, 0.43615886, 0.509936  ,\n",
       "        0.32763386],\n",
       "       [0.51572327, 0.5752985 , 0.59919826, 0.44159442, 0.48910968,\n",
       "        0.35532916],\n",
       "       [0.55995668, 0.47386959, 0.67112337, 0.42876935, 0.52464353,\n",
       "        0.31621786],\n",
       "       [0.57874131, 0.47835145, 0.62589212, 0.42873382, 0.5247558 ,\n",
       "        0.31601309],\n",
       "       [0.58398934, 0.47912875, 0.62274076, 0.42969304, 0.52368923,\n",
       "        0.31621786],\n",
       "       [0.58286476, 0.4949889 , 0.61641487, 0.42940883, 0.53188503,\n",
       "        0.30700316],\n",
       "       [0.62118373, 0.47428304, 0.63958662, 0.42891146, 0.5245874 ,\n",
       "        0.31601309]])"
      ]
     },
     "execution_count": 143,
     "metadata": {},
     "output_type": "execute_result"
    }
   ],
   "source": [
    "train_windows[100]"
   ]
  },
  {
   "cell_type": "code",
   "execution_count": null,
   "id": "dec1c1bb",
   "metadata": {},
   "outputs": [],
   "source": []
  },
  {
   "cell_type": "code",
   "execution_count": 144,
   "id": "354c75cc",
   "metadata": {},
   "outputs": [
    {
     "data": {
      "text/plain": [
       "[<keras.metrics.base_metric.Mean at 0x7f5ca04f9650>,\n",
       " <keras.metrics.base_metric.MeanMetricWrapper at 0x7f5c826cf5d0>]"
      ]
     },
     "execution_count": 144,
     "metadata": {},
     "output_type": "execute_result"
    }
   ],
   "source": [
    "model.metrics"
   ]
  },
  {
   "cell_type": "code",
   "execution_count": 145,
   "id": "a2b975a0",
   "metadata": {},
   "outputs": [
    {
     "data": {
      "text/plain": [
       "{'loss': [0.03257523104548454, 0.0, 0.0, 0.0, 0.0, 0.0, 0.0, 0.0, 0.0, 0.0],\n",
       " 'accuracy': [0.9401041865348816, 1.0, 1.0, 1.0, 1.0, 1.0, 1.0, 1.0, 1.0, 1.0],\n",
       " 'val_loss': [0.0, 0.0, 0.0, 0.0, 0.0, 0.0, 0.0, 0.0, 0.0, 0.0],\n",
       " 'val_accuracy': [1.0, 1.0, 1.0, 1.0, 1.0, 1.0, 1.0, 1.0, 1.0, 1.0]}"
      ]
     },
     "execution_count": 145,
     "metadata": {},
     "output_type": "execute_result"
    }
   ],
   "source": [
    "model.history.history"
   ]
  },
  {
   "cell_type": "code",
   "execution_count": 146,
   "id": "c97e4d95",
   "metadata": {},
   "outputs": [
    {
     "data": {
      "text/plain": [
       "[<matplotlib.lines.Line2D at 0x7f5ca0452e10>]"
      ]
     },
     "execution_count": 146,
     "metadata": {},
     "output_type": "execute_result"
    },
    {
     "data": {
      "image/png": "[encoded data removed]",
      "text/plain": [
       "<Figure size 640x480 with 1 Axes>"
      ]
     },
     "metadata": {},
     "output_type": "display_data"
    }
   ],
   "source": [
    "loss_graph=pd.DataFrame(model.history.history['loss'])\n",
    "vloss_graph=pd.DataFrame(model.history.history['val_loss'])\n",
    "plt.plot(loss_graph)\n",
    "plt.plot(vloss_graph)\n"
   ]
  },
  {
   "cell_type": "code",
   "execution_count": 147,
   "id": "66a3295f",
   "metadata": {},
   "outputs": [
    {
     "data": {
      "text/plain": [
       "[<matplotlib.lines.Line2D at 0x7f5ca04aef50>]"
      ]
     },
     "execution_count": 147,
     "metadata": {},
     "output_type": "execute_result"
    },
    {
     "data": {
      "image/png": "[encoded data removed]",
      "text/plain": [
       "<Figure size 640x480 with 1 Axes>"
      ]
     },
     "metadata": {},
     "output_type": "display_data"
    }
   ],
   "source": [
    "acc_graph=pd.DataFrame(model.history.history['accuracy'])\n",
    "vacc_graph=pd.DataFrame(model.history.history['val_accuracy'])\n",
    "plt.plot(acc_graph)\n",
    "plt.plot(vacc_graph)\n"
   ]
  },
  {
   "cell_type": "code",
   "execution_count": null,
   "id": "d596e4b2",
   "metadata": {},
   "outputs": [],
   "source": []
  },
  {
   "cell_type": "code",
   "execution_count": null,
   "id": "8c132508",
   "metadata": {},
   "outputs": [],
   "source": []
  },
  {
   "cell_type": "code",
   "execution_count": null,
   "id": "2d1074f2",
   "metadata": {},
   "outputs": [],
   "source": []
  },
  {
   "cell_type": "code",
   "execution_count": 148,
   "id": "77e59457",
   "metadata": {},
   "outputs": [
    {
     "name": "stdout",
     "output_type": "stream",
     "text": [
      "3/3 [==============================] - 0s 70ms/step\n"
     ]
    }
   ],
   "source": [
    "pred=model.predict(test_windows)"
   ]
  },
  {
   "cell_type": "code",
   "execution_count": null,
   "id": "3210d3f6",
   "metadata": {},
   "outputs": [],
   "source": []
  },
  {
   "cell_type": "code",
   "execution_count": 149,
   "id": "e99b977d",
   "metadata": {},
   "outputs": [
    {
     "data": {
      "text/plain": [
       "array([[1.00000000e+00, 3.46253115e-09, 2.55012567e-10],\n",
       "       [1.00000000e+00, 1.86537830e-09, 1.31882560e-10],\n",
       "       [1.00000000e+00, 2.25102847e-09, 1.51236135e-10],\n",
       "       [1.00000000e+00, 4.57735450e-09, 3.24317406e-10],\n",
       "       [1.00000000e+00, 1.27643529e-09, 9.06426878e-11],\n",
       "       [1.00000000e+00, 7.37352224e-09, 5.81163340e-10],\n",
       "       [1.00000000e+00, 1.29485567e-09, 8.44739417e-11],\n",
       "       [1.00000000e+00, 5.03382358e-09, 3.64441699e-10],\n",
       "       [1.00000000e+00, 2.93787772e-09, 2.09824838e-10],\n",
       "       [1.00000000e+00, 4.43833548e-09, 3.48318319e-10],\n",
       "       [1.00000000e+00, 5.94833161e-09, 5.08070863e-10],\n",
       "       [1.00000000e+00, 4.56452121e-09, 3.38344297e-10],\n",
       "       [1.00000000e+00, 3.80800724e-09, 2.85230867e-10],\n",
       "       [1.00000000e+00, 1.70084191e-09, 1.16615051e-10],\n",
       "       [1.00000000e+00, 3.28389071e-09, 2.33672387e-10],\n",
       "       [1.00000000e+00, 2.22386132e-09, 1.58744018e-10],\n",
       "       [1.00000000e+00, 9.67802727e-10, 6.18766358e-11],\n",
       "       [1.00000000e+00, 1.30894751e-09, 8.53340038e-11],\n",
       "       [1.00000000e+00, 3.53567553e-09, 2.49956195e-10],\n",
       "       [1.00000000e+00, 3.86952426e-09, 2.95030333e-10],\n",
       "       [1.00000000e+00, 3.09839243e-09, 2.14501000e-10],\n",
       "       [1.00000000e+00, 4.00212219e-09, 3.06409925e-10],\n",
       "       [1.00000000e+00, 7.04265757e-09, 5.88921967e-10],\n",
       "       [1.00000000e+00, 5.98788841e-09, 4.61969851e-10],\n",
       "       [1.00000000e+00, 4.64536010e-09, 3.27397026e-10],\n",
       "       [1.00000000e+00, 2.11216244e-09, 1.42112752e-10],\n",
       "       [1.00000000e+00, 4.54156845e-09, 3.57645080e-10],\n",
       "       [1.00000000e+00, 7.22649318e-09, 5.65414104e-10],\n",
       "       [1.00000000e+00, 1.48290658e-09, 1.01939131e-10],\n",
       "       [1.00000000e+00, 4.41493109e-09, 3.26291105e-10],\n",
       "       [1.00000000e+00, 3.76240061e-09, 2.84056029e-10],\n",
       "       [1.00000000e+00, 3.99830746e-09, 3.05134445e-10],\n",
       "       [1.00000000e+00, 6.79786138e-09, 5.22844767e-10],\n",
       "       [1.00000000e+00, 2.60538346e-09, 1.99027933e-10],\n",
       "       [1.00000000e+00, 3.74376041e-09, 2.74264084e-10],\n",
       "       [1.00000000e+00, 4.62873251e-09, 3.63857583e-10],\n",
       "       [1.00000000e+00, 2.90449798e-09, 2.11202861e-10],\n",
       "       [1.00000000e+00, 3.22350857e-09, 2.21321392e-10],\n",
       "       [1.00000000e+00, 2.42066922e-09, 1.84645688e-10],\n",
       "       [1.00000000e+00, 3.62424002e-09, 2.83388757e-10],\n",
       "       [1.00000000e+00, 1.15232768e-09, 7.57192087e-11],\n",
       "       [1.00000000e+00, 3.55116625e-09, 2.62776523e-10],\n",
       "       [1.00000000e+00, 1.56160207e-09, 9.35440753e-11],\n",
       "       [1.00000000e+00, 6.56989851e-10, 3.75300797e-11],\n",
       "       [1.00000000e+00, 3.65909458e-09, 2.54960025e-10],\n",
       "       [1.00000000e+00, 3.33245675e-09, 2.39838732e-10],\n",
       "       [1.00000000e+00, 3.42465944e-09, 2.37488029e-10],\n",
       "       [1.00000000e+00, 1.07224729e-09, 7.12285370e-11],\n",
       "       [1.00000000e+00, 3.31011374e-09, 2.48304932e-10],\n",
       "       [1.00000000e+00, 3.74520281e-09, 2.80816287e-10],\n",
       "       [1.00000000e+00, 6.96962843e-09, 6.35263731e-10],\n",
       "       [1.00000000e+00, 1.78325599e-09, 1.22075711e-10],\n",
       "       [1.00000000e+00, 3.96953892e-09, 2.88867347e-10],\n",
       "       [1.00000000e+00, 3.12916226e-09, 2.16825488e-10],\n",
       "       [1.00000000e+00, 3.99756761e-09, 2.96957764e-10],\n",
       "       [1.00000000e+00, 1.91892502e-09, 1.34079289e-10],\n",
       "       [1.00000000e+00, 2.44076248e-09, 1.58536143e-10],\n",
       "       [1.00000000e+00, 1.71464287e-09, 1.19244184e-10],\n",
       "       [1.00000000e+00, 3.19828874e-09, 2.54580523e-10],\n",
       "       [1.00000000e+00, 7.66856134e-10, 4.76786839e-11],\n",
       "       [1.00000000e+00, 1.93645566e-09, 1.39969827e-10],\n",
       "       [1.00000000e+00, 5.10184250e-09, 4.12596485e-10],\n",
       "       [1.00000000e+00, 3.64994923e-09, 2.67520145e-10],\n",
       "       [1.00000000e+00, 4.85348961e-09, 3.45175527e-10],\n",
       "       [1.00000000e+00, 1.94932204e-09, 1.38215689e-10],\n",
       "       [1.00000000e+00, 2.67540190e-09, 1.90114924e-10],\n",
       "       [1.00000000e+00, 3.85428400e-09, 3.02276898e-10],\n",
       "       [1.00000000e+00, 4.65929162e-09, 3.53523572e-10],\n",
       "       [1.00000000e+00, 2.31456365e-09, 1.62572372e-10],\n",
       "       [1.00000000e+00, 5.99790173e-09, 4.81578055e-10],\n",
       "       [1.00000000e+00, 1.18896093e-09, 8.30696414e-11],\n",
       "       [1.00000000e+00, 3.84784204e-09, 3.02537634e-10],\n",
       "       [1.00000000e+00, 1.55119717e-09, 1.07445573e-10],\n",
       "       [1.00000000e+00, 3.31875571e-09, 2.33772224e-10],\n",
       "       [1.00000000e+00, 1.21290844e-09, 8.00776875e-11],\n",
       "       [1.00000000e+00, 9.00313990e-10, 5.27063844e-11],\n",
       "       [1.00000000e+00, 4.66889949e-09, 3.61535246e-10],\n",
       "       [1.00000000e+00, 1.18589485e-08, 1.12823484e-09],\n",
       "       [1.00000000e+00, 1.43325551e-09, 9.27936269e-11],\n",
       "       [1.00000000e+00, 2.14542828e-09, 1.44947471e-10],\n",
       "       [1.00000000e+00, 7.33268157e-09, 5.55281265e-10],\n",
       "       [1.00000000e+00, 1.88005522e-09, 1.25023811e-10],\n",
       "       [1.00000000e+00, 4.11468148e-09, 2.82433132e-10],\n",
       "       [1.00000000e+00, 1.02432873e-09, 6.25021007e-11],\n",
       "       [1.00000000e+00, 3.06221914e-09, 2.14568516e-10],\n",
       "       [1.00000000e+00, 2.97651392e-09, 1.99338324e-10],\n",
       "       [1.00000000e+00, 1.56241242e-09, 9.95748622e-11],\n",
       "       [1.00000000e+00, 3.82629617e-09, 2.71851680e-10],\n",
       "       [1.00000000e+00, 7.03276459e-09, 6.04004347e-10],\n",
       "       [1.00000000e+00, 3.90372801e-09, 2.90872104e-10],\n",
       "       [1.00000000e+00, 3.35210415e-09, 2.35884506e-10],\n",
       "       [1.00000000e+00, 3.03609471e-09, 2.20193794e-10],\n",
       "       [1.00000000e+00, 2.74288858e-09, 1.88729379e-10],\n",
       "       [1.00000000e+00, 4.62280347e-09, 3.35747125e-10],\n",
       "       [1.00000000e+00, 6.10531359e-09, 4.88691809e-10],\n",
       "       [1.00000000e+00, 2.22106777e-09, 1.59667141e-10]], dtype=float32)"
      ]
     },
     "execution_count": 149,
     "metadata": {},
     "output_type": "execute_result"
    }
   ],
   "source": [
    "pred"
   ]
  },
  {
   "cell_type": "code",
   "execution_count": 150,
   "id": "ce8ea02e",
   "metadata": {},
   "outputs": [],
   "source": [
    "\n",
    "\n",
    "#from sklearn.metrics import confusion_matrix\n",
    "#from sklearn.metrics import classification_report\n",
    "#print(confusion_matrix(pred,test_labels))\n",
    "\n"
   ]
  },
  {
   "cell_type": "code",
   "execution_count": null,
   "id": "24516204",
   "metadata": {},
   "outputs": [],
   "source": [
    "#print(classification_report(pred,test_labels))\n",
    "\n",
    "##Precision is calculated by dividing the true positives by anything that was predicted as a positive. \n",
    "##Recall (or True Positive Rate) is calculated by dividing the true positives by anything that should have been predicted as positive.\n"
   ]
  },
  {
   "cell_type": "code",
   "execution_count": null,
   "id": "e45756a1",
   "metadata": {},
   "outputs": [],
   "source": []
  },
  {
   "cell_type": "code",
   "execution_count": null,
   "id": "b16ebb87",
   "metadata": {},
   "outputs": [],
   "source": []
  },
  {
   "cell_type": "code",
   "execution_count": null,
   "id": "09606410",
   "metadata": {},
   "outputs": [],
   "source": []
  },
  {
   "cell_type": "code",
   "execution_count": null,
   "id": "4c8feb2f",
   "metadata": {},
   "outputs": [],
   "source": []
  },
  {
   "cell_type": "code",
   "execution_count": null,
   "id": "e838dd29",
   "metadata": {},
   "outputs": [],
   "source": []
  },
  {
   "cell_type": "code",
   "execution_count": null,
   "id": "4be20488",
   "metadata": {},
   "outputs": [],
   "source": []
  },
  {
   "cell_type": "code",
   "execution_count": null,
   "id": "1ea49ba1",
   "metadata": {},
   "outputs": [],
   "source": []
  },
  {
   "cell_type": "code",
   "execution_count": null,
   "id": "f849cb0a",
   "metadata": {},
   "outputs": [],
   "source": []
  },
  {
   "cell_type": "code",
   "execution_count": null,
   "id": "4c27483f",
   "metadata": {},
   "outputs": [],
   "source": []
  },
  {
   "cell_type": "code",
   "execution_count": null,
   "id": "7ab06f94",
   "metadata": {},
   "outputs": [],
   "source": []
  },
  {
   "cell_type": "code",
   "execution_count": null,
   "id": "8b77099b",
   "metadata": {},
   "outputs": [],
   "source": []
  },
  {
   "cell_type": "code",
   "execution_count": null,
   "id": "36871249",
   "metadata": {},
   "outputs": [],
   "source": []
  }
 ],
 "metadata": {
  "kernelspec": {
   "display_name": "pa",
   "language": "python",
   "name": "pa"
  },
  "language_info": {
   "codemirror_mode": {
    "name": "ipython",
    "version": 3
   },
   "file_extension": ".py",
   "mimetype": "text/x-python",
   "name": "python",
   "nbconvert_exporter": "python",
   "pygments_lexer": "ipython3",
   "version": "3.11.5"
  }
 },
 "nbformat": 4,
 "nbformat_minor": 5
}
