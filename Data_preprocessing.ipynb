{
  "nbformat": 4,
  "nbformat_minor": 0,
  "metadata": {
    "colab": {
      "provenance": [],
      "authorship_tag": "ABX9TyPYROpRcFW84ZGgrfUCeLbd"
    },
    "kernelspec": {
      "name": "python3",
      "display_name": "Python 3"
    },
    "language_info": {
      "name": "python"
    }
  },
  "cells": [
    {
      "cell_type": "code",
      "execution_count": 1,
      "metadata": {
        "id": "aRuB_BHP0pb5"
      },
      "outputs": [],
      "source": [
        "import os\n",
        "import numpy as np\n",
        "import pandas as pd\n",
        "import matplotlib.pyplot as plt\n",
        "from sklearn.preprocessing import MinMaxScaler\n",
        "from sklearn.model_selection import train_test_split, cross_val_score\n",
        "from sklearn.metrics import accuracy_score, f1_score\n",
        "from sklearn.metrics import confusion_matrix\n",
        "from sklearn.metrics import classification_report\n",
        "from torch.utils.data import DataLoader, Dataset, TensorDataset\n",
        "from sklearn.model_selection import LeaveOneGroupOut, KFold\n",
        "from keras.utils import to_categorical\n",
        "import torch\n",
        "import torch.nn as nn\n",
        "import torch.optim as optim"
      ]
    },
    {
      "cell_type": "code",
      "source": [
        "from google.colab import drive\n",
        "drive.mount('/content/drive')"
      ],
      "metadata": {
        "colab": {
          "base_uri": "https://localhost:8080/"
        },
        "id": "c0P294TQ00Lz",
        "outputId": "a825094f-1123-4c5b-e092-f3c656dc93f1"
      },
      "execution_count": 2,
      "outputs": [
        {
          "output_type": "stream",
          "name": "stdout",
          "text": [
            "Mounted at /content/drive\n"
          ]
        }
      ]
    },
    {
      "cell_type": "code",
      "source": [
        "# Define folders containing the CSV files\n",
        "folder = '/content/drive/MyDrive/'"
      ],
      "metadata": {
        "id": "BWpLBoFs1KMG"
      },
      "execution_count": 3,
      "outputs": []
    },
    {
      "cell_type": "code",
      "source": [
        "num_files_to_load = 20  # Adjust this number to load the desired amount\n",
        "\n",
        "# Initialize a list to store loaded DataFrames\n",
        "dataframes = []\n",
        "\n",
        "# Counter to keep track of loaded files\n",
        "count = 0\n",
        "\n",
        "for filename in os.listdir(folder):\n",
        "    if filename.endswith('.csv'):\n",
        "        file_path = os.path.join(folder, filename)\n",
        "        print(file_path)\n",
        "        df = pd.read_csv(file_path, engine='python')\n",
        "\n",
        "        columns_to_drop = ['datetime', 'user yes/no', 'compulsive', 'urge', 'tense']\n",
        "        #df = df[(df['ignore' == 0])]\n",
        "        df = df.drop(columns=columns_to_drop)\n",
        "        dataframes.append(df)\n",
        "        count += 1\n",
        "\n",
        "        if count >= num_files_to_load:\n",
        "            break"
      ],
      "metadata": {
        "colab": {
          "base_uri": "https://localhost:8080/"
        },
        "id": "Aap4WkKH1UlX",
        "outputId": "6253cd16-a71e-4374-c352-572ad128ee86"
      },
      "execution_count": 4,
      "outputs": [
        {
          "output_type": "stream",
          "name": "stdout",
          "text": [
            "/content/drive/MyDrive/OCDetect_01_recording_22_cd9083e3-083b-46b1-9e0d-ed0441149ae7.csv\n",
            "/content/drive/MyDrive/OCDetect_01_recording_23_ca3338e3-5685-43fc-8917-28abafc1885a.csv\n",
            "/content/drive/MyDrive/OCDetect_01_recording_24_31debe60-483c-43b0-9b3f-09cd398fb63b.csv\n",
            "/content/drive/MyDrive/OCDetect_03_recording_06_c076109d-651c-46c4-a745-5df8b383bec3.csv\n",
            "/content/drive/MyDrive/OCDetect_03_recording_07_1764e99b-066a-43fc-a9f4-cce4583da909.csv\n",
            "/content/drive/MyDrive/OCDetect_03_recording_08_f08133be-a401-412e-bc35-d9a04d0d7744.csv\n",
            "/content/drive/MyDrive/OCDetect_03_recording_09_ca585847-6ab5-4121-a1bf-87ca67bf0dfa.csv\n",
            "/content/drive/MyDrive/OCDetect_03_recording_10_62a7d4a4-6e46-471e-8b86-c79a4b495368.csv\n",
            "/content/drive/MyDrive/OCDetect_03_recording_11_2877c8f5-29ee-4b8e-a0b2-12e116579073.csv\n",
            "/content/drive/MyDrive/OCDetect_03_recording_13_4b27c776-7013-4adb-8710-0fedc5b5104a.csv\n",
            "/content/drive/MyDrive/OCDetect_03_recording_14_d37d0b86-feef-47b4-8668-3bd6966fafb9.csv\n",
            "/content/drive/MyDrive/OCDetect_03_recording_15_eabd4764-1914-430e-85a4-11fdc5e7d3e8.csv\n",
            "/content/drive/MyDrive/OCDetect_03_recording_19_af5a7631-7245-461c-a94c-1cd44ad7b203.csv\n",
            "/content/drive/MyDrive/OCDetect_03_recording_24_f7d02f54-52c4-4563-bb91-e1931576a213.csv\n",
            "/content/drive/MyDrive/OCDetect_03_recording_25_1c6a2d99-4e4d-467e-b20e-5168b8257f11.csv\n",
            "/content/drive/MyDrive/OCDetect_03_recording_26_b15bbcce-d4fd-47fd-a4e9-e4841dde741e.csv\n",
            "/content/drive/MyDrive/OCDetect_03_recording_27_cd5b4fbb-23a1-44e5-8901-50362e0d7ff8.csv\n",
            "/content/drive/MyDrive/OCDetect_03_recording_28_acbcfa15-0f21-45ec-aeeb-40beefa8ce19.csv\n",
            "/content/drive/MyDrive/OCDetect_03_recording_29_85587ee0-c568-450b-ae4c-b0eb0ba04879.csv\n",
            "/content/drive/MyDrive/OCDetect_03_recording_30_6d10b041-a391-4249-9cf0-808c914da2a9.csv\n"
          ]
        }
      ]
    },
    {
      "cell_type": "code",
      "source": [
        "filtered_dfs = [df[df['ignore'] == 0].copy() for df in dataframes if 'ignore' in df.columns and (df['ignore'] == 0).any()]\n",
        "two_class_df = [df[df['relabeled'].isin([1, 2])] for df in dataframes]\n",
        "two_class_comb = pd.concat(two_class_df)"
      ],
      "metadata": {
        "id": "tzsuDzC81YlZ"
      },
      "execution_count": 5,
      "outputs": []
    },
    {
      "cell_type": "code",
      "source": [
        "scaler=MinMaxScaler()\n",
        "two_class_comb[[\"acc x\",\"acc y\",\"acc z\",\"gyro x\",\"gyro y\",\"gyro z\"]]=scaler.fit_transform(two_class_comb[[\"acc x\",\"acc y\",\"acc z\",\"gyro x\",\"gyro y\",\"gyro z\"]])"
      ],
      "metadata": {
        "id": "LTeZfs1N2YZA"
      },
      "execution_count": 6,
      "outputs": []
    },
    {
      "cell_type": "code",
      "source": [
        "label_counts = two_class_comb['relabeled'].value_counts()\n",
        "count_label_1 = label_counts.get(1, 0)  # Count of label 1, default to 0 if not found\n",
        "count_label_2 = label_counts.get(2, 0)  # Count of label 2, default to 0 if not found\n",
        "if(count_label_1 & count_label_2):\n",
        "    print(count_label_1)\n",
        "    print(count_label_2)"
      ],
      "metadata": {
        "colab": {
          "base_uri": "https://localhost:8080/"
        },
        "id": "GmjCkdBL2aW2",
        "outputId": "43309199-ce1b-40a7-97b0-a5c83b250ac4"
      },
      "execution_count": 7,
      "outputs": [
        {
          "output_type": "stream",
          "name": "stdout",
          "text": [
            "161585\n",
            "213207\n"
          ]
        }
      ]
    },
    {
      "cell_type": "code",
      "source": [
        "# Split data into train and test sets\n",
        "train_data, test_data, y_train, y_test = train_test_split(two_class_comb.drop(columns=['relabeled', 'timestamp', 'ignore']), two_class_comb['relabeled'], test_size=0.4)\n",
        "print(f\"values of train labels: {len(np.unique(y_train))}\")\n",
        "print(f\"values of test labels: {len(np.unique(y_test))}\")"
      ],
      "metadata": {
        "colab": {
          "base_uri": "https://localhost:8080/"
        },
        "id": "cGlp83cI2khu",
        "outputId": "a7877f8c-e853-4614-ebe7-b504058ddf1b"
      },
      "execution_count": 8,
      "outputs": [
        {
          "output_type": "stream",
          "name": "stdout",
          "text": [
            "values of train labels: 2\n",
            "values of test labels: 2\n"
          ]
        }
      ]
    },
    {
      "cell_type": "code",
      "source": [
        "# Define window size\n",
        "window_size = 150\n",
        "step_size = 150\n",
        "X_train = train_data.values\n",
        "# Initialize lists to store windowed data and labels\n",
        "train_windows = []\n",
        "train_labels = []\n",
        "\n",
        "for i in range(0,(len(X_train)-window_size+1),step_size):\n",
        "    window = X_train[i:i+window_size]  # Select only sensor axes columns\n",
        "    train_windows.append(window)\n",
        "    label_window = y_train[i:i+window_size]  # Select the label column for majority voting\n",
        "    majority_label = np.bincount(label_window).argmax()  # Majority voting\n",
        "    train_labels.append(majority_label)\n",
        "\n",
        "train_windows = np.array(train_windows)\n",
        "train_labels = np.array(train_labels)"
      ],
      "metadata": {
        "id": "nnEGbXe82nvV"
      },
      "execution_count": 9,
      "outputs": []
    },
    {
      "cell_type": "code",
      "source": [
        "# Save both arrays to a single .npz file\n",
        "np.savez('training_data.npz', train_windows=train_windows, train_labels=train_labels)\n"
      ],
      "metadata": {
        "id": "DKnFZTXu27-n"
      },
      "execution_count": 11,
      "outputs": []
    },
    {
      "cell_type": "code",
      "source": [
        "# Download the file\n",
        "from google.colab import files\n",
        "files.download('training_data.npz')"
      ],
      "metadata": {
        "id": "-EGu9wHi3CwZ"
      },
      "execution_count": null,
      "outputs": []
    },
    {
      "cell_type": "code",
      "source": [
        "# Creating test windows and labels\n",
        "test_windows = []\n",
        "test_labels = []\n",
        "\n",
        "X_test = test_data.values\n",
        "\n",
        "# Create sliding windows and labels for testing\n",
        "for i in range(0, len(X_test) - window_size + 1, step_size):\n",
        "    window = X_test[i:i + window_size]  # Exclude the last column (label)\n",
        "    test_windows.append(window)\n",
        "    label_window = y_test[i:i + window_size]  # Label column in the window\n",
        "    # Majority voting for label\n",
        "    majority_label = np.bincount(label_window).argmax()\n",
        "    test_labels.append(majority_label)\n",
        "\n",
        "# Convert test windows and labels to numpy arrays\n",
        "test_windows = np.array(test_windows)\n",
        "test_labels = np.array(test_labels)"
      ],
      "metadata": {
        "id": "1dEI9w3_3N8u"
      },
      "execution_count": 12,
      "outputs": []
    }
  ]
}