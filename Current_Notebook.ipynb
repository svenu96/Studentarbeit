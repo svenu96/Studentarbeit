{
 "cells": [
  {
   "cell_type": "code",
   "execution_count": 1,
   "id": "9c170372-eea3-43e9-aa35-42d9012a71fd",
   "metadata": {},
   "outputs": [],
   "source": [
    "#Use one hot encoding such that classes are : 100,010,001\n",
    "\n",
    "\n",
    "\n"
   ]
  },
  {
   "cell_type": "code",
   "execution_count": 2,
   "id": "aa8a32ba-c701-43af-a390-9ed63afb3334",
   "metadata": {},
   "outputs": [],
   "source": [
    "import numpy as np\n",
    "import pandas as pd\n",
    "import matplotlib.pyplot as plt\n",
    "import keras"
   ]
  },
  {
   "cell_type": "code",
   "execution_count": 3,
   "id": "9f816a85-523c-4089-8e02-f27a5f3d9043",
   "metadata": {},
   "outputs": [],
   "source": [
    "data1=pd.read_csv(r\"C:\\Users\\raina\\Desktop\\Project Arbeit\\New Dataset\\OCDetect_03_recording_06_c076109d-651c-46c4-a745-5df8b383bec3.csv\")"
   ]
  },
  {
   "cell_type": "code",
   "execution_count": 4,
   "id": "56e85a53-6e4d-45ed-bc26-1ae98efd0014",
   "metadata": {},
   "outputs": [],
   "source": [
    "data=data1"
   ]
  },
  {
   "cell_type": "code",
   "execution_count": null,
   "id": "722174a4-f54c-4c2b-9188-da4f7debb23c",
   "metadata": {},
   "outputs": [],
   "source": []
  },
  {
   "cell_type": "code",
   "execution_count": 5,
   "id": "09179d2c-6ef4-446f-aabc-d7572307f9c0",
   "metadata": {},
   "outputs": [
    {
     "data": {
      "text/plain": [
       "array([0, 1, 2], dtype=int64)"
      ]
     },
     "execution_count": 5,
     "metadata": {},
     "output_type": "execute_result"
    }
   ],
   "source": [
    "data[\"relabeled\"].unique()"
   ]
  },
  {
   "cell_type": "code",
   "execution_count": 6,
   "id": "473b3a20-0f0f-4fd9-a8d8-9621a261d8fc",
   "metadata": {},
   "outputs": [],
   "source": [
    "data_a=data[data[\"relabeled\"]==0][:11000]\n",
    "data_b=data[data[\"relabeled\"]==1][:11000]\n",
    "data_c=data[data[\"relabeled\"]==2][:11000]"
   ]
  },
  {
   "cell_type": "code",
   "execution_count": 7,
   "id": "02ddca0d-5d3a-40f0-9b9a-95a668f06100",
   "metadata": {},
   "outputs": [
    {
     "data": {
      "text/plain": [
       "relabeled\n",
       "0    11000\n",
       "Name: count, dtype: int64"
      ]
     },
     "execution_count": 7,
     "metadata": {},
     "output_type": "execute_result"
    }
   ],
   "source": [
    "data_a[\"relabeled\"].value_counts()"
   ]
  },
  {
   "cell_type": "code",
   "execution_count": 8,
   "id": "1efdbce2-93b0-4a60-b940-47e7198c8918",
   "metadata": {},
   "outputs": [
    {
     "data": {
      "text/plain": [
       "relabeled\n",
       "1    11000\n",
       "Name: count, dtype: int64"
      ]
     },
     "execution_count": 8,
     "metadata": {},
     "output_type": "execute_result"
    }
   ],
   "source": [
    "data_b[\"relabeled\"].value_counts()"
   ]
  },
  {
   "cell_type": "code",
   "execution_count": 9,
   "id": "9218f537-6245-4242-ad64-85eeaf037d32",
   "metadata": {},
   "outputs": [
    {
     "data": {
      "text/plain": [
       "relabeled\n",
       "2    11000\n",
       "Name: count, dtype: int64"
      ]
     },
     "execution_count": 9,
     "metadata": {},
     "output_type": "execute_result"
    }
   ],
   "source": [
    "data_c[\"relabeled\"].value_counts()"
   ]
  },
  {
   "cell_type": "code",
   "execution_count": 10,
   "id": "805be7be-d80d-4868-9a69-607956bcfe43",
   "metadata": {},
   "outputs": [],
   "source": [
    "data=pd.concat([data_a,data_b,data_c],axis=0)"
   ]
  },
  {
   "cell_type": "code",
   "execution_count": null,
   "id": "1c49eb3f-3e25-4d27-aec3-44a14b22b5c2",
   "metadata": {},
   "outputs": [],
   "source": []
  },
  {
   "cell_type": "code",
   "execution_count": null,
   "id": "d3c3f460-c863-4bd1-afab-b7fcbd5d6075",
   "metadata": {},
   "outputs": [],
   "source": []
  },
  {
   "cell_type": "code",
   "execution_count": null,
   "id": "b22f9869-8bfd-402f-b0f3-b446fb401797",
   "metadata": {},
   "outputs": [],
   "source": []
  },
  {
   "cell_type": "code",
   "execution_count": 11,
   "id": "e0d2e0f2-6ce8-4462-bfe4-0e4b039cb3a9",
   "metadata": {},
   "outputs": [],
   "source": [
    "from sklearn.preprocessing import MinMaxScaler\n",
    "\n",
    "scaler=MinMaxScaler()\n",
    "data[[\"acc x\",\"acc y\",\"acc z\",\"gyro x\",\"gyro y\",\"gyro z\"]]=scaler.fit_transform(data[[\"acc x\",\"acc y\",\"acc z\",\"gyro x\",\"gyro y\",\"gyro z\"]])"
   ]
  },
  {
   "cell_type": "code",
   "execution_count": 12,
   "id": "cc73445e-75e2-4fc8-ae81-96512b3433ef",
   "metadata": {},
   "outputs": [
    {
     "data": {
      "text/html": [
       "<div>\n",
       "<style scoped>\n",
       "    .dataframe tbody tr th:only-of-type {\n",
       "        vertical-align: middle;\n",
       "    }\n",
       "\n",
       "    .dataframe tbody tr th {\n",
       "        vertical-align: top;\n",
       "    }\n",
       "\n",
       "    .dataframe thead th {\n",
       "        text-align: right;\n",
       "    }\n",
       "</style>\n",
       "<table border=\"1\" class=\"dataframe\">\n",
       "  <thead>\n",
       "    <tr style=\"text-align: right;\">\n",
       "      <th></th>\n",
       "      <th>acc x</th>\n",
       "      <th>acc y</th>\n",
       "      <th>acc z</th>\n",
       "      <th>gyro x</th>\n",
       "      <th>gyro y</th>\n",
       "      <th>gyro z</th>\n",
       "    </tr>\n",
       "  </thead>\n",
       "  <tbody>\n",
       "    <tr>\n",
       "      <th>0</th>\n",
       "      <td>0.486068</td>\n",
       "      <td>0.550971</td>\n",
       "      <td>0.733757</td>\n",
       "      <td>0.435644</td>\n",
       "      <td>0.488997</td>\n",
       "      <td>0.348265</td>\n",
       "    </tr>\n",
       "    <tr>\n",
       "      <th>1</th>\n",
       "      <td>0.492940</td>\n",
       "      <td>0.549565</td>\n",
       "      <td>0.734011</td>\n",
       "      <td>0.433246</td>\n",
       "      <td>0.492422</td>\n",
       "      <td>0.353128</td>\n",
       "    </tr>\n",
       "    <tr>\n",
       "      <th>2</th>\n",
       "      <td>0.490524</td>\n",
       "      <td>0.548093</td>\n",
       "      <td>0.730652</td>\n",
       "      <td>0.435768</td>\n",
       "      <td>0.493320</td>\n",
       "      <td>0.361523</td>\n",
       "    </tr>\n",
       "    <tr>\n",
       "      <th>3</th>\n",
       "      <td>0.483610</td>\n",
       "      <td>0.548523</td>\n",
       "      <td>0.724279</td>\n",
       "      <td>0.437669</td>\n",
       "      <td>0.472101</td>\n",
       "      <td>0.377649</td>\n",
       "    </tr>\n",
       "    <tr>\n",
       "      <th>4</th>\n",
       "      <td>0.473198</td>\n",
       "      <td>0.550690</td>\n",
       "      <td>0.731509</td>\n",
       "      <td>0.435981</td>\n",
       "      <td>0.439430</td>\n",
       "      <td>0.386301</td>\n",
       "    </tr>\n",
       "    <tr>\n",
       "      <th>...</th>\n",
       "      <td>...</td>\n",
       "      <td>...</td>\n",
       "      <td>...</td>\n",
       "      <td>...</td>\n",
       "      <td>...</td>\n",
       "      <td>...</td>\n",
       "    </tr>\n",
       "    <tr>\n",
       "      <th>2421971</th>\n",
       "      <td>0.526136</td>\n",
       "      <td>0.487762</td>\n",
       "      <td>0.646075</td>\n",
       "      <td>0.423209</td>\n",
       "      <td>0.522174</td>\n",
       "      <td>0.301270</td>\n",
       "    </tr>\n",
       "    <tr>\n",
       "      <th>2421972</th>\n",
       "      <td>0.521138</td>\n",
       "      <td>0.496213</td>\n",
       "      <td>0.641417</td>\n",
       "      <td>0.415056</td>\n",
       "      <td>0.523072</td>\n",
       "      <td>0.296662</td>\n",
       "    </tr>\n",
       "    <tr>\n",
       "      <th>2421973</th>\n",
       "      <td>0.521429</td>\n",
       "      <td>0.490276</td>\n",
       "      <td>0.627143</td>\n",
       "      <td>0.407276</td>\n",
       "      <td>0.524363</td>\n",
       "      <td>0.295434</td>\n",
       "    </tr>\n",
       "    <tr>\n",
       "      <th>2421974</th>\n",
       "      <td>0.522971</td>\n",
       "      <td>0.473605</td>\n",
       "      <td>0.631013</td>\n",
       "      <td>0.397524</td>\n",
       "      <td>0.524644</td>\n",
       "      <td>0.293642</td>\n",
       "    </tr>\n",
       "    <tr>\n",
       "      <th>2421975</th>\n",
       "      <td>0.526594</td>\n",
       "      <td>0.457877</td>\n",
       "      <td>0.644592</td>\n",
       "      <td>0.396209</td>\n",
       "      <td>0.519535</td>\n",
       "      <td>0.300502</td>\n",
       "    </tr>\n",
       "  </tbody>\n",
       "</table>\n",
       "<p>33000 rows × 6 columns</p>\n",
       "</div>"
      ],
      "text/plain": [
       "            acc x     acc y     acc z    gyro x    gyro y    gyro z\n",
       "0        0.486068  0.550971  0.733757  0.435644  0.488997  0.348265\n",
       "1        0.492940  0.549565  0.734011  0.433246  0.492422  0.353128\n",
       "2        0.490524  0.548093  0.730652  0.435768  0.493320  0.361523\n",
       "3        0.483610  0.548523  0.724279  0.437669  0.472101  0.377649\n",
       "4        0.473198  0.550690  0.731509  0.435981  0.439430  0.386301\n",
       "...           ...       ...       ...       ...       ...       ...\n",
       "2421971  0.526136  0.487762  0.646075  0.423209  0.522174  0.301270\n",
       "2421972  0.521138  0.496213  0.641417  0.415056  0.523072  0.296662\n",
       "2421973  0.521429  0.490276  0.627143  0.407276  0.524363  0.295434\n",
       "2421974  0.522971  0.473605  0.631013  0.397524  0.524644  0.293642\n",
       "2421975  0.526594  0.457877  0.644592  0.396209  0.519535  0.300502\n",
       "\n",
       "[33000 rows x 6 columns]"
      ]
     },
     "execution_count": 12,
     "metadata": {},
     "output_type": "execute_result"
    }
   ],
   "source": [
    "data[[\"acc x\",\"acc y\",\"acc z\",\"gyro x\",\"gyro y\",\"gyro z\"]]"
   ]
  },
  {
   "cell_type": "code",
   "execution_count": 13,
   "id": "22476970-a853-4f89-8c4d-2747b9828ad3",
   "metadata": {},
   "outputs": [
    {
     "data": {
      "text/plain": [
       "0          0\n",
       "1          0\n",
       "2          0\n",
       "3          0\n",
       "4          0\n",
       "          ..\n",
       "2421971    2\n",
       "2421972    2\n",
       "2421973    2\n",
       "2421974    2\n",
       "2421975    2\n",
       "Name: relabeled, Length: 33000, dtype: int64"
      ]
     },
     "execution_count": 13,
     "metadata": {},
     "output_type": "execute_result"
    }
   ],
   "source": [
    "data[\"relabeled\"]"
   ]
  },
  {
   "cell_type": "code",
   "execution_count": 14,
   "id": "6b0a3a31-683b-4d35-8394-5d752bd29915",
   "metadata": {},
   "outputs": [
    {
     "data": {
      "text/html": [
       "<div>\n",
       "<style scoped>\n",
       "    .dataframe tbody tr th:only-of-type {\n",
       "        vertical-align: middle;\n",
       "    }\n",
       "\n",
       "    .dataframe tbody tr th {\n",
       "        vertical-align: top;\n",
       "    }\n",
       "\n",
       "    .dataframe thead th {\n",
       "        text-align: right;\n",
       "    }\n",
       "</style>\n",
       "<table border=\"1\" class=\"dataframe\">\n",
       "  <thead>\n",
       "    <tr style=\"text-align: right;\">\n",
       "      <th></th>\n",
       "      <th>timestamp</th>\n",
       "      <th>datetime</th>\n",
       "      <th>acc x</th>\n",
       "      <th>acc y</th>\n",
       "      <th>acc z</th>\n",
       "      <th>gyro x</th>\n",
       "      <th>gyro y</th>\n",
       "      <th>gyro z</th>\n",
       "      <th>user yes/no</th>\n",
       "      <th>compulsive</th>\n",
       "      <th>urge</th>\n",
       "      <th>tense</th>\n",
       "      <th>ignore</th>\n",
       "      <th>relabeled</th>\n",
       "    </tr>\n",
       "  </thead>\n",
       "  <tbody>\n",
       "    <tr>\n",
       "      <th>0</th>\n",
       "      <td>0.000000e+00</td>\n",
       "      <td>2022-04-06 07:39:30.000</td>\n",
       "      <td>0.486068</td>\n",
       "      <td>0.550971</td>\n",
       "      <td>0.733757</td>\n",
       "      <td>0.435644</td>\n",
       "      <td>0.488997</td>\n",
       "      <td>0.348265</td>\n",
       "      <td>-1.0</td>\n",
       "      <td>0.0</td>\n",
       "      <td>0.0</td>\n",
       "      <td>0.0</td>\n",
       "      <td>0</td>\n",
       "      <td>0</td>\n",
       "    </tr>\n",
       "    <tr>\n",
       "      <th>1</th>\n",
       "      <td>2.000000e+07</td>\n",
       "      <td>2022-04-06 07:39:30.020</td>\n",
       "      <td>0.492940</td>\n",
       "      <td>0.549565</td>\n",
       "      <td>0.734011</td>\n",
       "      <td>0.433246</td>\n",
       "      <td>0.492422</td>\n",
       "      <td>0.353128</td>\n",
       "      <td>NaN</td>\n",
       "      <td>NaN</td>\n",
       "      <td>NaN</td>\n",
       "      <td>NaN</td>\n",
       "      <td>0</td>\n",
       "      <td>0</td>\n",
       "    </tr>\n",
       "    <tr>\n",
       "      <th>2</th>\n",
       "      <td>4.000000e+07</td>\n",
       "      <td>2022-04-06 07:39:30.040</td>\n",
       "      <td>0.490524</td>\n",
       "      <td>0.548093</td>\n",
       "      <td>0.730652</td>\n",
       "      <td>0.435768</td>\n",
       "      <td>0.493320</td>\n",
       "      <td>0.361523</td>\n",
       "      <td>NaN</td>\n",
       "      <td>NaN</td>\n",
       "      <td>NaN</td>\n",
       "      <td>NaN</td>\n",
       "      <td>0</td>\n",
       "      <td>0</td>\n",
       "    </tr>\n",
       "    <tr>\n",
       "      <th>3</th>\n",
       "      <td>6.000000e+07</td>\n",
       "      <td>2022-04-06 07:39:30.060</td>\n",
       "      <td>0.483610</td>\n",
       "      <td>0.548523</td>\n",
       "      <td>0.724279</td>\n",
       "      <td>0.437669</td>\n",
       "      <td>0.472101</td>\n",
       "      <td>0.377649</td>\n",
       "      <td>NaN</td>\n",
       "      <td>NaN</td>\n",
       "      <td>NaN</td>\n",
       "      <td>NaN</td>\n",
       "      <td>0</td>\n",
       "      <td>0</td>\n",
       "    </tr>\n",
       "    <tr>\n",
       "      <th>4</th>\n",
       "      <td>8.000000e+07</td>\n",
       "      <td>2022-04-06 07:39:30.080</td>\n",
       "      <td>0.473198</td>\n",
       "      <td>0.550690</td>\n",
       "      <td>0.731509</td>\n",
       "      <td>0.435981</td>\n",
       "      <td>0.439430</td>\n",
       "      <td>0.386301</td>\n",
       "      <td>NaN</td>\n",
       "      <td>NaN</td>\n",
       "      <td>NaN</td>\n",
       "      <td>NaN</td>\n",
       "      <td>0</td>\n",
       "      <td>0</td>\n",
       "    </tr>\n",
       "    <tr>\n",
       "      <th>...</th>\n",
       "      <td>...</td>\n",
       "      <td>...</td>\n",
       "      <td>...</td>\n",
       "      <td>...</td>\n",
       "      <td>...</td>\n",
       "      <td>...</td>\n",
       "      <td>...</td>\n",
       "      <td>...</td>\n",
       "      <td>...</td>\n",
       "      <td>...</td>\n",
       "      <td>...</td>\n",
       "      <td>...</td>\n",
       "      <td>...</td>\n",
       "      <td>...</td>\n",
       "    </tr>\n",
       "    <tr>\n",
       "      <th>2421971</th>\n",
       "      <td>4.843942e+13</td>\n",
       "      <td>2022-04-06 21:06:49.420</td>\n",
       "      <td>0.526136</td>\n",
       "      <td>0.487762</td>\n",
       "      <td>0.646075</td>\n",
       "      <td>0.423209</td>\n",
       "      <td>0.522174</td>\n",
       "      <td>0.301270</td>\n",
       "      <td>NaN</td>\n",
       "      <td>NaN</td>\n",
       "      <td>NaN</td>\n",
       "      <td>NaN</td>\n",
       "      <td>0</td>\n",
       "      <td>2</td>\n",
       "    </tr>\n",
       "    <tr>\n",
       "      <th>2421972</th>\n",
       "      <td>4.843944e+13</td>\n",
       "      <td>2022-04-06 21:06:49.440</td>\n",
       "      <td>0.521138</td>\n",
       "      <td>0.496213</td>\n",
       "      <td>0.641417</td>\n",
       "      <td>0.415056</td>\n",
       "      <td>0.523072</td>\n",
       "      <td>0.296662</td>\n",
       "      <td>NaN</td>\n",
       "      <td>NaN</td>\n",
       "      <td>NaN</td>\n",
       "      <td>NaN</td>\n",
       "      <td>0</td>\n",
       "      <td>2</td>\n",
       "    </tr>\n",
       "    <tr>\n",
       "      <th>2421973</th>\n",
       "      <td>4.843946e+13</td>\n",
       "      <td>2022-04-06 21:06:49.460</td>\n",
       "      <td>0.521429</td>\n",
       "      <td>0.490276</td>\n",
       "      <td>0.627143</td>\n",
       "      <td>0.407276</td>\n",
       "      <td>0.524363</td>\n",
       "      <td>0.295434</td>\n",
       "      <td>NaN</td>\n",
       "      <td>NaN</td>\n",
       "      <td>NaN</td>\n",
       "      <td>NaN</td>\n",
       "      <td>0</td>\n",
       "      <td>2</td>\n",
       "    </tr>\n",
       "    <tr>\n",
       "      <th>2421974</th>\n",
       "      <td>4.843948e+13</td>\n",
       "      <td>2022-04-06 21:06:49.480</td>\n",
       "      <td>0.522971</td>\n",
       "      <td>0.473605</td>\n",
       "      <td>0.631013</td>\n",
       "      <td>0.397524</td>\n",
       "      <td>0.524644</td>\n",
       "      <td>0.293642</td>\n",
       "      <td>NaN</td>\n",
       "      <td>NaN</td>\n",
       "      <td>NaN</td>\n",
       "      <td>NaN</td>\n",
       "      <td>0</td>\n",
       "      <td>2</td>\n",
       "    </tr>\n",
       "    <tr>\n",
       "      <th>2421975</th>\n",
       "      <td>4.843950e+13</td>\n",
       "      <td>2022-04-06 21:06:49.500</td>\n",
       "      <td>0.526594</td>\n",
       "      <td>0.457877</td>\n",
       "      <td>0.644592</td>\n",
       "      <td>0.396209</td>\n",
       "      <td>0.519535</td>\n",
       "      <td>0.300502</td>\n",
       "      <td>NaN</td>\n",
       "      <td>NaN</td>\n",
       "      <td>NaN</td>\n",
       "      <td>NaN</td>\n",
       "      <td>0</td>\n",
       "      <td>2</td>\n",
       "    </tr>\n",
       "  </tbody>\n",
       "</table>\n",
       "<p>33000 rows × 14 columns</p>\n",
       "</div>"
      ],
      "text/plain": [
       "            timestamp                 datetime     acc x     acc y     acc z  \\\n",
       "0        0.000000e+00  2022-04-06 07:39:30.000  0.486068  0.550971  0.733757   \n",
       "1        2.000000e+07  2022-04-06 07:39:30.020  0.492940  0.549565  0.734011   \n",
       "2        4.000000e+07  2022-04-06 07:39:30.040  0.490524  0.548093  0.730652   \n",
       "3        6.000000e+07  2022-04-06 07:39:30.060  0.483610  0.548523  0.724279   \n",
       "4        8.000000e+07  2022-04-06 07:39:30.080  0.473198  0.550690  0.731509   \n",
       "...               ...                      ...       ...       ...       ...   \n",
       "2421971  4.843942e+13  2022-04-06 21:06:49.420  0.526136  0.487762  0.646075   \n",
       "2421972  4.843944e+13  2022-04-06 21:06:49.440  0.521138  0.496213  0.641417   \n",
       "2421973  4.843946e+13  2022-04-06 21:06:49.460  0.521429  0.490276  0.627143   \n",
       "2421974  4.843948e+13  2022-04-06 21:06:49.480  0.522971  0.473605  0.631013   \n",
       "2421975  4.843950e+13  2022-04-06 21:06:49.500  0.526594  0.457877  0.644592   \n",
       "\n",
       "           gyro x    gyro y    gyro z  user yes/no  compulsive  urge  tense  \\\n",
       "0        0.435644  0.488997  0.348265         -1.0         0.0   0.0    0.0   \n",
       "1        0.433246  0.492422  0.353128          NaN         NaN   NaN    NaN   \n",
       "2        0.435768  0.493320  0.361523          NaN         NaN   NaN    NaN   \n",
       "3        0.437669  0.472101  0.377649          NaN         NaN   NaN    NaN   \n",
       "4        0.435981  0.439430  0.386301          NaN         NaN   NaN    NaN   \n",
       "...           ...       ...       ...          ...         ...   ...    ...   \n",
       "2421971  0.423209  0.522174  0.301270          NaN         NaN   NaN    NaN   \n",
       "2421972  0.415056  0.523072  0.296662          NaN         NaN   NaN    NaN   \n",
       "2421973  0.407276  0.524363  0.295434          NaN         NaN   NaN    NaN   \n",
       "2421974  0.397524  0.524644  0.293642          NaN         NaN   NaN    NaN   \n",
       "2421975  0.396209  0.519535  0.300502          NaN         NaN   NaN    NaN   \n",
       "\n",
       "         ignore  relabeled  \n",
       "0             0          0  \n",
       "1             0          0  \n",
       "2             0          0  \n",
       "3             0          0  \n",
       "4             0          0  \n",
       "...         ...        ...  \n",
       "2421971       0          2  \n",
       "2421972       0          2  \n",
       "2421973       0          2  \n",
       "2421974       0          2  \n",
       "2421975       0          2  \n",
       "\n",
       "[33000 rows x 14 columns]"
      ]
     },
     "execution_count": 14,
     "metadata": {},
     "output_type": "execute_result"
    }
   ],
   "source": [
    "data"
   ]
  },
  {
   "cell_type": "code",
   "execution_count": null,
   "id": "98b85eb8-1fc0-48a0-ab88-6cd900d09f5a",
   "metadata": {},
   "outputs": [],
   "source": []
  },
  {
   "cell_type": "code",
   "execution_count": 15,
   "id": "44db2708-0841-40be-a56a-88a38160749c",
   "metadata": {},
   "outputs": [
    {
     "data": {
      "text/plain": [
       "array([0, 1, 2], dtype=int64)"
      ]
     },
     "execution_count": 15,
     "metadata": {},
     "output_type": "execute_result"
    }
   ],
   "source": [
    "data['relabeled'].unique()"
   ]
  },
  {
   "cell_type": "code",
   "execution_count": 16,
   "id": "2aa1b770-4765-491d-b98c-8a2835291093",
   "metadata": {},
   "outputs": [
    {
     "data": {
      "text/plain": [
       "relabeled\n",
       "0    11000\n",
       "1    11000\n",
       "2    11000\n",
       "Name: count, dtype: int64"
      ]
     },
     "execution_count": 16,
     "metadata": {},
     "output_type": "execute_result"
    }
   ],
   "source": [
    "data['relabeled'].value_counts()"
   ]
  },
  {
   "cell_type": "code",
   "execution_count": 17,
   "id": "8da9594b-99f2-4105-971f-364922c7b7c4",
   "metadata": {},
   "outputs": [
    {
     "data": {
      "text/plain": [
       "timestamp      33000\n",
       "datetime       33000\n",
       "acc x          33000\n",
       "acc y          33000\n",
       "acc z          33000\n",
       "gyro x         33000\n",
       "gyro y         33000\n",
       "gyro z         33000\n",
       "user yes/no        2\n",
       "compulsive         2\n",
       "urge               2\n",
       "tense              2\n",
       "ignore         33000\n",
       "relabeled      33000\n",
       "dtype: int64"
      ]
     },
     "execution_count": 17,
     "metadata": {},
     "output_type": "execute_result"
    }
   ],
   "source": [
    "data.count()"
   ]
  },
  {
   "cell_type": "code",
   "execution_count": 18,
   "id": "aa953169-5300-4b0d-964d-25c3b2ba20b7",
   "metadata": {},
   "outputs": [],
   "source": [
    "#new_data=data[data['compulsive'].notnull()]"
   ]
  },
  {
   "cell_type": "code",
   "execution_count": 19,
   "id": "dea7145f-0ada-4c94-9f8f-4423af3e5ef1",
   "metadata": {},
   "outputs": [],
   "source": [
    "new_data=data"
   ]
  },
  {
   "cell_type": "code",
   "execution_count": 20,
   "id": "b5951e91-ec1e-4d02-83f6-fb6affc5db43",
   "metadata": {},
   "outputs": [
    {
     "data": {
      "text/plain": [
       "Index(['timestamp', 'datetime', 'acc x', 'acc y', 'acc z', 'gyro x', 'gyro y',\n",
       "       'gyro z', 'user yes/no', 'compulsive', 'urge', 'tense', 'ignore',\n",
       "       'relabeled'],\n",
       "      dtype='object')"
      ]
     },
     "execution_count": 20,
     "metadata": {},
     "output_type": "execute_result"
    }
   ],
   "source": [
    "new_data.columns\n"
   ]
  },
  {
   "cell_type": "code",
   "execution_count": 21,
   "id": "b1b3ea3c-10d9-409a-8475-41acf02f8fe6",
   "metadata": {},
   "outputs": [],
   "source": [
    "new_data=new_data.drop(['timestamp','datetime','user yes/no','compulsive', 'urge', 'tense', 'ignore'],axis=1)"
   ]
  },
  {
   "cell_type": "code",
   "execution_count": 22,
   "id": "95480640-7309-439e-b49e-e7817db5a9d0",
   "metadata": {},
   "outputs": [
    {
     "data": {
      "text/plain": [
       "Index(['acc x', 'acc y', 'acc z', 'gyro x', 'gyro y', 'gyro z', 'relabeled'], dtype='object')"
      ]
     },
     "execution_count": 22,
     "metadata": {},
     "output_type": "execute_result"
    }
   ],
   "source": [
    "new_data.columns"
   ]
  },
  {
   "cell_type": "code",
   "execution_count": 23,
   "id": "c72f45c7-6a87-47eb-b511-e19da57f38ce",
   "metadata": {},
   "outputs": [
    {
     "data": {
      "text/plain": [
       "acc x        33000\n",
       "acc y        33000\n",
       "acc z        33000\n",
       "gyro x       33000\n",
       "gyro y       33000\n",
       "gyro z       33000\n",
       "relabeled    33000\n",
       "dtype: int64"
      ]
     },
     "execution_count": 23,
     "metadata": {},
     "output_type": "execute_result"
    }
   ],
   "source": [
    "new_data.count()"
   ]
  },
  {
   "cell_type": "code",
   "execution_count": 24,
   "id": "1e796c58-36a1-4aae-b3ba-1da95f975e0d",
   "metadata": {},
   "outputs": [
    {
     "data": {
      "text/html": [
       "<div>\n",
       "<style scoped>\n",
       "    .dataframe tbody tr th:only-of-type {\n",
       "        vertical-align: middle;\n",
       "    }\n",
       "\n",
       "    .dataframe tbody tr th {\n",
       "        vertical-align: top;\n",
       "    }\n",
       "\n",
       "    .dataframe thead th {\n",
       "        text-align: right;\n",
       "    }\n",
       "</style>\n",
       "<table border=\"1\" class=\"dataframe\">\n",
       "  <thead>\n",
       "    <tr style=\"text-align: right;\">\n",
       "      <th></th>\n",
       "      <th>acc x</th>\n",
       "      <th>acc y</th>\n",
       "      <th>acc z</th>\n",
       "      <th>gyro x</th>\n",
       "      <th>gyro y</th>\n",
       "      <th>gyro z</th>\n",
       "      <th>relabeled</th>\n",
       "    </tr>\n",
       "  </thead>\n",
       "  <tbody>\n",
       "    <tr>\n",
       "      <th>0</th>\n",
       "      <td>0.486068</td>\n",
       "      <td>0.550971</td>\n",
       "      <td>0.733757</td>\n",
       "      <td>0.435644</td>\n",
       "      <td>0.488997</td>\n",
       "      <td>0.348265</td>\n",
       "      <td>0</td>\n",
       "    </tr>\n",
       "    <tr>\n",
       "      <th>1</th>\n",
       "      <td>0.492940</td>\n",
       "      <td>0.549565</td>\n",
       "      <td>0.734011</td>\n",
       "      <td>0.433246</td>\n",
       "      <td>0.492422</td>\n",
       "      <td>0.353128</td>\n",
       "      <td>0</td>\n",
       "    </tr>\n",
       "    <tr>\n",
       "      <th>2</th>\n",
       "      <td>0.490524</td>\n",
       "      <td>0.548093</td>\n",
       "      <td>0.730652</td>\n",
       "      <td>0.435768</td>\n",
       "      <td>0.493320</td>\n",
       "      <td>0.361523</td>\n",
       "      <td>0</td>\n",
       "    </tr>\n",
       "    <tr>\n",
       "      <th>3</th>\n",
       "      <td>0.483610</td>\n",
       "      <td>0.548523</td>\n",
       "      <td>0.724279</td>\n",
       "      <td>0.437669</td>\n",
       "      <td>0.472101</td>\n",
       "      <td>0.377649</td>\n",
       "      <td>0</td>\n",
       "    </tr>\n",
       "    <tr>\n",
       "      <th>4</th>\n",
       "      <td>0.473198</td>\n",
       "      <td>0.550690</td>\n",
       "      <td>0.731509</td>\n",
       "      <td>0.435981</td>\n",
       "      <td>0.439430</td>\n",
       "      <td>0.386301</td>\n",
       "      <td>0</td>\n",
       "    </tr>\n",
       "    <tr>\n",
       "      <th>...</th>\n",
       "      <td>...</td>\n",
       "      <td>...</td>\n",
       "      <td>...</td>\n",
       "      <td>...</td>\n",
       "      <td>...</td>\n",
       "      <td>...</td>\n",
       "      <td>...</td>\n",
       "    </tr>\n",
       "    <tr>\n",
       "      <th>2421971</th>\n",
       "      <td>0.526136</td>\n",
       "      <td>0.487762</td>\n",
       "      <td>0.646075</td>\n",
       "      <td>0.423209</td>\n",
       "      <td>0.522174</td>\n",
       "      <td>0.301270</td>\n",
       "      <td>2</td>\n",
       "    </tr>\n",
       "    <tr>\n",
       "      <th>2421972</th>\n",
       "      <td>0.521138</td>\n",
       "      <td>0.496213</td>\n",
       "      <td>0.641417</td>\n",
       "      <td>0.415056</td>\n",
       "      <td>0.523072</td>\n",
       "      <td>0.296662</td>\n",
       "      <td>2</td>\n",
       "    </tr>\n",
       "    <tr>\n",
       "      <th>2421973</th>\n",
       "      <td>0.521429</td>\n",
       "      <td>0.490276</td>\n",
       "      <td>0.627143</td>\n",
       "      <td>0.407276</td>\n",
       "      <td>0.524363</td>\n",
       "      <td>0.295434</td>\n",
       "      <td>2</td>\n",
       "    </tr>\n",
       "    <tr>\n",
       "      <th>2421974</th>\n",
       "      <td>0.522971</td>\n",
       "      <td>0.473605</td>\n",
       "      <td>0.631013</td>\n",
       "      <td>0.397524</td>\n",
       "      <td>0.524644</td>\n",
       "      <td>0.293642</td>\n",
       "      <td>2</td>\n",
       "    </tr>\n",
       "    <tr>\n",
       "      <th>2421975</th>\n",
       "      <td>0.526594</td>\n",
       "      <td>0.457877</td>\n",
       "      <td>0.644592</td>\n",
       "      <td>0.396209</td>\n",
       "      <td>0.519535</td>\n",
       "      <td>0.300502</td>\n",
       "      <td>2</td>\n",
       "    </tr>\n",
       "  </tbody>\n",
       "</table>\n",
       "<p>33000 rows × 7 columns</p>\n",
       "</div>"
      ],
      "text/plain": [
       "            acc x     acc y     acc z    gyro x    gyro y    gyro z  relabeled\n",
       "0        0.486068  0.550971  0.733757  0.435644  0.488997  0.348265          0\n",
       "1        0.492940  0.549565  0.734011  0.433246  0.492422  0.353128          0\n",
       "2        0.490524  0.548093  0.730652  0.435768  0.493320  0.361523          0\n",
       "3        0.483610  0.548523  0.724279  0.437669  0.472101  0.377649          0\n",
       "4        0.473198  0.550690  0.731509  0.435981  0.439430  0.386301          0\n",
       "...           ...       ...       ...       ...       ...       ...        ...\n",
       "2421971  0.526136  0.487762  0.646075  0.423209  0.522174  0.301270          2\n",
       "2421972  0.521138  0.496213  0.641417  0.415056  0.523072  0.296662          2\n",
       "2421973  0.521429  0.490276  0.627143  0.407276  0.524363  0.295434          2\n",
       "2421974  0.522971  0.473605  0.631013  0.397524  0.524644  0.293642          2\n",
       "2421975  0.526594  0.457877  0.644592  0.396209  0.519535  0.300502          2\n",
       "\n",
       "[33000 rows x 7 columns]"
      ]
     },
     "execution_count": 24,
     "metadata": {},
     "output_type": "execute_result"
    }
   ],
   "source": [
    "new_data"
   ]
  },
  {
   "cell_type": "code",
   "execution_count": 25,
   "id": "5eda9950-59f7-4e0d-b969-2e2153c40f10",
   "metadata": {},
   "outputs": [],
   "source": [
    "#labels=new_data['relabeled'].values\n",
    "#print(labels)\n",
    "#print(len(labels))\n"
   ]
  },
  {
   "cell_type": "code",
   "execution_count": 26,
   "id": "0984b82a-aaa9-4993-b3bf-9bd0bec8d5ae",
   "metadata": {
    "scrolled": true
   },
   "outputs": [],
   "source": [
    "#features=new_data[['acc x', 'acc y', 'acc z', 'gyro x', 'gyro y', 'gyro z']].values\n",
    "#print(features)\n",
    "\n",
    "#print(len(features))\n",
    "\n",
    "\n"
   ]
  },
  {
   "cell_type": "code",
   "execution_count": null,
   "id": "e03e9fb8-7606-4f1e-8405-d270b8bcc7c1",
   "metadata": {},
   "outputs": [],
   "source": []
  },
  {
   "cell_type": "code",
   "execution_count": 27,
   "id": "830e29ca-a804-4359-8e93-f08bf8933cc7",
   "metadata": {},
   "outputs": [],
   "source": [
    "#import sklearn\n",
    "#from sklearn.preprocessing import MinMaxScaler\n",
    "#scaler=MinMaxScaler()"
   ]
  },
  {
   "cell_type": "code",
   "execution_count": 28,
   "id": "3456690f-1803-40da-bc2c-507eb94d08e1",
   "metadata": {},
   "outputs": [],
   "source": [
    "#s_features=scaler.fit_transform(features)\n"
   ]
  },
  {
   "cell_type": "code",
   "execution_count": 29,
   "id": "7a0f9a42-fcc4-48f2-a72a-0ec5e63c4ad9",
   "metadata": {},
   "outputs": [],
   "source": [
    "#type(features)"
   ]
  },
  {
   "cell_type": "code",
   "execution_count": 30,
   "id": "835051af-9f94-4deb-b3bb-4ede0f9162b4",
   "metadata": {},
   "outputs": [],
   "source": [
    "from sklearn.model_selection import train_test_split\n",
    "train_data,test_data=train_test_split(new_data,test_size=0.1)"
   ]
  },
  {
   "cell_type": "code",
   "execution_count": 31,
   "id": "085b6704-1b69-4fe6-bc2d-a5f9dad0347b",
   "metadata": {},
   "outputs": [
    {
     "data": {
      "text/plain": [
       "29700"
      ]
     },
     "execution_count": 31,
     "metadata": {},
     "output_type": "execute_result"
    }
   ],
   "source": [
    "len(train_data)"
   ]
  },
  {
   "cell_type": "code",
   "execution_count": null,
   "id": "d589104b-5577-4a2d-a442-80f46079cce6",
   "metadata": {},
   "outputs": [],
   "source": []
  },
  {
   "cell_type": "code",
   "execution_count": 32,
   "id": "6df5ae5e-a9f4-47b6-84e4-de989a20a9a4",
   "metadata": {},
   "outputs": [],
   "source": [
    "#type(labels)"
   ]
  },
  {
   "cell_type": "code",
   "execution_count": 33,
   "id": "1aa6551f-caf1-4695-88b4-f841afc547d8",
   "metadata": {},
   "outputs": [],
   "source": [
    "from tensorflow.keras.models import Sequential\n",
    "from tensorflow.keras.layers import Dropout,Dense,Conv1D,Flatten,BatchNormalization,MaxPooling1D\n",
    "from tensorflow.keras.utils import to_categorical\n",
    "\n"
   ]
  },
  {
   "cell_type": "code",
   "execution_count": null,
   "id": "6cd5f1a8-428c-43af-b9ab-0623fc4ac747",
   "metadata": {},
   "outputs": [],
   "source": []
  },
  {
   "cell_type": "code",
   "execution_count": 34,
   "id": "e8070df5-e19c-4ef5-81fb-c6ea840c70d2",
   "metadata": {},
   "outputs": [],
   "source": [
    "#x_trai=x_train.reshape()"
   ]
  },
  {
   "cell_type": "code",
   "execution_count": 35,
   "id": "82afc158-08c4-4ba6-b6ec-ea50a72680dc",
   "metadata": {},
   "outputs": [],
   "source": [
    "#y_train.shape"
   ]
  },
  {
   "cell_type": "code",
   "execution_count": 36,
   "id": "23eaa5e7-4b0f-44a3-8125-ef2bb349aaa0",
   "metadata": {},
   "outputs": [],
   "source": [
    "# Define window size\n",
    "window_size = 30\n",
    "step_size = 3\n",
    "# Initialize lists to store windowed data and labels\n",
    "train_windows = []\n",
    "train_labels = []\n",
    "test_windows = []\n",
    "test_labels = []\n",
    "i=0\n",
    "\n",
    "\n",
    "\n",
    "for i in range(0,len(train_data)-window_size+1,window_size):\n",
    "    \n",
    "    window = train_data.iloc[i:i+window_size, :-1]  # Select only sensor axes columns\n",
    "    train_windows.append(window)\n",
    "    label_window = train_data.iloc[i:i+window_size, -1]  # Select the label column for majority voting\n",
    "    majority_label = np.bincount(label_window).argmax()  # Majority voting\n",
    "    train_labels.append(majority_label)\n",
    "\n",
    "\n",
    "\n"
   ]
  },
  {
   "cell_type": "code",
   "execution_count": 37,
   "id": "82a67f2a-5a7f-4ea4-ab22-8e2cbeb13f24",
   "metadata": {},
   "outputs": [],
   "source": [
    "#np.unique(train_data.iloc[i:i+window_size, -1])"
   ]
  },
  {
   "cell_type": "code",
   "execution_count": 38,
   "id": "3f7edd6b-f348-4b49-bb81-2ee738b03e24",
   "metadata": {},
   "outputs": [],
   "source": [
    "train_windows=np.array(train_windows)\n",
    "train_labels=np.array(train_labels)"
   ]
  },
  {
   "cell_type": "code",
   "execution_count": null,
   "id": "b0ca1df4-7da0-424f-b4d8-212ed1c5bccb",
   "metadata": {},
   "outputs": [],
   "source": []
  },
  {
   "cell_type": "code",
   "execution_count": null,
   "id": "e19ad07e-f37f-4571-ae80-7d73d88779a7",
   "metadata": {},
   "outputs": [],
   "source": []
  },
  {
   "cell_type": "code",
   "execution_count": 39,
   "id": "9065ac0e-553c-4b1e-8b96-03a502623848",
   "metadata": {},
   "outputs": [
    {
     "name": "stdout",
     "output_type": "stream",
     "text": [
      "990\n"
     ]
    }
   ],
   "source": [
    "len(train_windows)==len(train_labels)\n",
    "print(len(train_windows))"
   ]
  },
  {
   "cell_type": "code",
   "execution_count": 40,
   "id": "01d05b24-2b43-4185-8830-495e19f265ce",
   "metadata": {},
   "outputs": [
    {
     "data": {
      "text/plain": [
       "3"
      ]
     },
     "execution_count": 40,
     "metadata": {},
     "output_type": "execute_result"
    }
   ],
   "source": [
    "len(np.unique(train_labels))"
   ]
  },
  {
   "cell_type": "code",
   "execution_count": 41,
   "id": "6c524ec5-d3cb-40c5-9821-07221b891f88",
   "metadata": {},
   "outputs": [
    {
     "data": {
      "text/plain": [
       "42010"
      ]
     },
     "execution_count": 41,
     "metadata": {},
     "output_type": "execute_result"
    }
   ],
   "source": [
    "len(np.unique(train_windows))"
   ]
  },
  {
   "cell_type": "code",
   "execution_count": 42,
   "id": "9e1e943c-2d49-4723-9439-6406fbc992a0",
   "metadata": {},
   "outputs": [
    {
     "data": {
      "text/plain": [
       "(990, 30, 6)"
      ]
     },
     "execution_count": 42,
     "metadata": {},
     "output_type": "execute_result"
    }
   ],
   "source": [
    "train_windows.shape"
   ]
  },
  {
   "cell_type": "code",
   "execution_count": 43,
   "id": "b33978dc-ca7c-4c56-b12d-9ce96d844f8d",
   "metadata": {},
   "outputs": [],
   "source": [
    "#train_windows = train_windows.reshape(train_windows.shape[0], -1)"
   ]
  },
  {
   "cell_type": "code",
   "execution_count": 44,
   "id": "1022df02-0bf5-4d25-bf06-f65e65e7b0ab",
   "metadata": {},
   "outputs": [
    {
     "data": {
      "text/plain": [
       "(990, 30, 6)"
      ]
     },
     "execution_count": 44,
     "metadata": {},
     "output_type": "execute_result"
    }
   ],
   "source": [
    "train_windows.shape"
   ]
  },
  {
   "cell_type": "code",
   "execution_count": 45,
   "id": "5b2265d3-d765-4179-aeac-8fdc007b0412",
   "metadata": {},
   "outputs": [
    {
     "data": {
      "text/plain": [
       "(990,)"
      ]
     },
     "execution_count": 45,
     "metadata": {},
     "output_type": "execute_result"
    }
   ],
   "source": [
    "train_labels.shape"
   ]
  },
  {
   "cell_type": "code",
   "execution_count": 46,
   "id": "60e01712-81b3-4c2f-b287-aeb86495de55",
   "metadata": {},
   "outputs": [],
   "source": [
    "#train_windows=train_windows.reshape(990,180,1)\n",
    "#train_labels=train_labels.reshape(990,1)"
   ]
  },
  {
   "cell_type": "code",
   "execution_count": 47,
   "id": "ca86b47a-f7e6-4028-ae44-4617934b08a7",
   "metadata": {},
   "outputs": [
    {
     "data": {
      "text/plain": [
       "(990, 30, 6)"
      ]
     },
     "execution_count": 47,
     "metadata": {},
     "output_type": "execute_result"
    }
   ],
   "source": [
    "train_windows.shape"
   ]
  },
  {
   "cell_type": "code",
   "execution_count": 48,
   "id": "889902d2-cf10-4f43-baea-f3fb299ecc27",
   "metadata": {},
   "outputs": [
    {
     "data": {
      "text/plain": [
       "(990,)"
      ]
     },
     "execution_count": 48,
     "metadata": {},
     "output_type": "execute_result"
    }
   ],
   "source": [
    "train_labels.shape"
   ]
  },
  {
   "cell_type": "code",
   "execution_count": 49,
   "id": "9b1ce2f6-66d1-4b16-91e0-2477e83106ec",
   "metadata": {},
   "outputs": [
    {
     "data": {
      "text/plain": [
       "1"
      ]
     },
     "execution_count": 49,
     "metadata": {},
     "output_type": "execute_result"
    }
   ],
   "source": [
    "train_labels[100]"
   ]
  },
  {
   "cell_type": "code",
   "execution_count": 50,
   "id": "d5ac3856-81d3-4ec4-8189-a836d57f227f",
   "metadata": {},
   "outputs": [
    {
     "data": {
      "text/plain": [
       "(990, 3)"
      ]
     },
     "execution_count": 50,
     "metadata": {},
     "output_type": "execute_result"
    }
   ],
   "source": [
    "from keras.utils import to_categorical\n",
    "train_labels = to_categorical(train_labels, 3)\n",
    "train_labels.shape\n"
   ]
  },
  {
   "cell_type": "code",
   "execution_count": 51,
   "id": "1593c75e-9fc9-43a4-bada-99908b636d48",
   "metadata": {},
   "outputs": [],
   "source": [
    "model=Sequential()\n",
    "\n",
    "\n",
    "model.add(Conv1D(512,1,input_shape=(30,6),activation=\"relu\"))\n",
    "\n",
    "#model.add(MaxPooling1D(2))\n",
    "model.add(Conv1D(256,1))\n",
    "\n",
    "#model.add(MaxPooling1D(2))\n",
    "model.add(Dropout(0.25))\n",
    "model.add(BatchNormalization())\n",
    "model.add((Flatten()))\n",
    "\n",
    "model.add(Dense(1024, activation=\"relu\"))\n",
    "model.add(Dense(512,activation=\"relu\"))\n",
    "\n",
    "model.add(Dense(3, activation=\"softmax\"))\n",
    "\n",
    "model.compile(optimizer='adam',loss='categorical_crossentropy',metrics=['accuracy'])  "
   ]
  },
  {
   "cell_type": "code",
   "execution_count": 52,
   "id": "11577ec4-a8f5-48b4-9447-92b1035d3ca2",
   "metadata": {},
   "outputs": [],
   "source": [
    "#np.unique(labels)"
   ]
  },
  {
   "cell_type": "code",
   "execution_count": null,
   "id": "870eb746-1589-4066-809d-602293fb5eaa",
   "metadata": {},
   "outputs": [],
   "source": []
  },
  {
   "cell_type": "code",
   "execution_count": 53,
   "id": "373f4755-8da3-4517-8699-e96bc1ae9bf0",
   "metadata": {},
   "outputs": [],
   "source": [
    "#X_windows.shape\n"
   ]
  },
  {
   "cell_type": "code",
   "execution_count": 54,
   "id": "ae8ecd51-a7cb-4d1f-9dec-86cae00a875f",
   "metadata": {},
   "outputs": [],
   "source": [
    "#y_train.shape"
   ]
  },
  {
   "cell_type": "code",
   "execution_count": 55,
   "id": "f1bc1e97-4f5c-4b5c-aafc-657a93117957",
   "metadata": {},
   "outputs": [],
   "source": [
    "#train_windows[0]"
   ]
  },
  {
   "cell_type": "code",
   "execution_count": 56,
   "id": "b3aedc2d-be8a-4ad9-9eef-5902ab4c147e",
   "metadata": {},
   "outputs": [],
   "source": [
    "#train_windows[100]"
   ]
  },
  {
   "cell_type": "code",
   "execution_count": null,
   "id": "ca8a254c-d3b1-4ee4-875a-0e9c7162e93f",
   "metadata": {},
   "outputs": [],
   "source": []
  },
  {
   "cell_type": "code",
   "execution_count": 57,
   "id": "6f3c71f2-5fe5-47a7-a1b5-7505c1e8eab7",
   "metadata": {},
   "outputs": [
    {
     "data": {
      "text/plain": [
       "array([[0.53167562, 0.47735916, 0.60608027, 0.44891288, 0.55467609,\n",
       "        0.32399917],\n",
       "       [0.48848348, 0.50120727, 0.61377329, 0.3985363 , 0.44829909,\n",
       "        0.34247977],\n",
       "       [0.62897247, 0.47773954, 0.72967837, 0.43777532, 0.51925451,\n",
       "        0.31350465],\n",
       "       [0.56066475, 0.50348955, 0.61476968, 0.42963975, 0.5214438 ,\n",
       "        0.31867512],\n",
       "       [0.61572744, 0.48055103, 0.65073223, 0.47019325, 0.51291119,\n",
       "        0.32481825],\n",
       "       [0.53509101, 0.51417324, 0.58891001, 0.44401022, 0.51263051,\n",
       "        0.30684958],\n",
       "       [0.5722854 , 0.49457545, 0.60809621, 0.41574889, 0.50785898,\n",
       "        0.3344425 ],\n",
       "       [0.60718897, 0.55437765, 0.75361479, 0.43432925, 0.52391377,\n",
       "        0.32000613],\n",
       "       [0.55637469, 0.51987892, 0.61372695, 0.42352919, 0.51611092,\n",
       "        0.30510903],\n",
       "       [0.590237  , 0.5587272 , 0.57030309, 0.43296148, 0.52986415,\n",
       "        0.31662741],\n",
       "       [0.54113041, 0.48946514, 0.56724442, 0.42955093, 0.56326484,\n",
       "        0.29671341],\n",
       "       [0.53388313, 0.48571096, 0.61748077, 0.39516128, 0.5197036 ,\n",
       "        0.29000715],\n",
       "       [0.62555708, 0.51475207, 0.5771851 , 0.44795366, 0.58296845,\n",
       "        0.27951263],\n",
       "       [0.59398559, 0.54152745, 0.72499769, 0.34322154, 0.4699113 ,\n",
       "        0.3408416 ],\n",
       "       [0.55487526, 0.49616312, 0.724905  , 0.41635284, 0.4976423 ,\n",
       "        0.29650864],\n",
       "       [0.57024449, 0.47611879, 0.68226898, 0.44974775, 0.53486022,\n",
       "        0.32533018],\n",
       "       [0.62680662, 0.50635066, 0.56939939, 0.4175785 , 0.59767598,\n",
       "        0.42725503],\n",
       "       [0.6042734 , 0.54028708, 0.57062749, 0.42880488, 0.52481194,\n",
       "        0.31908466],\n",
       "       [0.75625808, 0.54877119, 0.7056261 , 0.43361872, 0.52464353,\n",
       "        0.32277054],\n",
       "       [0.53205048, 0.48981244, 0.7198999 , 0.44871748, 0.57477264,\n",
       "        0.2996314 ],\n",
       "       [0.68141114, 0.5425859 , 0.65712763, 0.41851995, 0.48759402,\n",
       "        0.3543053 ],\n",
       "       [0.54163022, 0.46017595, 0.67724071, 0.35171237, 0.45149882,\n",
       "        0.22115285],\n",
       "       [0.62105877, 0.51574437, 0.58480861, 0.40652976, 0.47120242,\n",
       "        0.36014128],\n",
       "       [0.60498147, 0.47299307, 0.6395171 , 0.43990691, 0.52088245,\n",
       "        0.31969897],\n",
       "       [0.57986588, 0.466907  , 0.63441932, 0.44045757, 0.53177276,\n",
       "        0.30777105],\n",
       "       [0.63547003, 0.47502727, 0.68484104, 0.42542986, 0.58521388,\n",
       "        0.31867512],\n",
       "       [0.76987797, 0.52176428, 0.6926731 , 0.44939249, 0.57230268,\n",
       "        0.24582778],\n",
       "       [0.60660586, 0.47888068, 0.65244694, 0.42495025, 0.51319186,\n",
       "        0.32758266],\n",
       "       [0.51159982, 0.48392483, 0.72043285, 0.44901946, 0.55922308,\n",
       "        0.29707176],\n",
       "       [0.68874173, 0.4205173 , 0.6119659 , 0.43562597, 0.51493207,\n",
       "        0.26441076]])"
      ]
     },
     "execution_count": 57,
     "metadata": {},
     "output_type": "execute_result"
    }
   ],
   "source": [
    "train_windows[100]"
   ]
  },
  {
   "cell_type": "code",
   "execution_count": null,
   "id": "e4418854-9847-43b6-bb00-c5aef7c840c4",
   "metadata": {},
   "outputs": [],
   "source": []
  },
  {
   "cell_type": "code",
   "execution_count": null,
   "id": "835cb4ee-99b4-4b98-80bf-cda2d292a57e",
   "metadata": {},
   "outputs": [],
   "source": []
  },
  {
   "cell_type": "code",
   "execution_count": 58,
   "id": "9f19f58e-c853-4e92-8324-319dce04f609",
   "metadata": {},
   "outputs": [
    {
     "name": "stdout",
     "output_type": "stream",
     "text": [
      "Epoch 1/10\n",
      "31/31 [==============================] - 10s 254ms/step - loss: 1.3643 - accuracy: 0.3333\n",
      "Epoch 2/10\n",
      "31/31 [==============================] - 7s 235ms/step - loss: 1.1608 - accuracy: 0.3697\n",
      "Epoch 3/10\n",
      "31/31 [==============================] - 8s 258ms/step - loss: 1.1117 - accuracy: 0.3859\n",
      "Epoch 4/10\n",
      "31/31 [==============================] - 8s 251ms/step - loss: 1.0756 - accuracy: 0.4242\n",
      "Epoch 5/10\n",
      "31/31 [==============================] - 8s 262ms/step - loss: 1.0840 - accuracy: 0.4010\n",
      "Epoch 6/10\n",
      "31/31 [==============================] - 7s 228ms/step - loss: 1.0465 - accuracy: 0.4626\n",
      "Epoch 7/10\n",
      "31/31 [==============================] - 8s 270ms/step - loss: 1.0434 - accuracy: 0.4596\n",
      "Epoch 8/10\n",
      "31/31 [==============================] - 9s 282ms/step - loss: 0.9933 - accuracy: 0.4889\n",
      "Epoch 9/10\n",
      "31/31 [==============================] - 7s 241ms/step - loss: 0.9488 - accuracy: 0.5394\n",
      "Epoch 10/10\n",
      "31/31 [==============================] - 8s 274ms/step - loss: 0.8297 - accuracy: 0.6253\n"
     ]
    },
    {
     "data": {
      "text/plain": [
       "<keras.src.callbacks.History at 0x1a18107ee90>"
      ]
     },
     "execution_count": 58,
     "metadata": {},
     "output_type": "execute_result"
    }
   ],
   "source": [
    "model.fit(train_windows,train_labels,epochs=10)"
   ]
  },
  {
   "cell_type": "code",
   "execution_count": 59,
   "id": "8993fcec-d806-4545-a44b-3d53578a1b32",
   "metadata": {},
   "outputs": [
    {
     "data": {
      "text/plain": [
       "[<keras.src.metrics.base_metric.Mean at 0x1a1815307d0>,\n",
       " <keras.src.metrics.base_metric.MeanMetricWrapper at 0x1a184092550>]"
      ]
     },
     "execution_count": 59,
     "metadata": {},
     "output_type": "execute_result"
    }
   ],
   "source": [
    "model.metrics"
   ]
  },
  {
   "cell_type": "code",
   "execution_count": 60,
   "id": "fa498ee0-d63b-4cd0-97a3-0edaea8b0c2b",
   "metadata": {},
   "outputs": [],
   "source": [
    "training_graph=pd.DataFrame(model.history.history)"
   ]
  },
  {
   "cell_type": "code",
   "execution_count": null,
   "id": "2d17b788-2281-4644-802f-a15761143d5b",
   "metadata": {},
   "outputs": [],
   "source": []
  },
  {
   "cell_type": "code",
   "execution_count": 61,
   "id": "10ec4d68-452d-404a-bebe-5c551757741c",
   "metadata": {},
   "outputs": [
    {
     "data": {
      "text/plain": [
       "[<matplotlib.lines.Line2D at 0x1a181165b50>,\n",
       " <matplotlib.lines.Line2D at 0x1a18404b990>]"
      ]
     },
     "execution_count": 61,
     "metadata": {},
     "output_type": "execute_result"
    },
    {
     "data": {
      "image/png": "[encoded data removed]",
      "text/plain": [
       "<Figure size 640x480 with 1 Axes>"
      ]
     },
     "metadata": {},
     "output_type": "display_data"
    }
   ],
   "source": [
    "plt.plot(training_graph)"
   ]
  },
  {
   "cell_type": "code",
   "execution_count": 62,
   "id": "05df59da-b47e-471c-952f-30ecd95c8177",
   "metadata": {},
   "outputs": [],
   "source": [
    "#pred=model.predict_classes(x_test)"
   ]
  },
  {
   "cell_type": "code",
   "execution_count": 63,
   "id": "6bd9e2c1-4970-4103-9ad9-ca8693e9db10",
   "metadata": {},
   "outputs": [],
   "source": [
    "#from sklearn.metrics import confusion_matrix\n",
    "#from sklearn.metrics import classification_report\n",
    "#print(confusion_matrix(pred,y_test))\n",
    "\n"
   ]
  },
  {
   "cell_type": "code",
   "execution_count": 64,
   "id": "b8dc8ec7-6623-4674-bbe8-a1d43c844fca",
   "metadata": {},
   "outputs": [],
   "source": [
    "#print(classification_report(pred,y_test))\n",
    "\n",
    "##Precision is calculated by dividing the true positives by anything that was predicted as a positive. \n",
    "##Recall (or True Positive Rate) is calculated by dividing the true positives by anything that should have been predicted as positive."
   ]
  },
  {
   "cell_type": "code",
   "execution_count": null,
   "id": "65e3b042-b681-4ccf-9f54-4f17f57d64c0",
   "metadata": {},
   "outputs": [],
   "source": []
  },
  {
   "cell_type": "code",
   "execution_count": null,
   "id": "719c0556-b4a7-4a8c-8729-7831a3973965",
   "metadata": {},
   "outputs": [],
   "source": []
  },
  {
   "cell_type": "code",
   "execution_count": null,
   "id": "08e656b8-7f79-4219-8845-64ce549139d1",
   "metadata": {},
   "outputs": [],
   "source": []
  },
  {
   "cell_type": "code",
   "execution_count": null,
   "id": "2dce3729-f213-476e-ac02-aa0e6ebc6d07",
   "metadata": {},
   "outputs": [],
   "source": []
  },
  {
   "cell_type": "code",
   "execution_count": null,
   "id": "58f3aecc-6f96-4384-9752-a8c85e28ef44",
   "metadata": {},
   "outputs": [],
   "source": []
  }
 ],
 "metadata": {
  "kernelspec": {
   "display_name": "Python 3 (ipykernel)",
   "language": "python",
   "name": "python3"
  },
  "language_info": {
   "codemirror_mode": {
    "name": "ipython",
    "version": 3
   },
   "file_extension": ".py",
   "mimetype": "text/x-python",
   "name": "python",
   "nbconvert_exporter": "python",
   "pygments_lexer": "ipython3",
   "version": "3.11.4"
  }
 },
 "nbformat": 4,
 "nbformat_minor": 5
}
