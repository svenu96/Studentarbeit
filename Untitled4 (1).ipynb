{
  "cells": [
    {
      "cell_type": "code",
      "execution_count": 34,
      "metadata": {
        "id": "UE5tAJ0hsE-w"
      },
      "outputs": [],
      "source": [
        "import os\n",
        "import numpy as np\n",
        "import pandas as pd\n",
        "import matplotlib.pyplot as plt\n",
        "import seaborn as sns\n",
        "from sklearn import metrics\n",
        "from sklearn.ensemble import RandomForestClassifier\n",
        "from sklearn.model_selection import train_test_split, cross_val_score\n",
        "from sklearn.metrics import accuracy_score, f1_score\n",
        "from sklearn.metrics import confusion_matrix\n",
        "from sklearn.metrics import classification_report\n",
        "\n",
        "\n",
        "\n"
      ]
    },
    {
      "cell_type": "code",
      "source": [
        "# Define the path to your folder containing CSV files\n",
        "folder_path = '/content/drive/MyDrive/OCDetect_Export'\n",
        "\n",
        "# Define the number of CSV files to load\n",
        "num_files_to_load = 10  # Adjust this number to load the desired amount\n",
        "\n",
        "# Initialize a list to store loaded DataFrames\n",
        "dataframes = []\n",
        "\n",
        "# Counter to keep track of loaded files\n",
        "count = 0\n",
        "\n",
        "# Loop through the CSV files in the folder and load the specified number of files\n",
        "for filename in os.listdir(folder_path):\n",
        "    if filename.endswith('.csv'):\n",
        "        file_path = os.path.join(folder_path, filename)\n",
        "        file_dataframes = []\n",
        "\n",
        "        # Load the entire CSV file without chunking\n",
        "        df = pd.read_csv(file_path, engine='python')\n",
        "\n",
        "        #  preprocess the DataFrame here (e.g., dropping columns)\n",
        "        columns_to_drop = ['datetime', 'timestamp', 'user yes/no', 'compulsive', 'urge', 'tense', 'ignore']\n",
        "        df = df.drop(columns=columns_to_drop, errors='ignore')\n",
        "        dataframes.append(df)\n",
        "\n",
        "        count += 1\n",
        "\n",
        "        # Check if the desired number of files has been loaded\n",
        "        if count >= num_files_to_load:\n",
        "            break"
      ],
      "metadata": {
        "id": "sBJhiWitcLa2"
      },
      "execution_count": 32,
      "outputs": []
    },
    {
      "cell_type": "code",
      "execution_count": 16,
      "metadata": {
        "id": "VaD4ESfHyR4B",
        "colab": {
          "base_uri": "https://localhost:8080/"
        },
        "outputId": "ad2c5515-4cbe-456c-b12b-f1f62efa0e2d"
      },
      "outputs": [
        {
          "output_type": "stream",
          "name": "stdout",
          "text": [
            "Index(['acc x', 'acc y', 'acc z', 'gyro x', 'gyro y', 'gyro z', 'relabeled'], dtype='object')\n",
            "(593345, 7)\n",
            "Index(['acc x', 'acc y', 'acc z', 'gyro x', 'gyro y', 'gyro z', 'relabeled'], dtype='object')\n",
            "(384761, 7)\n",
            "Index(['acc x', 'acc y', 'acc z', 'gyro x', 'gyro y', 'gyro z', 'relabeled'], dtype='object')\n",
            "(1043597, 7)\n",
            "Index(['acc x', 'acc y', 'acc z', 'gyro x', 'gyro y', 'gyro z', 'relabeled'], dtype='object')\n",
            "(2867472, 7)\n",
            "Index(['acc x', 'acc y', 'acc z', 'gyro x', 'gyro y', 'gyro z', 'relabeled'], dtype='object')\n",
            "(6486245, 7)\n",
            "Index(['acc x', 'acc y', 'acc z', 'gyro x', 'gyro y', 'gyro z', 'relabeled'], dtype='object')\n",
            "(7490, 7)\n",
            "Index(['acc x', 'acc y', 'acc z', 'gyro x', 'gyro y', 'gyro z', 'relabeled'], dtype='object')\n",
            "(4261, 7)\n",
            "Index(['acc x', 'acc y', 'acc z', 'gyro x', 'gyro y', 'gyro z', 'relabeled'], dtype='object')\n",
            "(5202, 7)\n",
            "Index(['acc x', 'acc y', 'acc z', 'gyro x', 'gyro y', 'gyro z', 'relabeled'], dtype='object')\n",
            "(2566, 7)\n",
            "Index(['acc x', 'acc y', 'acc z', 'gyro x', 'gyro y', 'gyro z', 'relabeled'], dtype='object')\n",
            "(9014, 7)\n"
          ]
        }
      ],
      "source": [
        "if dataframes:\n",
        "    for i in range(len(dataframes)):\n",
        "        print(dataframes[i].columns)\n",
        "        print(dataframes[i].shape)\n"
      ]
    },
    {
      "cell_type": "code",
      "execution_count": 17,
      "metadata": {
        "colab": {
          "base_uri": "https://localhost:8080/"
        },
        "id": "tTBcg8UvFZJQ",
        "outputId": "a1c64019-6b8a-4ad4-98b1-d0996f95a46d"
      },
      "outputs": [
        {
          "output_type": "stream",
          "name": "stdout",
          "text": [
            "DataFrame : Sum of 'relabeled=2' = 0\n",
            "DataFrame : Sum of 'relabeled=1' = 0\n",
            "DataFrame : Sum of 'relabeled=2' = 0\n",
            "DataFrame : Sum of 'relabeled=1' = 0\n",
            "DataFrame : Sum of 'relabeled=2' = 5703\n",
            "DataFrame : Sum of 'relabeled=1' = 1901\n",
            "DataFrame : Sum of 'relabeled=2' = 11406\n",
            "DataFrame : Sum of 'relabeled=1' = 0\n",
            "DataFrame : Sum of 'relabeled=2' = 0\n",
            "DataFrame : Sum of 'relabeled=1' = 0\n",
            "DataFrame : Sum of 'relabeled=2' = 0\n",
            "DataFrame : Sum of 'relabeled=1' = 0\n",
            "DataFrame : Sum of 'relabeled=2' = 0\n",
            "DataFrame : Sum of 'relabeled=1' = 0\n",
            "DataFrame : Sum of 'relabeled=2' = 0\n",
            "DataFrame : Sum of 'relabeled=1' = 0\n",
            "DataFrame : Sum of 'relabeled=2' = 0\n",
            "DataFrame : Sum of 'relabeled=1' = 0\n",
            "DataFrame : Sum of 'relabeled=2' = 0\n",
            "DataFrame : Sum of 'relabeled=1' = 0\n"
          ]
        }
      ],
      "source": [
        "for df in dataframes:\n",
        "    sum_relabeled_2 = (df['relabeled'] == 2).sum()\n",
        "    print(f\"DataFrame : Sum of 'relabeled=2' = {sum_relabeled_2}\")\n",
        "    sum_relabeled_1 = (df['relabeled'] == 1).sum()\n",
        "    print(f\"DataFrame : Sum of 'relabeled=1' = {sum_relabeled_1}\")\n"
      ]
    },
    {
      "cell_type": "code",
      "execution_count": 18,
      "metadata": {
        "colab": {
          "base_uri": "https://localhost:8080/"
        },
        "id": "jzswx2Jdk0Gr",
        "outputId": "c025ce81-976a-47c8-a3f0-272a9f19ee73"
      },
      "outputs": [
        {
          "output_type": "stream",
          "name": "stdout",
          "text": [
            "17109\n",
            "1901\n",
            "11384943\n"
          ]
        }
      ],
      "source": [
        "\n",
        "c = 0\n",
        "ct = 0\n",
        "ct1 = 0\n",
        "\n",
        "\n",
        "for df in dataframes:\n",
        "    if 'relabeled' in df.columns:\n",
        "        c += (df['relabeled'] == 2).sum()\n",
        "        ct += (df['relabeled'] == 1).sum()\n",
        "        ct1 += (df['relabeled'] == 0).sum()\n",
        "\n",
        "\n",
        "print(c)\n",
        "print(ct)\n",
        "print(ct1)"
      ]
    },
    {
      "cell_type": "code",
      "source": [
        "from imblearn.under_sampling import RandomUnderSampler\n",
        "# Combine all the loaded DataFrames into one DataFrame\n",
        "combined_df = pd.concat(dataframes)\n",
        "print(combined_df.head())\n",
        "ranund = RandomUnderSampler(random_state=42)\n",
        "X_resampled, y_resampled = ranund.fit_resample(combined_df.drop(columns=['relabeled']),combined_df['relabeled'])\n",
        "# Create a new DataFrame with the resampled data and labels\n",
        "balanced_data = pd.DataFrame(X_resampled, columns=combined_df.drop(columns=['relabeled']).columns)\n",
        "print(balanced_data.shape)\n",
        "balanced_data['relabeled'] = y_resampled\n",
        "print(balanced_data.shape)\n",
        "# Split data into train and test sets\n",
        "train_data, test_data = train_test_split(balanced_data, test_size=0.4, random_state=42)\n",
        "test_data.value_counts()"
      ],
      "metadata": {
        "colab": {
          "base_uri": "https://localhost:8080/"
        },
        "id": "0WGASUjdW4eh",
        "outputId": "c1178a56-1536-47c8-8b68-94feffddc5fd"
      },
      "execution_count": 19,
      "outputs": [
        {
          "output_type": "stream",
          "name": "stdout",
          "text": [
            "      acc x     acc y     acc z    gyro x    gyro y    gyro z  relabeled\n",
            "0 -0.126936  0.057480  9.802815 -0.002443 -0.004887 -0.001222          0\n",
            "1 -0.136516  0.055085  9.814791 -0.002443 -0.004887 -0.001222          0\n",
            "2 -0.131726  0.050295  9.819580 -0.002443 -0.003665 -0.001222          0\n",
            "3 -0.126936  0.062271  9.826766 -0.002443 -0.004887 -0.001222          0\n",
            "4 -0.141306  0.069456  9.810000 -0.002443 -0.004887 -0.001222          0\n",
            "(5703, 6)\n",
            "(5703, 7)\n"
          ]
        },
        {
          "output_type": "execute_result",
          "data": {
            "text/plain": [
              "acc x       acc y      acc z       gyro x     gyro y     gyro z     relabeled\n",
              "-9.108259   -0.404758   4.014053   -0.003665  -0.006109  -0.003665  0            2\n",
              "-9.096285   -0.404758   4.011658   -0.002443  -0.004887  -0.003665  0            2\n",
              "            -0.409548   4.018843   -0.002443  -0.004887  -0.002443  0            2\n",
              "-9.098680   -0.404758   4.009263   -0.002443  -0.006109  -0.002443  0            2\n",
              "            -0.407153   4.002078   -0.003665  -0.006109  -0.002443  0            2\n",
              "                                                                                ..\n",
              "-2.074087   -9.347761   4.023633    0.767247  -0.834442  -1.164309  2            1\n",
              "-2.078877   -2.888394   3.484754   -0.120951  -0.208916   0.243124  2            1\n",
              "            -4.014053   12.238550  -0.634078  -0.189368   0.737925  2            1\n",
              "            -5.343289   6.631809    0.106291  -0.301767   0.277333  0            1\n",
              " 10.310559  -0.313748  -2.426155    1.535715   0.993267  -1.363451  0            1\n",
              "Length: 2273, dtype: int64"
            ]
          },
          "metadata": {},
          "execution_count": 19
        }
      ]
    },
    {
      "cell_type": "code",
      "source": [
        "# Sliding window size and step size\n",
        "window_size = 150\n",
        "step_size = 50\n",
        "\n",
        "# Lists to hold windowed data and labels\n",
        "trainw = []\n",
        "trainl = []\n",
        "\n",
        "data = train_data.values  # Convert DataFrame to numpy array\n",
        "num_train = len(data)\n",
        "\n",
        "# Create sliding windows and labels for training\n",
        "for i in range(0, num_train - window_size + 1, step_size):\n",
        "    window = data[i:i + window_size, :-1]  # Exclude the last column (label)\n",
        "    trainw.append(window)\n",
        "    label_window = data[i:i + window_size, -1]  # Label column in the window\n",
        "    # Majority voting for label\n",
        "    label_window = label_window.astype(int)  # Convert label column to integer\n",
        "    majority_label = np.bincount(label_window).argmax()\n",
        "    trainl.append(majority_label)\n",
        "# Convert train_windows and train_labels to numpy arrays\n",
        "train_window = np.array(trainw)\n",
        "train_label = np.array(trainl)"
      ],
      "metadata": {
        "id": "nvHN3l6LWK6O"
      },
      "execution_count": 20,
      "outputs": []
    },
    {
      "cell_type": "code",
      "source": [
        "# Reshape train_windows to a 2D array for training\n",
        "num_trainsamp, num_fea_trainsamp = train_window.shape[0], np.prod(train_window.shape[1:])\n",
        "train_window_reshaped = train_window.reshape(num_trainsamp, num_fea_trainsamp)\n",
        "#print(train_window_reshaped)\n",
        "\n",
        "# Initialize and train a RandomForestClassifier\n",
        "clf = RandomForestClassifier(n_estimators=10, random_state=42)\n",
        "\n",
        "clf.fit(train_window_reshaped, train_label)\n",
        "\n",
        "# Cross-validation\n",
        "cv_scores = cross_val_score(clf, train_window_reshaped, train_label, cv=5)\n",
        "print(\"Cross-Validation Scores:\", cv_scores)"
      ],
      "metadata": {
        "colab": {
          "base_uri": "https://localhost:8080/"
        },
        "id": "bkv_vqPwWSzU",
        "outputId": "ece45c2d-6107-4820-d9ab-4246deb2e832"
      },
      "execution_count": 21,
      "outputs": [
        {
          "output_type": "stream",
          "name": "stdout",
          "text": [
            "Cross-Validation Scores: [0.42857143 0.61538462 0.46153846 0.61538462 0.53846154]\n"
          ]
        }
      ]
    },
    {
      "cell_type": "code",
      "source": [
        "# Creating test windows and labels\n",
        "testw = []\n",
        "testl = []\n",
        "\n",
        "data1 = test_data.values  # Convert DataFrame to numpy array\n",
        "num_test = len(data1)\n",
        "\n",
        "# Create sliding windows and labels for testing\n",
        "for i in range(0, num_test - window_size + 1, step_size):\n",
        "    window = data1[i:i + window_size, :-1]  # Exclude the last column (label)\n",
        "    testw.append(window)\n",
        "    label_window = data1[i:i + window_size, -1]  # Label column in the window\n",
        "    # Majority voting for label\n",
        "    label_window = label_window.astype(int)  # Convert label column to integer\n",
        "    majority_label = np.bincount(label_window).argmax()\n",
        "    testl.append(majority_label)\n",
        "\n",
        "# Convert test windows and labels to numpy arrays\n",
        "test_windows = np.array(testw)\n",
        "test_labels = np.array(testl)"
      ],
      "metadata": {
        "id": "TiCwvSc5Wep9"
      },
      "execution_count": 22,
      "outputs": []
    },
    {
      "cell_type": "code",
      "source": [
        "# Reshape test_windows to a 2D array for testing\n",
        "num_testsamp, num_fea_testsamp = test_windows.shape[0], np.prod(test_windows.shape[1:])\n",
        "\n",
        "test_windows_reshaped = test_windows.reshape(num_testsamp, num_fea_testsamp)"
      ],
      "metadata": {
        "id": "bvZu_fkXWflE"
      },
      "execution_count": 23,
      "outputs": []
    },
    {
      "cell_type": "code",
      "source": [
        "# Predict\n",
        "prediction = clf.predict(test_windows_reshaped)\n",
        "\n",
        "# Calculate accuracy and F1 score\n",
        "accuracy = accuracy_score(test_labels, prediction)\n",
        "f1 = f1_score(test_labels, prediction, average='micro')\n",
        "# Create a confusion matrix\n",
        "cm = confusion_matrix(test_labels, prediction)\n",
        "print(\"confusion_matrix:\",cm)\n",
        "print(\"Accuracy:\", accuracy)\n",
        "print(\"F1 Score:\", f1)\n",
        "cm = metrics.confusion_matrix(test_labels, prediction)\n",
        "plt.figure(figsize=(5,5))\n",
        "sns.heatmap(cm, annot=True, fmt=\".3f\", linewidths=.5, square = True, cmap = 'Blues_r');\n",
        "plt.xlabel('Predicted label');\n",
        "plt.ylabel( 'Actual label');\n",
        "all_sample_title = 'Accuracy Score: {0}'.format(accuracy)\n",
        "plt.title(all_sample_title, size = 15);\n",
        "plt.savefig('random.png')\n",
        "print(classification_report(test_labels, prediction))"
      ],
      "metadata": {
        "colab": {
          "base_uri": "https://localhost:8080/",
          "height": 701
        },
        "id": "Pfq7RxOFWjII",
        "outputId": "9a6e5278-e483-4537-8f3e-30db885b3049"
      },
      "execution_count": 36,
      "outputs": [
        {
          "output_type": "stream",
          "name": "stdout",
          "text": [
            "confusion_matrix: [[ 4 10  7]\n",
            " [ 0  6  4]\n",
            " [ 0  7  5]]\n",
            "Accuracy: 0.3488372093023256\n",
            "F1 Score: 0.3488372093023256\n",
            "              precision    recall  f1-score   support\n",
            "\n",
            "           0       1.00      0.19      0.32        21\n",
            "           1       0.26      0.60      0.36        10\n",
            "           2       0.31      0.42      0.36        12\n",
            "\n",
            "    accuracy                           0.35        43\n",
            "   macro avg       0.52      0.40      0.35        43\n",
            "weighted avg       0.64      0.35      0.34        43\n",
            "\n"
          ]
        },
        {
          "output_type": "display_data",
          "data": {
            "text/plain": [
              "<Figure size 500x500 with 2 Axes>"
            ],
            "image/png": "[encoded data removed]"
          },
          "metadata": {}
        }
      ]
    }
  ],
  "metadata": {
    "colab": {
      "provenance": []
    },
    "kernelspec": {
      "display_name": "Python 3",
      "name": "python3"
    },
    "language_info": {
      "name": "python"
    }
  },
  "nbformat": 4,
  "nbformat_minor": 0
}