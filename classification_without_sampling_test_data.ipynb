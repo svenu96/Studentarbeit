{
  "cells": [
    {
      "cell_type": "code",
      "execution_count": 1,
      "metadata": {
        "id": "bJb5wuuOfUYQ"
      },
      "outputs": [],
      "source": [
        "#importing libraries required for the project\n",
        "import os\n",
        "import pandas as pd\n",
        "import numpy as np\n",
        "from sklearn.preprocessing import StandardScaler\n",
        "from sklearn.model_selection import train_test_split, cross_val_score\n",
        "from sklearn.ensemble import RandomForestClassifier\n",
        "from sklearn.linear_model import LogisticRegression\n",
        "from sklearn.naive_bayes import GaussianNB\n",
        "from sklearn.utils.class_weight import compute_class_weight\n",
        "from sklearn.svm import SVC\n",
        "from sklearn.metrics import accuracy_score, f1_score\n",
        "import matplotlib.pyplot as plt\n",
        "from sklearn.metrics import confusion_matrix\n",
        "from sklearn.metrics import classification_report\n",
        "from sklearn.cluster import KMeans\n"
      ]
    },
    {
      "cell_type": "code",
      "execution_count": 2,
      "metadata": {},
      "outputs": [],
      "source": [
        "data = pd.read_csv('D:/Project_hand_washing/OCDetect_Export/OCDetect_Export/OCDetect_03_recording_06_c076109d-651c-46c4-a745-5df8b383bec3.csv')"
      ]
    },
    {
      "cell_type": "markdown",
      "metadata": {},
      "source": [
        "Reading and processing data"
      ]
    },
    {
      "cell_type": "code",
      "execution_count": 185,
      "metadata": {},
      "outputs": [
        {
          "name": "stdout",
          "output_type": "stream",
          "text": [
            "<class 'pandas.core.frame.DataFrame'>\n",
            "RangeIndex: 2661186 entries, 0 to 2661185\n",
            "Data columns (total 14 columns):\n",
            " #   Column       Dtype  \n",
            "---  ------       -----  \n",
            " 0   timestamp    float64\n",
            " 1   datetime     object \n",
            " 2   acc x        float64\n",
            " 3   acc y        float64\n",
            " 4   acc z        float64\n",
            " 5   gyro x       float64\n",
            " 6   gyro y       float64\n",
            " 7   gyro z       float64\n",
            " 8   user yes/no  float64\n",
            " 9   compulsive   float64\n",
            " 10  urge         float64\n",
            " 11  tense        float64\n",
            " 12  ignore       int64  \n",
            " 13  relabeled    int64  \n",
            "dtypes: float64(11), int64(2), object(1)\n",
            "memory usage: 284.2+ MB\n"
          ]
        }
      ],
      "source": [
        "data.info()"
      ]
    },
    {
      "cell_type": "code",
      "execution_count": 3,
      "metadata": {
        "colab": {
          "base_uri": "https://localhost:8080/"
        },
        "id": "NyqlbtKKtbyK",
        "outputId": "66033099-0106-4085-cbf9-4b7da2dc8578"
      },
      "outputs": [
        {
          "name": "stdout",
          "output_type": "stream",
          "text": [
            "2626968\n",
            "22812\n",
            "11406\n"
          ]
        }
      ],
      "source": [
        "label_counts = data['relabeled'].value_counts()\n",
        "count_label_0 = label_counts.get(0, 0)  # Count of label 0, default to 0 if not found\n",
        "count_label_1 = label_counts.get(1, 0)  # Count of label 1, default to 0 if not found\n",
        "count_label_2 = label_counts.get(2, 0)  # Count of label 2, default to 0 if not found\n",
        "if(count_label_0 & count_label_1 & count_label_2):\n",
        "    print(count_label_0)\n",
        "    print(count_label_1)\n",
        "    print(count_label_2)"
      ]
    },
    {
      "cell_type": "code",
      "execution_count": 4,
      "metadata": {
        "colab": {
          "base_uri": "https://localhost:8080/"
        },
        "id": "ZqB3Hiu3zJWS",
        "outputId": "15800fc9-83fa-4a54-a15b-4a96b3045646"
      },
      "outputs": [],
      "source": [
        "filtered_data = data[(data['ignore'] == 0)]"
      ]
    },
    {
      "cell_type": "code",
      "execution_count": 5,
      "metadata": {},
      "outputs": [],
      "source": [
        "#new_data=data.drop(['timestamp','datetime','user yes/no','compulsive', 'urge', 'tense', 'ignore'],axis=1)\n",
        "new_data=filtered_data.drop(['timestamp','datetime','user yes/no','compulsive', 'urge', 'tense', 'ignore'],axis=1)"
      ]
    },
    {
      "cell_type": "code",
      "execution_count": 6,
      "metadata": {},
      "outputs": [],
      "source": [
        "features = new_data.drop(['relabeled'],axis=1)"
      ]
    },
    {
      "cell_type": "code",
      "execution_count": 7,
      "metadata": {
        "id": "AhgANLf62YGZ"
      },
      "outputs": [],
      "source": [
        "# choosing relabeled as label value\n",
        "label = new_data['relabeled']  # Create a 'label' column for majority voting"
      ]
    },
    {
      "cell_type": "code",
      "execution_count": 8,
      "metadata": {},
      "outputs": [
        {
          "name": "stdout",
          "output_type": "stream",
          "text": [
            "Number of train DataFrames: 1054463\n",
            "Number of test DataFrames: 702976\n"
          ]
        }
      ],
      "source": [
        "# Split data into train and test sets\n",
        "train_data, test_data = train_test_split(new_data, test_size=0.4, random_state=42)\n",
        "print(f\"Number of train DataFrames: {len(train_data)}\")\n",
        "print(f\"Number of test DataFrames: {len(test_data)}\")"
      ]
    },
    {
      "cell_type": "code",
      "execution_count": 9,
      "metadata": {},
      "outputs": [],
      "source": [
        "data_a=train_data[train_data[\"relabeled\"]==0][:6864]\n",
        "data_b=train_data[train_data[\"relabeled\"]==1][:6864]\n",
        "data_c=train_data[train_data[\"relabeled\"]==2][:6864]"
      ]
    },
    {
      "cell_type": "code",
      "execution_count": 10,
      "metadata": {},
      "outputs": [],
      "source": [
        "ttrain_final = pd.concat([data_a,data_b,data_c],axis=0)"
      ]
    },
    {
      "cell_type": "code",
      "execution_count": 11,
      "metadata": {},
      "outputs": [
        {
          "name": "stdout",
          "output_type": "stream",
          "text": [
            "689419\n",
            "9015\n",
            "4542\n"
          ]
        }
      ],
      "source": [
        "label_counts = test_data['relabeled'].value_counts()\n",
        "count_label_0 = label_counts.get(0, 0)  # Count of label 0, default to 0 if not found\n",
        "count_label_1 = label_counts.get(1, 0)  # Count of label 1, default to 0 if not found\n",
        "count_label_2 = label_counts.get(2, 0)  # Count of label 2, default to 0 if not found\n",
        "if(count_label_0 & count_label_1 & count_label_2):\n",
        "    print(count_label_0)\n",
        "    print(count_label_1)\n",
        "    print(count_label_2)"
      ]
    },
    {
      "cell_type": "markdown",
      "metadata": {},
      "source": [
        "### Creating sliding windows and majority voting"
      ]
    },
    {
      "cell_type": "code",
      "execution_count": 12,
      "metadata": {
        "id": "hD-xyaYU2xQa"
      },
      "outputs": [],
      "source": [
        "# Define window size\n",
        "window_size = 50\n",
        "stride = 10\n",
        "train_data_val = ttrain_final.values\n",
        "\n",
        "num_windows = len(train_data_val) - window_size + 1\n",
        "# Initialize lists to store windowed data and labels\n",
        "train_windows = []\n",
        "train_labels = []\n"
      ]
    },
    {
      "cell_type": "code",
      "execution_count": 13,
      "metadata": {},
      "outputs": [],
      "source": [
        "for i in range(0, num_windows, stride):\n",
        "    window = ttrain_final.iloc[i:i+window_size, :-1]   # Select only sensor axes columns\n",
        "    label_window = ttrain_final.iloc[i:i+window_size, -1]  # Select the label column for majority voting\n",
        "    majority_label = np.bincount(label_window).argmax()  # Majority voting\n",
        "    train_windows.append(window)  # Convert window to numpy array\n",
        "    train_labels.append(majority_label)"
      ]
    },
    {
      "cell_type": "code",
      "execution_count": 14,
      "metadata": {},
      "outputs": [
        {
          "name": "stdout",
          "output_type": "stream",
          "text": [
            "[[ 3.8344264e+00 -8.2652130e+00  4.6175980e+00 ...  4.0317092e-02\n",
            "   1.7104220e-02  3.6651902e-03]\n",
            " [ 3.0320950e+00 -6.4665530e-01  8.6053060e+00 ...  7.2448593e-01\n",
            "  -1.5638144e-01 -1.9058989e-01]\n",
            " [ 1.9160157e+00 -5.9420440e+00 -7.4030056e+00 ...  2.6878060e-02\n",
            "  -2.4434600e-03  3.6651902e-03]\n",
            " ...\n",
            " [-1.5974782e+00 -9.1753210e+00 -5.1516870e+00 ...  7.3303800e-01\n",
            "   4.9480066e-01 -1.1850781e-01]\n",
            " [ 1.2406201e+01  1.8441651e+00  1.1591895e+00 ...  4.7036606e-01\n",
            "  -9.7371880e-01 -4.4959664e-01]\n",
            " [-5.2019825e+00 -3.8990920e+00  3.2213013e+00 ...  1.2168431e+00\n",
            "   1.9058989e-01  3.8728842e-01]]\n",
            "3\n"
          ]
        }
      ],
      "source": [
        "\n",
        "train_windows = np.array(train_windows)\n",
        "train_labels = np.array(train_labels)\n",
        "# Flatten the sensor axes data in each window\n",
        "num_trainsamp, num_fea_trainsamp = train_windows.shape[0], np.prod(train_windows.shape[1:])\n",
        "train_windows_reshaped = train_windows.reshape(num_trainsamp, num_fea_trainsamp)\n",
        "print(train_windows_reshaped)\n",
        "print(len(np.unique(train_labels)))\n"
      ]
    },
    {
      "cell_type": "code",
      "execution_count": 15,
      "metadata": {},
      "outputs": [
        {
          "name": "stdout",
          "output_type": "stream",
          "text": [
            "(2055, 300)\n",
            "(2055,)\n"
          ]
        }
      ],
      "source": [
        "print(train_windows_reshaped.shape)\n",
        "print(train_labels.shape)"
      ]
    },
    {
      "cell_type": "code",
      "execution_count": 16,
      "metadata": {},
      "outputs": [],
      "source": [
        "import random\n"
      ]
    },
    {
      "cell_type": "code",
      "execution_count": 17,
      "metadata": {},
      "outputs": [],
      "source": [
        "# Generate windows and labels using a sliding window approach\n",
        "window = []\n",
        "label_window = []\n",
        "test_windows = []\n",
        "test_labels = []\n",
        "for i in range(0,len(test_data)-window_size+1,stride):\n",
        "    window = test_data.iloc[i:i+window_size, :-1]  # Select only sensor axes columns\n",
        "    test_windows.append(window)\n",
        "    label_window = test_data.iloc[i:i+window_size,-1]  # Select the label column for majority voting\n",
        "    majority_label = random.choice([0, 1, 2])  # Majority voting\n",
        "    test_labels.append(majority_label)"
      ]
    },
    {
      "cell_type": "code",
      "execution_count": 18,
      "metadata": {},
      "outputs": [
        {
          "name": "stdout",
          "output_type": "stream",
          "text": [
            "[[ 8.1789920e+00 -6.1360400e+00  5.9923390e+00 ...  1.7104220e-01\n",
            "  -1.4795151e+00 -1.1777477e+00]\n",
            " [ 2.1794678e-01 -1.3206139e+01 -5.4055595e+00 ...  8.1855910e-02\n",
            "  -4.2760550e-02  5.2534390e-02]\n",
            " [ 7.3718705e+00  4.6175980e+00 -1.0777588e-01 ...  6.1086502e-02\n",
            "   7.8312890e-01 -2.3945908e-01]\n",
            " ...\n",
            " [-1.2286451e+00 -6.9168167e+00 -7.7143583e+00 ...  2.1991141e-02\n",
            "   1.9535463e+00  9.8104920e-01]\n",
            " [-6.3491970e+00 -6.0546100e+00  4.6439430e+00 ... -1.2217300e-03\n",
            "  -1.2217300e-02  8.5521100e-03]\n",
            " [-6.3348270e+00 -6.6797100e+00  3.8344264e+00 ...  9.9693170e-01\n",
            "   1.3341292e+00 -2.8099790e-02]]\n",
            "3\n"
          ]
        }
      ],
      "source": [
        "test_windows = np.array(test_windows)\n",
        "test_labels = np.array(test_labels)\n",
        "# Flatten the sensor axes data in each window\n",
        "num_trainsamp, num_fea_trainsamp = test_windows.shape[0], np.prod(test_windows.shape[1:])\n",
        "test_windows_reshaped = test_windows.reshape(num_trainsamp, num_fea_trainsamp)\n",
        "print(test_windows_reshaped)\n",
        "print(len(np.unique(test_labels)))"
      ]
    },
    {
      "cell_type": "code",
      "execution_count": 19,
      "metadata": {},
      "outputs": [
        {
          "name": "stdout",
          "output_type": "stream",
          "text": [
            "(2055, 300)\n",
            "(2055,)\n"
          ]
        }
      ],
      "source": [
        "print(train_windows_reshaped.shape)\n",
        "print(train_labels.shape)"
      ]
    },
    {
      "cell_type": "markdown",
      "metadata": {},
      "source": [
        "Random Forest Classifier"
      ]
    },
    {
      "cell_type": "code",
      "execution_count": 20,
      "metadata": {},
      "outputs": [
        {
          "data": {
            "text/html": [
              "<style>#sk-container-id-1 {color: black;}#sk-container-id-1 pre{padding: 0;}#sk-container-id-1 div.sk-toggleable {background-color: white;}#sk-container-id-1 label.sk-toggleable__label {cursor: pointer;display: block;width: 100%;margin-bottom: 0;padding: 0.3em;box-sizing: border-box;text-align: center;}#sk-container-id-1 label.sk-toggleable__label-arrow:before {content: \"▸\";float: left;margin-right: 0.25em;color: #696969;}#sk-container-id-1 label.sk-toggleable__label-arrow:hover:before {color: black;}#sk-container-id-1 div.sk-estimator:hover label.sk-toggleable__label-arrow:before {color: black;}#sk-container-id-1 div.sk-toggleable__content {max-height: 0;max-width: 0;overflow: hidden;text-align: left;background-color: #f0f8ff;}#sk-container-id-1 div.sk-toggleable__content pre {margin: 0.2em;color: black;border-radius: 0.25em;background-color: #f0f8ff;}#sk-container-id-1 input.sk-toggleable__control:checked~div.sk-toggleable__content {max-height: 200px;max-width: 100%;overflow: auto;}#sk-container-id-1 input.sk-toggleable__control:checked~label.sk-toggleable__label-arrow:before {content: \"▾\";}#sk-container-id-1 div.sk-estimator input.sk-toggleable__control:checked~label.sk-toggleable__label {background-color: #d4ebff;}#sk-container-id-1 div.sk-label input.sk-toggleable__control:checked~label.sk-toggleable__label {background-color: #d4ebff;}#sk-container-id-1 input.sk-hidden--visually {border: 0;clip: rect(1px 1px 1px 1px);clip: rect(1px, 1px, 1px, 1px);height: 1px;margin: -1px;overflow: hidden;padding: 0;position: absolute;width: 1px;}#sk-container-id-1 div.sk-estimator {font-family: monospace;background-color: #f0f8ff;border: 1px dotted black;border-radius: 0.25em;box-sizing: border-box;margin-bottom: 0.5em;}#sk-container-id-1 div.sk-estimator:hover {background-color: #d4ebff;}#sk-container-id-1 div.sk-parallel-item::after {content: \"\";width: 100%;border-bottom: 1px solid gray;flex-grow: 1;}#sk-container-id-1 div.sk-label:hover label.sk-toggleable__label {background-color: #d4ebff;}#sk-container-id-1 div.sk-serial::before {content: \"\";position: absolute;border-left: 1px solid gray;box-sizing: border-box;top: 0;bottom: 0;left: 50%;z-index: 0;}#sk-container-id-1 div.sk-serial {display: flex;flex-direction: column;align-items: center;background-color: white;padding-right: 0.2em;padding-left: 0.2em;position: relative;}#sk-container-id-1 div.sk-item {position: relative;z-index: 1;}#sk-container-id-1 div.sk-parallel {display: flex;align-items: stretch;justify-content: center;background-color: white;position: relative;}#sk-container-id-1 div.sk-item::before, #sk-container-id-1 div.sk-parallel-item::before {content: \"\";position: absolute;border-left: 1px solid gray;box-sizing: border-box;top: 0;bottom: 0;left: 50%;z-index: -1;}#sk-container-id-1 div.sk-parallel-item {display: flex;flex-direction: column;z-index: 1;position: relative;background-color: white;}#sk-container-id-1 div.sk-parallel-item:first-child::after {align-self: flex-end;width: 50%;}#sk-container-id-1 div.sk-parallel-item:last-child::after {align-self: flex-start;width: 50%;}#sk-container-id-1 div.sk-parallel-item:only-child::after {width: 0;}#sk-container-id-1 div.sk-dashed-wrapped {border: 1px dashed gray;margin: 0 0.4em 0.5em 0.4em;box-sizing: border-box;padding-bottom: 0.4em;background-color: white;}#sk-container-id-1 div.sk-label label {font-family: monospace;font-weight: bold;display: inline-block;line-height: 1.2em;}#sk-container-id-1 div.sk-label-container {text-align: center;}#sk-container-id-1 div.sk-container {/* jupyter's `normalize.less` sets `[hidden] { display: none; }` but bootstrap.min.css set `[hidden] { display: none !important; }` so we also need the `!important` here to be able to override the default hidden behavior on the sphinx rendered scikit-learn.org. See: https://github.com/scikit-learn/scikit-learn/issues/21755 */display: inline-block !important;position: relative;}#sk-container-id-1 div.sk-text-repr-fallback {display: none;}</style><div id=\"sk-container-id-1\" class=\"sk-top-container\"><div class=\"sk-text-repr-fallback\"><pre>RandomForestClassifier(class_weight=&#x27;balanced&#x27;, max_depth=9,\n",
              "                       min_samples_split=12, n_estimators=10, random_state=6)</pre><b>In a Jupyter environment, please rerun this cell to show the HTML representation or trust the notebook. <br />On GitHub, the HTML representation is unable to render, please try loading this page with nbviewer.org.</b></div><div class=\"sk-container\" hidden><div class=\"sk-item\"><div class=\"sk-estimator sk-toggleable\"><input class=\"sk-toggleable__control sk-hidden--visually\" id=\"sk-estimator-id-1\" type=\"checkbox\" checked><label for=\"sk-estimator-id-1\" class=\"sk-toggleable__label sk-toggleable__label-arrow\">RandomForestClassifier</label><div class=\"sk-toggleable__content\"><pre>RandomForestClassifier(class_weight=&#x27;balanced&#x27;, max_depth=9,\n",
              "                       min_samples_split=12, n_estimators=10, random_state=6)</pre></div></div></div></div></div>"
            ],
            "text/plain": [
              "RandomForestClassifier(class_weight='balanced', max_depth=9,\n",
              "                       min_samples_split=12, n_estimators=10, random_state=6)"
            ]
          },
          "execution_count": 20,
          "metadata": {},
          "output_type": "execute_result"
        }
      ],
      "source": [
        "clf = RandomForestClassifier(n_estimators=10,max_depth=9, random_state=6, class_weight='balanced',min_samples_split=12)\n",
        "clf.fit(train_windows_reshaped, train_labels)"
      ]
    },
    {
      "cell_type": "code",
      "execution_count": 21,
      "metadata": {},
      "outputs": [
        {
          "name": "stdout",
          "output_type": "stream",
          "text": [
            "0.3318111333987737\n",
            "              precision    recall  f1-score   support\n",
            "\n",
            "           0       0.33      0.75      0.46     23360\n",
            "           1       0.34      0.10      0.16     23460\n",
            "           2       0.33      0.14      0.20     23473\n",
            "\n",
            "    accuracy                           0.33     70293\n",
            "   macro avg       0.33      0.33      0.27     70293\n",
            "weighted avg       0.33      0.33      0.27     70293\n",
            "\n"
          ]
        }
      ],
      "source": [
        "# Make predictions on the test set with SVM\n",
        "y_pred = clf.predict(test_windows_reshaped)\n",
        "\n",
        "# Evaluate the model\n",
        "accuracy = accuracy_score(test_labels, y_pred)\n",
        "print(accuracy)\n",
        "\n",
        "report = classification_report(test_labels, y_pred)\n",
        "# Print the report\n",
        "print(report)"
      ]
    },
    {
      "cell_type": "markdown",
      "metadata": {},
      "source": [
        "## Naives Bayes"
      ]
    },
    {
      "cell_type": "code",
      "execution_count": 22,
      "metadata": {},
      "outputs": [
        {
          "name": "stdout",
          "output_type": "stream",
          "text": [
            "Cross-Validation Scores: [0.67445255 0.6350365  0.6379562 ]\n"
          ]
        }
      ],
      "source": [
        "# Create and train a Gaussian Naive Bayes classifier\n",
        "# Calculate class weights\n",
        "class_weights = compute_class_weight('balanced', classes=np.unique(train_labels), y=train_labels)\n",
        "class_weights /= class_weights.sum()\n",
        "# Create a dictionary to map class labels to their corresponding weights\n",
        "class_weight_dict = dict(zip(np.unique(test_labels), class_weights))\n",
        "NBclf = GaussianNB(priors=class_weights)\n",
        "NBclf.fit(train_windows_reshaped, train_labels)\n",
        "\n",
        "# Cross-validation\n",
        "cv_scores = cross_val_score(NBclf, train_windows_reshaped, train_labels, cv=3)\n",
        "print(\"Cross-Validation Scores:\", cv_scores)"
      ]
    },
    {
      "cell_type": "code",
      "execution_count": 23,
      "metadata": {},
      "outputs": [
        {
          "name": "stdout",
          "output_type": "stream",
          "text": [
            "Test Accuracy: 0.3323\n",
            "              precision    recall  f1-score   support\n",
            "\n",
            "           0       0.33      0.92      0.49     23360\n",
            "           1       0.33      0.04      0.07     23460\n",
            "           2       0.32      0.05      0.08     23473\n",
            "\n",
            "    accuracy                           0.33     70293\n",
            "   macro avg       0.33      0.33      0.21     70293\n",
            "weighted avg       0.33      0.33      0.21     70293\n",
            "\n"
          ]
        }
      ],
      "source": [
        "# Evaluate the model\n",
        "y_pred = NBclf.predict(test_windows_reshaped)\n",
        "accuracy = accuracy_score(test_labels, y_pred)\n",
        "print(f'Test Accuracy: {accuracy:.4f}')\n",
        "report = classification_report(test_labels, y_pred)\n",
        "# Print the report\n",
        "print(report)"
      ]
    },
    {
      "cell_type": "markdown",
      "metadata": {},
      "source": [
        "## Logistic Regression"
      ]
    },
    {
      "cell_type": "code",
      "execution_count": 24,
      "metadata": {},
      "outputs": [
        {
          "name": "stderr",
          "output_type": "stream",
          "text": [
            "c:\\Users\\sruth\\anaconda3\\envs\\myenv\\lib\\site-packages\\sklearn\\linear_model\\_logistic.py:460: ConvergenceWarning: lbfgs failed to converge (status=1):\n",
            "STOP: TOTAL NO. of ITERATIONS REACHED LIMIT.\n",
            "\n",
            "Increase the number of iterations (max_iter) or scale the data as shown in:\n",
            "    https://scikit-learn.org/stable/modules/preprocessing.html\n",
            "Please also refer to the documentation for alternative solver options:\n",
            "    https://scikit-learn.org/stable/modules/linear_model.html#logistic-regression\n",
            "  n_iter_i = _check_optimize_result(\n"
          ]
        },
        {
          "data": {
            "text/html": [
              "<style>#sk-container-id-2 {color: black;}#sk-container-id-2 pre{padding: 0;}#sk-container-id-2 div.sk-toggleable {background-color: white;}#sk-container-id-2 label.sk-toggleable__label {cursor: pointer;display: block;width: 100%;margin-bottom: 0;padding: 0.3em;box-sizing: border-box;text-align: center;}#sk-container-id-2 label.sk-toggleable__label-arrow:before {content: \"▸\";float: left;margin-right: 0.25em;color: #696969;}#sk-container-id-2 label.sk-toggleable__label-arrow:hover:before {color: black;}#sk-container-id-2 div.sk-estimator:hover label.sk-toggleable__label-arrow:before {color: black;}#sk-container-id-2 div.sk-toggleable__content {max-height: 0;max-width: 0;overflow: hidden;text-align: left;background-color: #f0f8ff;}#sk-container-id-2 div.sk-toggleable__content pre {margin: 0.2em;color: black;border-radius: 0.25em;background-color: #f0f8ff;}#sk-container-id-2 input.sk-toggleable__control:checked~div.sk-toggleable__content {max-height: 200px;max-width: 100%;overflow: auto;}#sk-container-id-2 input.sk-toggleable__control:checked~label.sk-toggleable__label-arrow:before {content: \"▾\";}#sk-container-id-2 div.sk-estimator input.sk-toggleable__control:checked~label.sk-toggleable__label {background-color: #d4ebff;}#sk-container-id-2 div.sk-label input.sk-toggleable__control:checked~label.sk-toggleable__label {background-color: #d4ebff;}#sk-container-id-2 input.sk-hidden--visually {border: 0;clip: rect(1px 1px 1px 1px);clip: rect(1px, 1px, 1px, 1px);height: 1px;margin: -1px;overflow: hidden;padding: 0;position: absolute;width: 1px;}#sk-container-id-2 div.sk-estimator {font-family: monospace;background-color: #f0f8ff;border: 1px dotted black;border-radius: 0.25em;box-sizing: border-box;margin-bottom: 0.5em;}#sk-container-id-2 div.sk-estimator:hover {background-color: #d4ebff;}#sk-container-id-2 div.sk-parallel-item::after {content: \"\";width: 100%;border-bottom: 1px solid gray;flex-grow: 1;}#sk-container-id-2 div.sk-label:hover label.sk-toggleable__label {background-color: #d4ebff;}#sk-container-id-2 div.sk-serial::before {content: \"\";position: absolute;border-left: 1px solid gray;box-sizing: border-box;top: 0;bottom: 0;left: 50%;z-index: 0;}#sk-container-id-2 div.sk-serial {display: flex;flex-direction: column;align-items: center;background-color: white;padding-right: 0.2em;padding-left: 0.2em;position: relative;}#sk-container-id-2 div.sk-item {position: relative;z-index: 1;}#sk-container-id-2 div.sk-parallel {display: flex;align-items: stretch;justify-content: center;background-color: white;position: relative;}#sk-container-id-2 div.sk-item::before, #sk-container-id-2 div.sk-parallel-item::before {content: \"\";position: absolute;border-left: 1px solid gray;box-sizing: border-box;top: 0;bottom: 0;left: 50%;z-index: -1;}#sk-container-id-2 div.sk-parallel-item {display: flex;flex-direction: column;z-index: 1;position: relative;background-color: white;}#sk-container-id-2 div.sk-parallel-item:first-child::after {align-self: flex-end;width: 50%;}#sk-container-id-2 div.sk-parallel-item:last-child::after {align-self: flex-start;width: 50%;}#sk-container-id-2 div.sk-parallel-item:only-child::after {width: 0;}#sk-container-id-2 div.sk-dashed-wrapped {border: 1px dashed gray;margin: 0 0.4em 0.5em 0.4em;box-sizing: border-box;padding-bottom: 0.4em;background-color: white;}#sk-container-id-2 div.sk-label label {font-family: monospace;font-weight: bold;display: inline-block;line-height: 1.2em;}#sk-container-id-2 div.sk-label-container {text-align: center;}#sk-container-id-2 div.sk-container {/* jupyter's `normalize.less` sets `[hidden] { display: none; }` but bootstrap.min.css set `[hidden] { display: none !important; }` so we also need the `!important` here to be able to override the default hidden behavior on the sphinx rendered scikit-learn.org. See: https://github.com/scikit-learn/scikit-learn/issues/21755 */display: inline-block !important;position: relative;}#sk-container-id-2 div.sk-text-repr-fallback {display: none;}</style><div id=\"sk-container-id-2\" class=\"sk-top-container\"><div class=\"sk-text-repr-fallback\"><pre>LogisticRegression(random_state=42)</pre><b>In a Jupyter environment, please rerun this cell to show the HTML representation or trust the notebook. <br />On GitHub, the HTML representation is unable to render, please try loading this page with nbviewer.org.</b></div><div class=\"sk-container\" hidden><div class=\"sk-item\"><div class=\"sk-estimator sk-toggleable\"><input class=\"sk-toggleable__control sk-hidden--visually\" id=\"sk-estimator-id-2\" type=\"checkbox\" checked><label for=\"sk-estimator-id-2\" class=\"sk-toggleable__label sk-toggleable__label-arrow\">LogisticRegression</label><div class=\"sk-toggleable__content\"><pre>LogisticRegression(random_state=42)</pre></div></div></div></div></div>"
            ],
            "text/plain": [
              "LogisticRegression(random_state=42)"
            ]
          },
          "execution_count": 24,
          "metadata": {},
          "output_type": "execute_result"
        }
      ],
      "source": [
        "lclf = LogisticRegression(random_state=42)\n",
        "lclf.fit(train_windows_reshaped, train_labels)"
      ]
    },
    {
      "cell_type": "code",
      "execution_count": 25,
      "metadata": {},
      "outputs": [
        {
          "name": "stdout",
          "output_type": "stream",
          "text": [
            "0.3338739277026162\n",
            "              precision    recall  f1-score   support\n",
            "\n",
            "           0       0.33      0.78      0.47     23360\n",
            "           1       0.35      0.08      0.13     23460\n",
            "           2       0.33      0.14      0.20     23473\n",
            "\n",
            "    accuracy                           0.33     70293\n",
            "   macro avg       0.34      0.33      0.27     70293\n",
            "weighted avg       0.34      0.33      0.27     70293\n",
            "\n"
          ]
        }
      ],
      "source": [
        "# Make predictions on the test set with logistic regression\n",
        "y_pred = lclf.predict(test_windows_reshaped)\n",
        "\n",
        "# Evaluate the model\n",
        "accuracy = accuracy_score(test_labels, y_pred)\n",
        "print(accuracy)\n",
        "\n",
        "report = classification_report(test_labels, y_pred)\n",
        "# Print the report\n",
        "print(report)"
      ]
    },
    {
      "cell_type": "code",
      "execution_count": 26,
      "metadata": {},
      "outputs": [
        {
          "name": "stdout",
          "output_type": "stream",
          "text": [
            "0.3338739277026162\n",
            "              precision    recall  f1-score   support\n",
            "\n",
            "           0       0.33      0.78      0.47     23360\n",
            "           1       0.35      0.08      0.13     23460\n",
            "           2       0.33      0.14      0.20     23473\n",
            "\n",
            "    accuracy                           0.33     70293\n",
            "   macro avg       0.34      0.33      0.27     70293\n",
            "weighted avg       0.34      0.33      0.27     70293\n",
            "\n"
          ]
        }
      ],
      "source": [
        "import xgboost as xgb\n",
        "xgb_classifier = xgb.XGBClassifier()\n",
        "xgb_classifier.fit(train_windows_reshaped, train_labels)\n",
        "\n",
        "# Predictions\n",
        "xgb_predictions = xgb_classifier.predict(test_windows_reshaped)\n",
        "# Evaluate the model\n",
        "accuracy = accuracy_score(test_labels, y_pred)\n",
        "print(accuracy)\n",
        "\n",
        "report = classification_report(test_labels, y_pred)\n",
        "# Print the report\n",
        "print(report)"
      ]
    }
  ],
  "metadata": {
    "colab": {
      "provenance": []
    },
    "kernelspec": {
      "display_name": "Python 3",
      "name": "python3"
    },
    "language_info": {
      "codemirror_mode": {
        "name": "ipython",
        "version": 3
      },
      "file_extension": ".py",
      "mimetype": "text/x-python",
      "name": "python",
      "nbconvert_exporter": "python",
      "pygments_lexer": "ipython3",
      "version": "3.8.18"
    }
  },
  "nbformat": 4,
  "nbformat_minor": 0
}
